{
 "cells": [
  {
   "cell_type": "code",
   "execution_count": 1,
   "metadata": {},
   "outputs": [
    {
     "name": "stdout",
     "output_type": "stream",
     "text": [
      "id1 <class 'str'>\n",
      "id2 <class 'str'>\n",
      "id3 <class 'str'>\n",
      "id4 <class 'str'>\n",
      "id5 <class 'str'>\n"
     ]
    }
   ],
   "source": [
    "from tkinter import *\n",
    "from tkinter import ttk\n",
    "from tkinter import messagebox\n",
    "\n",
    "root = Tk()\n",
    "\n",
    "def click_tv(event):\n",
    "    ety.delete(0, 'end')\n",
    "    ety.insert(0, tv.selection())\n",
    "\n",
    "def dclick_tv(event):\n",
    "    item = tv.item(tv.focus())\n",
    "    messagebox.showinfo(message=item)\n",
    "\n",
    "# 测试双击 treeview\n",
    "tv = ttk.Treeview(root, selectmode='browse', show='tree')\n",
    "tv.pack()\n",
    "tv['columns'] = ('aaa')\n",
    "tv['displaycolumns'] = []\n",
    "\n",
    "tv.bind('<<TreeviewSelect>>', click_tv)\n",
    "tv.bind('<Double-Button-1>', dclick_tv)\n",
    "tv.insert('', 'end', 'id1', text='Item1', values=1)\n",
    "tv.insert('id1', 'end', 'id11', text='Item1.1', values=1.1)\n",
    "tv.insert('id1', 'end', 'id12', text='Item1.2')\n",
    "tv.insert('id1', 'end', 'id13', text='Item1.3')\n",
    "tv.insert('', 'end', 'id2', text='Item2')\n",
    "tv.insert('', 'end', 'id3', text='Item3')\n",
    "tv.insert('', 'end', 'id4', text='Item4')\n",
    "tv.insert('', 'end', 'id5', text='Item5')\n",
    "\n",
    "x = tv.get_children()\n",
    "for item in x:\n",
    "    print(item, type(item))\n",
    "\n",
    "ety = ttk.Entry(root)\n",
    "ety.pack()\n",
    "\n",
    "def change_value(event):\n",
    "    value = ety.get()\n",
    "    messagebox.showinfo(message=tv.selection())\n",
    "    tv.set(tv.selection(), 'aaa', value=(value))\n",
    "\n",
    "ety.bind('<Return>', change_value)\n",
    "\n",
    "root.mainloop()\n"
   ]
  },
  {
   "cell_type": "code",
   "execution_count": 6,
   "metadata": {},
   "outputs": [],
   "source": [
    "# 下拉菜单\n",
    "\n",
    "from tkinter import *\n",
    "from tkinter import ttk\n",
    "from tkinter import messagebox\n",
    "\n",
    "root = Tk()\n",
    "\n",
    "menubtn = Menubutton(root, text='en-us')\n",
    "# menubtn = Menubutton(root, text='en-us', relief='sunk')\n",
    "\n",
    "menubtn.grid(padx=100, pady=50)\n",
    "\n",
    "filemenu=Menu(menubtn, tearoff=False)\n",
    "filemenu.add_command(label='English')\n",
    "filemenu.add_command(label='中文')\n",
    "\n",
    "menubtn.config(menu=filemenu)\n",
    "\n",
    "\n",
    "root.mainloop()\n"
   ]
  },
  {
   "cell_type": "code",
   "execution_count": null,
   "metadata": {},
   "outputs": [],
   "source": [
    "from tkinter import *\n",
    "from tkinter import ttk\n",
    "from tkinter import messagebox\n",
    "\n",
    "root = Tk()\n",
    "\n",
    "\n",
    "\n",
    "root.mainloop()\n"
   ]
  },
  {
   "cell_type": "code",
   "execution_count": 23,
   "metadata": {},
   "outputs": [
    {
     "name": "stdout",
     "output_type": "stream",
     "text": [
      "Not in lambda lang1\n",
      "Not in lambda lang2\n",
      "lang2\n",
      "lang2\n",
      "{'lang1': <function <lambda> at 0x000001DA60A2A7A0>, 'lang2': <function <lambda> at 0x000001DA612215A0>}\n",
      "lang1\n",
      "lang2\n",
      "{'lang1': <function <lambda> at 0x000001DA612237F0>, 'lang2': <function <lambda> at 0x000001DA612232E0>}\n"
     ]
    },
    {
     "ename": "IndexError",
     "evalue": "list index out of range",
     "output_type": "error",
     "traceback": [
      "\u001b[1;31m---------------------------------------------------------------------------\u001b[0m",
      "\u001b[1;31mIndexError\u001b[0m                                Traceback (most recent call last)",
      "\u001b[1;32md:\\Users\\Andrew\\文档\\Python\\ML-Exercises\\PlayGround\\GUI-tk-playground.ipynb 单元格 4\u001b[0m in \u001b[0;36m<cell line: 19>\u001b[1;34m()\u001b[0m\n\u001b[0;32m     <a href='vscode-notebook-cell:/d%3A/Users/Andrew/%E6%96%87%E6%A1%A3/Python/ML-Exercises/PlayGround/GUI-tk-playground.ipynb#W4sZmlsZQ%3D%3D?line=17'>18</a>\u001b[0m \u001b[39mprint\u001b[39m(langc)\n\u001b[0;32m     <a href='vscode-notebook-cell:/d%3A/Users/Andrew/%E6%96%87%E6%A1%A3/Python/ML-Exercises/PlayGround/GUI-tk-playground.ipynb#W4sZmlsZQ%3D%3D?line=18'>19</a>\u001b[0m \u001b[39mfor\u001b[39;00m f \u001b[39min\u001b[39;00m langc:\n\u001b[1;32m---> <a href='vscode-notebook-cell:/d%3A/Users/Andrew/%E6%96%87%E6%A1%A3/Python/ML-Exercises/PlayGround/GUI-tk-playground.ipynb#W4sZmlsZQ%3D%3D?line=19'>20</a>\u001b[0m     langc[f]()\n",
      "\u001b[1;32md:\\Users\\Andrew\\文档\\Python\\ML-Exercises\\PlayGround\\GUI-tk-playground.ipynb 单元格 4\u001b[0m in \u001b[0;36m<lambda>\u001b[1;34m()\u001b[0m\n\u001b[0;32m     <a href='vscode-notebook-cell:/d%3A/Users/Andrew/%E6%96%87%E6%A1%A3/Python/ML-Exercises/PlayGround/GUI-tk-playground.ipynb#W4sZmlsZQ%3D%3D?line=12'>13</a>\u001b[0m i \u001b[39m=\u001b[39m \u001b[39m0\u001b[39m\n\u001b[0;32m     <a href='vscode-notebook-cell:/d%3A/Users/Andrew/%E6%96%87%E6%A1%A3/Python/ML-Exercises/PlayGround/GUI-tk-playground.ipynb#W4sZmlsZQ%3D%3D?line=13'>14</a>\u001b[0m \u001b[39mwhile\u001b[39;00m i \u001b[39m<\u001b[39m \u001b[39mlen\u001b[39m(languages):\n\u001b[1;32m---> <a href='vscode-notebook-cell:/d%3A/Users/Andrew/%E6%96%87%E6%A1%A3/Python/ML-Exercises/PlayGround/GUI-tk-playground.ipynb#W4sZmlsZQ%3D%3D?line=14'>15</a>\u001b[0m     langc[languages[i]] \u001b[39m=\u001b[39m \u001b[39mlambda\u001b[39;00m: \u001b[39mprint\u001b[39m(languages[i])\n\u001b[0;32m     <a href='vscode-notebook-cell:/d%3A/Users/Andrew/%E6%96%87%E6%A1%A3/Python/ML-Exercises/PlayGround/GUI-tk-playground.ipynb#W4sZmlsZQ%3D%3D?line=15'>16</a>\u001b[0m     \u001b[39mprint\u001b[39m(languages[i])\n\u001b[0;32m     <a href='vscode-notebook-cell:/d%3A/Users/Andrew/%E6%96%87%E6%A1%A3/Python/ML-Exercises/PlayGround/GUI-tk-playground.ipynb#W4sZmlsZQ%3D%3D?line=16'>17</a>\u001b[0m     i\u001b[39m+\u001b[39m\u001b[39m=\u001b[39m \u001b[39m1\u001b[39m\n",
      "\u001b[1;31mIndexError\u001b[0m: list index out of range"
     ]
    }
   ],
   "source": [
    "\n",
    "langs={'lang1':{'a':'aa', 'b':'bb'},'lang2':{'a':'cc', 'b':'dd'}}\n",
    "\n",
    "# lang_commands = {}\n",
    "# for language in langs:\n",
    "#     lang_commands[language]=lambda: print(language)\n",
    "#     print(\"Not in lambda\", language)\n",
    "# for f in lang_commands:\n",
    "#     lang_commands[f]()\n",
    "# print(lang_commands)\n",
    "\n",
    "langc = {}\n",
    "languages=[language for language in langs]\n",
    "i = 0\n",
    "while i < len(languages):\n",
    "    langc[languages[i]] = lambda: print(languages[i])\n",
    "    print(languages[i])\n",
    "    i+= 1\n",
    "print(langc)\n",
    "for f in langc:\n",
    "    langc[f]()\n"
   ]
  }
 ],
 "metadata": {
  "kernelspec": {
   "display_name": "Python 3",
   "language": "python",
   "name": "python3"
  },
  "language_info": {
   "codemirror_mode": {
    "name": "ipython",
    "version": 3
   },
   "file_extension": ".py",
   "mimetype": "text/x-python",
   "name": "python",
   "nbconvert_exporter": "python",
   "pygments_lexer": "ipython3",
   "version": "3.10.4"
  },
  "orig_nbformat": 4,
  "vscode": {
   "interpreter": {
    "hash": "6847c98a8f86b01c6a19c518cd2f366693b80566b266804d5ca763cbb223f52b"
   }
  }
 },
 "nbformat": 4,
 "nbformat_minor": 2
}
