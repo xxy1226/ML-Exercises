{
 "cells": [
  {
   "cell_type": "markdown",
   "metadata": {},
   "source": [
    "# 2. Add Two Numbers\n",
    "Medium\n",
    "\n",
    "You are given two **non-empty** linked lists representing two non-negative integers. The digits are stored in **reverse order**, and each of their nodes contains a single digit. Add the two numbers and return the sum as a linked list.\n",
    "\n",
    "You may assume the two numbers do not contain any leading zero, except the number 0 itself.\n",
    "\n",
    " \n",
    "\n",
    "**Example 1:**  \n",
    "![](https://assets.leetcode.com/uploads/2020/10/02/addtwonumber1.jpg)  \n",
    "> Input: l1 = [2,4,3], l2 = [5,6,4]  \n",
    "> Output: [7,0,8]  \n",
    "> Explanation: 342 + 465 = 807.\n",
    "\n",
    "**Example 2:**\n",
    "\n",
    "> Input: l1 = [0], l2 = [0]  \n",
    "> Output: [0]\n",
    "\n",
    "**Example 3:**\n",
    "\n",
    "> Input: l1 = [9,9,9,9,9,9,9], l2 = [9,9,9,9]  \n",
    "> Output: [8,9,9,9,0,0,0,1]\n",
    "\n",
    "Constraints:\n",
    "\n",
    "* The number of nodes in each linked list is in the range [1, 100].\n",
    "* 0 <= Node.val <= 9\n",
    "* It is guaranteed that the list represents a number that does not have leading zeros.\n",
    "\n"
   ]
  },
  {
   "cell_type": "code",
   "execution_count": 53,
   "metadata": {},
   "outputs": [],
   "source": [
    "# Definition for singly-linked list.\n",
    "from audioop import tostereo\n",
    "\n",
    "\n",
    "class ListNode:\n",
    "    def __init__(self, val=0, next=None):\n",
    "        self.val = val\n",
    "        self.next = next\n",
    "\n",
    "def toString(l: ListNode):\n",
    "    s = \"\"\n",
    "    while (l is not None):\n",
    "        s += str(l.val) + \" \"\n",
    "        l = l.next\n",
    "    return s\n",
    "\n",
    "def addTwoNumbers(l1: ListNode, l2: ListNode) -> ListNode:\n",
    "    head = ListNode()\n",
    "    sum = l1.val + l2.val\n",
    "    cur = ListNode(sum % 10)\n",
    "    head.next = cur\n",
    "    ten = sum // 10\n",
    "    l1 = l1.next\n",
    "    l2 = l2.next\n",
    "    while (l1 is not None and l2 is not None):\n",
    "        sum = l1.val + l2.val + ten\n",
    "        cur.next = ListNode(sum % 10)\n",
    "        ten = sum // 10\n",
    "        l1 = l1.next\n",
    "        l2 = l2.next\n",
    "        cur = cur.next\n",
    "    if l1 is not l2:\n",
    "        if l1 is None:\n",
    "            ll = l2\n",
    "        else : ll = l1\n",
    "        while ll is not None:\n",
    "            sum = ll.val + ten\n",
    "            cur.next = ListNode(sum % 10)\n",
    "            ten = sum // 10\n",
    "            ll = ll.next\n",
    "            cur = cur.next\n",
    "    if ten > 0:\n",
    "        cur.next = ListNode(1)\n",
    "    return head.next\n"
   ]
  },
  {
   "cell_type": "code",
   "execution_count": 55,
   "metadata": {},
   "outputs": [
    {
     "name": "stdout",
     "output_type": "stream",
     "text": [
      "6 0 8 \n"
     ]
    }
   ],
   "source": [
    "l1 = ListNode(1, ListNode(4, ListNode(3))) # 1 4 3\n",
    "l2 = ListNode(5, ListNode(6, ListNode(4))) # 5 6 4\n",
    "print(toString(addTwoNumbers(l1, l2))) # 6 0 8"
   ]
  },
  {
   "cell_type": "code",
   "execution_count": 56,
   "metadata": {},
   "outputs": [
    {
     "name": "stdout",
     "output_type": "stream",
     "text": [
      "0 \n"
     ]
    }
   ],
   "source": [
    "l1 = ListNode(0) # 1 4 3\n",
    "l2 = ListNode(0) # 5 6 4\n",
    "print(toString(addTwoNumbers(l1, l2))) # 0"
   ]
  },
  {
   "cell_type": "code",
   "execution_count": 57,
   "metadata": {},
   "outputs": [
    {
     "name": "stdout",
     "output_type": "stream",
     "text": [
      "8 9 9 9 0 0 0 0 0 1 \n"
     ]
    }
   ],
   "source": [
    "l1 = ListNode(9, ListNode(9, ListNode(9, ListNode(9, ListNode(9, ListNode(9, ListNode(9, ListNode(9, ListNode(9))))))))) # 9 9 9 9 9 9 9 \n",
    "l2 = ListNode(9, ListNode(9, ListNode(9, ListNode(9)))) # 9 9 9 9\n",
    "print(toString(addTwoNumbers(l1, l2))) # 8 9 9 9 0 0 0 0 0 1"
   ]
  },
  {
   "cell_type": "code",
   "execution_count": null,
   "metadata": {},
   "outputs": [],
   "source": []
  }
 ],
 "metadata": {
  "kernelspec": {
   "display_name": "Python 3.9.12 ('base')",
   "language": "python",
   "name": "python3"
  },
  "language_info": {
   "codemirror_mode": {
    "name": "ipython",
    "version": 3
   },
   "file_extension": ".py",
   "mimetype": "text/x-python",
   "name": "python",
   "nbconvert_exporter": "python",
   "pygments_lexer": "ipython3",
   "version": "3.9.12"
  },
  "orig_nbformat": 4,
  "vscode": {
   "interpreter": {
    "hash": "ad2bdc8ecc057115af97d19610ffacc2b4e99fae6737bb82f5d7fb13d2f2c186"
   }
  }
 },
 "nbformat": 4,
 "nbformat_minor": 2
}
