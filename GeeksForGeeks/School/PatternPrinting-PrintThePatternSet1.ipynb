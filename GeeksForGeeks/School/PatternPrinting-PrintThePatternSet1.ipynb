{
 "cells": [
  {
   "cell_type": "markdown",
   "metadata": {},
   "source": [
    "# Question\n",
    "You a given a number **N**. You need to print the pattern for the given value of **N**.\n",
    "\n",
    "For **N = 2** the pattern will be  \n",
    "2 2 1 1  \n",
    "2 1\n",
    "\n",
    "For **N = 3** the pattern will be  \n",
    "3 3 3 2 2 2 1 1 1  \n",
    "3 3 2 2 1 1  \n",
    "3 2 1\n",
    "\n",
    "## Example 1:\n",
    "\n",
    "> **Input:** 2  \n",
    "> **Output:**  \n",
    "> 2 2 1 1 \\$2 1 $\n",
    "\n",
    "## Example 2:\n",
    "\n",
    "> **Input:** 3  \n",
    "> **Output:**  \n",
    "> 3 3 3 2 2 2 1 1 1 $3 3 2 2 1 1 $3 2 1\n",
    "\n",
    "\n",
    "**Your Task:**\n",
    "Since this is a function problem, you don't need to worry about the test cases. Your task is to complete the function printPat which takes one argument 'N' denoting the length of the pattern.\n",
    "Note: Instead of printing a new line print a \"$\" without quotes.\n",
    "\n",
    "Constraints:  \n",
    "1 <= N <= 40"
   ]
  },
  {
   "cell_type": "code",
   "execution_count": 23,
   "metadata": {},
   "outputs": [
    {
     "name": "stdout",
     "output_type": "stream",
     "text": [
      "4 4 4 4 3 3 3 3 2 2 2 2 1 1 1 1 $4 4 4 3 3 3 2 2 2 1 1 1 $4 4 3 3 2 2 1 1 $4 3 2 1 $"
     ]
    }
   ],
   "source": [
    "def printPat(n):\n",
    "    #Code here\n",
    "    for i in range(n)[::-1]:\n",
    "        for j in range(n)[::-1]:\n",
    "            for k in range(i+1):\n",
    "                print(j + 1, end=\" \")\n",
    "        print(\"$\", end='')\n",
    "    print()\n",
    "        \n",
    "\n",
    "#{ \n",
    " # Driver Code Starts\n",
    "if __name__=='__main__':\n",
    "    n= int(input())\n",
    "    printPat(n)\n",
    "# } Driver Code Ends"
   ]
  },
  {
   "cell_type": "markdown",
   "metadata": {},
   "source": [
    "def printPat(n):\n",
    "    #Code here\n",
    "\n",
    "\n",
    "#{ \n",
    " # Driver Code Starts\n",
    "if __name__=='__main__':\n",
    "    t=int(input())\n",
    "    for i in range(t):\n",
    "        n= int(input())\n",
    "        printPat(n)\n",
    "# } Driver Code Ends"
   ]
  }
 ],
 "metadata": {
  "kernelspec": {
   "display_name": "Python 3.8.10 ('base')",
   "language": "python",
   "name": "python3"
  },
  "language_info": {
   "codemirror_mode": {
    "name": "ipython",
    "version": 3
   },
   "file_extension": ".py",
   "mimetype": "text/x-python",
   "name": "python",
   "nbconvert_exporter": "python",
   "pygments_lexer": "ipython3",
   "version": "3.8.10"
  },
  "orig_nbformat": 4,
  "vscode": {
   "interpreter": {
    "hash": "ed9dd54d93773a54077976d71c29f744fe60816153cc35ad40f2c53070f2668f"
   }
  }
 },
 "nbformat": 4,
 "nbformat_minor": 2
}
