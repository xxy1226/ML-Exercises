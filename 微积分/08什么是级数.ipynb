{
 "cells": [
  {
   "cell_type": "markdown",
   "metadata": {},
   "source": [
    "# 数列 Sequence\n",
    "一列有**规律**的数\n",
    "\n",
    "比如：\n",
    "    等差数列\n",
    "    等比数列\n",
    "\n"
   ]
  },
  {
   "cell_type": "markdown",
   "metadata": {},
   "source": [
    "# 级数 Series\n",
    "把数列的内容加起来：  \n",
    "    **有限**数列$\\rightarrow$求和  \n",
    "    **无限**数列$\\rightarrow$**级数**\n"
   ]
  },
  {
   "cell_type": "code",
   "execution_count": 29,
   "metadata": {},
   "outputs": [
    {
     "data": {
      "image/png": "[encoded data removed]",
      "text/plain": [
       "<Figure size 576x576 with 1 Axes>"
      ]
     },
     "metadata": {},
     "output_type": "display_data"
    }
   ],
   "source": [
    "import numpy as np\n",
    "import matplotlib.pyplot as plt\n",
    "\n",
    "plt.figure(figsize=(8, 8))\n",
    "xmin = 0\n",
    "xmax = 8\n",
    "ymin = 0\n",
    "ymax = 8\n",
    "plt.xlim(xmin, xmax)\n",
    "plt.ylim(ymin, ymax)\n",
    "\n",
    "plt.plot([4, 4], [0, 8], 'k')\n",
    "plt.annotate(r'$\\frac{1}{2}$', xy=(1.8, 4), xycoords='data', fontsize=64)\n",
    "\n",
    "plt.plot([4, 8], [4, 4], 'k')\n",
    "plt.annotate(r'$\\frac{1}{4}$', xy=(5.8, 2), xycoords='data', fontsize=48)\n",
    "\n",
    "plt.plot([6, 6], [4, 8], 'k')\n",
    "plt.annotate(r'$\\frac{1}{8}$', xy=(4.8, 5.8), xycoords='data', fontsize=40)\n",
    "\n",
    "plt.plot([6, 8], [6, 6], 'k')\n",
    "plt.annotate(r'$\\frac{1}{16}$', xy=(6.8, 4.8), xycoords='data', fontsize=32)\n",
    "\n",
    "plt.plot([7, 7], [6, 8], 'k')\n",
    "plt.annotate(r'$\\dots$', xy=(6.2, 6.8), xycoords='data', fontsize=32)\n",
    "\n",
    "plt.plot([7, 8], [7, 7], 'k')\n",
    "plt.plot([7.5, 7.5], [7, 8], 'k')\n",
    "plt.plot([7.5, 8], [7.5, 7.5], 'k')\n",
    "\n",
    "plt.xticks([])\n",
    "plt.yticks([])\n",
    "\n",
    "plt.show()"
   ]
  },
  {
   "cell_type": "markdown",
   "metadata": {},
   "source": [
    "如上图：\n",
    "$\\sum_{n=1}^\\infty(\\frac{1}{2^n})=\\frac{1}{2}+\\frac{1}{4}+\\frac{1}{8}+\\frac{1}{16}+\\dots=$"
   ]
  },
  {
   "cell_type": "markdown",
   "metadata": {},
   "source": [
    "# 发散\n",
    "发散的数列会越加越大/小\n",
    "\n",
    "# 收敛 Converge\n",
    "收敛级数 = 一个数\n"
   ]
  },
  {
   "cell_type": "markdown",
   "metadata": {},
   "source": [
    "# 收敛级数\n",
    "* $S_n:=$数列的**前n**项**和**\n",
    "* 收敛级数的**和**：  \n",
    "    $S:=\\lim\\limits_{n\\rightarrow\\infty}Sn$  "
   ]
  },
  {
   "cell_type": "markdown",
   "metadata": {},
   "source": [
    "# 幂级数 Power Series\n",
    "$$\\sum\\limits_{n=1}^\\infty a_n(x-c)^n$$"
   ]
  },
  {
   "cell_type": "markdown",
   "metadata": {},
   "source": [
    "# 泰勒级数 Taylor Series\n",
    "$$\\sum\\limits_{n=1}^\\infty\\frac{f^{(n)}(a)}{n!}(x-a)^n$$"
   ]
  },
  {
   "cell_type": "markdown",
   "metadata": {},
   "source": [
    "# 欧拉恒等式 Euler's Formula\n",
    "最美公式\n",
    "$$e^{i\\Pi}+1=0$$"
   ]
  }
 ],
 "metadata": {
  "kernelspec": {
   "display_name": "Python 3.10.4 64-bit",
   "language": "python",
   "name": "python3"
  },
  "language_info": {
   "codemirror_mode": {
    "name": "ipython",
    "version": 3
   },
   "file_extension": ".py",
   "mimetype": "text/x-python",
   "name": "python",
   "nbconvert_exporter": "python",
   "pygments_lexer": "ipython3",
   "version": "3.10.4"
  },
  "orig_nbformat": 4,
  "vscode": {
   "interpreter": {
    "hash": "6847c98a8f86b01c6a19c518cd2f366693b80566b266804d5ca763cbb223f52b"
   }
  }
 },
 "nbformat": 4,
 "nbformat_minor": 2
}
