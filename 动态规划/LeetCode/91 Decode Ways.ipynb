{
 "cells": [
  {
   "cell_type": "markdown",
   "metadata": {},
   "source": [
    "# 91. Decode Ways\n",
    "Medium\n",
    "\n",
    "A message containing letters from A-Z can be **encoded** into numbers using the following mapping:\n",
    "\n",
    "'A' -> \"1\"  \n",
    "'B' -> \"2\"  \n",
    "...  \n",
    "'Z' -> \"26\"\n",
    "\n",
    "To **decode** an encoded message, all the digits must be grouped then mapped back into letters using the reverse of the mapping above (there may be multiple ways). For example, \"11106\" can be mapped into:\n",
    "\n",
    "    \"AAJF\" with the grouping (1 1 10 6)\n",
    "    \"KJF\" with the grouping (11 10 6)\n",
    "\n",
    "Note that the grouping (1 11 06) is invalid because \"06\" cannot be mapped into 'F' since \"6\" is different from \"06\".\n",
    "\n",
    "Given a string s containing only digits, return *the **number** of ways to **decode** it*.\n",
    "\n",
    "The test cases are generated so that the answer fits in a **32-bit** integer.\n",
    "\n",
    "**Example 1:**\n",
    "\n",
    "> Input: s = \"12\"  \n",
    "> Output: 2  \n",
    "> Explanation: \"12\" could be decoded as \"AB\" (1 2) or \"L\" (12).\n",
    "\n",
    "**Example 2:**\n",
    "\n",
    ">Input: s = \"226\"  \n",
    "> Output: 3  \n",
    "> Explanation: \"226\" could be decoded as \"BZ\" (2 26), \"VF\" (22 6), or \"BBF\" (2 2 6).\n",
    "\n",
    "**Example 3:**\n",
    "\n",
    "> Input: s = \"06\"  \n",
    "> Output: 0  \n",
    "> Explanation: \"06\" cannot be mapped to \"F\" because of the leading zero (\"6\" is different from \"06\").\n",
    "\n",
    " \n",
    "\n",
    "Constraints:\n",
    "\n",
    "    1 <= s.length <= 100\n",
    "    s contains only digits and may contain leading zero(s).\n",
    "\n"
   ]
  },
  {
   "cell_type": "code",
   "execution_count": 17,
   "metadata": {},
   "outputs": [],
   "source": [
    "def numDecodings(s: str) -> int:\n",
    "    if s[0] == '0':\n",
    "        return 0\n",
    "    if len(s) == 1:\n",
    "        return 1\n",
    "    if len(s) == 2 and s[-1] == '0':\n",
    "        return 1\n",
    "    if len(s) == 2:\n",
    "        if int(s) < 27:\n",
    "            return 2\n",
    "        else: return 1\n",
    "    if s[1] == '0' or int(s[0:2]) > 26:\n",
    "        return numDecodings(s[2:])\n",
    "    if int(s[0:2]) < 27:\n",
    "        return numDecodings(s[1:]) + numDecodings(s[2:])\n",
    "        "
   ]
  },
  {
   "cell_type": "code",
   "execution_count": 99,
   "metadata": {},
   "outputs": [],
   "source": [
    "def numDecodings(s:str) -> int:\n",
    "    return process(s, {})\n",
    "\n",
    "def process(s:str, rec: dict) -> int:\n",
    "    # print(\"%s -> %s\"%(s, rec))\n",
    "    if s in rec:\n",
    "        return rec[s]\n",
    "    if s[0] == '0':\n",
    "        rec[s] = 0\n",
    "        return 0\n",
    "    if len(s) == 1:\n",
    "        rec[s] = 1\n",
    "        return 1\n",
    "    if len(s) == 2:\n",
    "        if int(s) > 26:\n",
    "            if s[1] == '0':\n",
    "                rec[s] = 0\n",
    "                return 0\n",
    "            rec[s] = 1\n",
    "            return 1\n",
    "        if s[1] == '0':\n",
    "            rec[s] = 1\n",
    "            return 1\n",
    "        rec[s] = 2\n",
    "        return 2\n",
    "    if s[1] == '0':\n",
    "        if int(s[0]) > 2:\n",
    "            rec[s] = 0\n",
    "            return 0\n",
    "        ret = process(s[2:], rec)\n",
    "        rec[s] = ret\n",
    "        return ret\n",
    "    if int(s[0:2]) < 27:\n",
    "        ret = process(s[1:], rec) + process(s[2:], rec)\n",
    "        rec[s] = ret\n",
    "        return ret\n",
    "    ret = process(s[1:], rec)\n",
    "    rec[s] = ret\n",
    "    return ret"
   ]
  },
  {
   "cell_type": "code",
   "execution_count": 21,
   "metadata": {},
   "outputs": [],
   "source": [
    "def numDecodings(s:str) -> int:\n",
    "    if s[0] == '0':\n",
    "        return 0\n",
    "    if len(s) == 1:\n",
    "        return 1\n",
    "    res = [0] * len(s)\n",
    "    res[0] = 1\n",
    "    if s[1] != '0':\n",
    "        print(s[1])\n",
    "        res[1] = 1\n",
    "    if int(s[0:2]) < 27:\n",
    "        print(\"b\")\n",
    "        res[1] += 1\n",
    "    for i in range(2, len(s)):\n",
    "        cur = int(s[i])\n",
    "        pre = 10 * int(s[i-1])\n",
    "        if cur != 0:\n",
    "            res[i] += res[i-1]\n",
    "        if pre != 0 and pre + cur <27:\n",
    "            res[i] += res[i - 2]\n",
    "\n",
    "    # dp = [0] * (len(s)+1)\n",
    "    # dp[0] = 1\n",
    "    # dp[1] = 1 if s[0] != '0' else 0\n",
    "    # for i in range(2, len(s)+1):\n",
    "    #     curr = int(s[i-1])\n",
    "    #     prev = int(s[i-2])\n",
    "    #     if curr != 0:  # valid single number\n",
    "    #         dp[i] += dp[i-1]\n",
    "    #     if prev != 0 and prev * 10 + curr <= 26:  # valid double number\n",
    "    #         dp[i] += dp[i-2]\n",
    "\n",
    "    # print(dp)\n",
    "    return res[-1]"
   ]
  },
  {
   "cell_type": "code",
   "execution_count": 2,
   "metadata": {},
   "outputs": [
    {
     "data": {
      "text/plain": [
       "1"
      ]
     },
     "execution_count": 2,
     "metadata": {},
     "output_type": "execute_result"
    }
   ],
   "source": [
    "s = \"301\"\n",
    "numDecodings(s) # 0"
   ]
  },
  {
   "cell_type": "code",
   "execution_count": 22,
   "metadata": {},
   "outputs": [
    {
     "name": "stdout",
     "output_type": "stream",
     "text": [
      "0\n",
      "b\n"
     ]
    },
    {
     "data": {
      "text/plain": [
       "2"
      ]
     },
     "execution_count": 22,
     "metadata": {},
     "output_type": "execute_result"
    }
   ],
   "source": [
    "s = \"10\"\n",
    "numDecodings(s)"
   ]
  },
  {
   "cell_type": "code",
   "execution_count": 17,
   "metadata": {},
   "outputs": [
    {
     "data": {
      "text/plain": [
       "2"
      ]
     },
     "execution_count": 17,
     "metadata": {},
     "output_type": "execute_result"
    }
   ],
   "source": [
    "s = \"12\"\n",
    "numDecodings(s)"
   ]
  },
  {
   "cell_type": "code",
   "execution_count": 3,
   "metadata": {},
   "outputs": [
    {
     "data": {
      "text/plain": [
       "1"
      ]
     },
     "execution_count": 3,
     "metadata": {},
     "output_type": "execute_result"
    }
   ],
   "source": [
    "s = \"27\"\n",
    "numDecodings(s) # 1"
   ]
  },
  {
   "cell_type": "code",
   "execution_count": 4,
   "metadata": {},
   "outputs": [
    {
     "data": {
      "text/plain": [
       "0"
      ]
     },
     "execution_count": 4,
     "metadata": {},
     "output_type": "execute_result"
    }
   ],
   "source": [
    "s = '230'\n",
    "numDecodings(s) # 0"
   ]
  },
  {
   "cell_type": "code",
   "execution_count": 5,
   "metadata": {},
   "outputs": [
    {
     "data": {
      "text/plain": [
       "2"
      ]
     },
     "execution_count": 5,
     "metadata": {},
     "output_type": "execute_result"
    }
   ],
   "source": [
    "s = \"11\"\n",
    "numDecodings(s) # 2"
   ]
  },
  {
   "cell_type": "code",
   "execution_count": 6,
   "metadata": {},
   "outputs": [
    {
     "data": {
      "text/plain": [
       "3"
      ]
     },
     "execution_count": 6,
     "metadata": {},
     "output_type": "execute_result"
    }
   ],
   "source": [
    "s = \"111\"\n",
    "numDecodings(s) # 3"
   ]
  },
  {
   "cell_type": "code",
   "execution_count": 7,
   "metadata": {},
   "outputs": [
    {
     "data": {
      "text/plain": [
       "5"
      ]
     },
     "execution_count": 7,
     "metadata": {},
     "output_type": "execute_result"
    }
   ],
   "source": [
    "s = \"1111\"\n",
    "numDecodings(s) # 5"
   ]
  },
  {
   "cell_type": "code",
   "execution_count": 8,
   "metadata": {},
   "outputs": [
    {
     "data": {
      "text/plain": [
       "2"
      ]
     },
     "execution_count": 8,
     "metadata": {},
     "output_type": "execute_result"
    }
   ],
   "source": [
    "s = \"12\"\n",
    "numDecodings(s) # 2"
   ]
  },
  {
   "cell_type": "code",
   "execution_count": 16,
   "metadata": {},
   "outputs": [
    {
     "data": {
      "text/plain": [
       "3"
      ]
     },
     "execution_count": 16,
     "metadata": {},
     "output_type": "execute_result"
    }
   ],
   "source": [
    "s = \"226\"\n",
    "numDecodings(s) # 3"
   ]
  },
  {
   "cell_type": "code",
   "execution_count": 10,
   "metadata": {},
   "outputs": [
    {
     "data": {
      "text/plain": [
       "0"
      ]
     },
     "execution_count": 10,
     "metadata": {},
     "output_type": "execute_result"
    }
   ],
   "source": [
    "s = \"06\"\n",
    "numDecodings(s)"
   ]
  },
  {
   "cell_type": "code",
   "execution_count": 11,
   "metadata": {},
   "outputs": [
    {
     "data": {
      "text/plain": [
       "9"
      ]
     },
     "execution_count": 11,
     "metadata": {},
     "output_type": "execute_result"
    }
   ],
   "source": [
    "s = \"123123\"\n",
    "numDecodings(s) # 9"
   ]
  },
  {
   "cell_type": "code",
   "execution_count": 12,
   "metadata": {},
   "outputs": [
    {
     "data": {
      "text/plain": [
       "13"
      ]
     },
     "execution_count": 12,
     "metadata": {},
     "output_type": "execute_result"
    }
   ],
   "source": [
    "s = \"111111\"\n",
    "numDecodings(s) # 13"
   ]
  },
  {
   "cell_type": "code",
   "execution_count": 13,
   "metadata": {},
   "outputs": [
    {
     "data": {
      "text/plain": [
       "1836311903"
      ]
     },
     "execution_count": 13,
     "metadata": {},
     "output_type": "execute_result"
    }
   ],
   "source": [
    "s = \"111111111111111111111111111111111111111111111\"\n",
    "numDecodings(s) # 1836311903"
   ]
  },
  {
   "cell_type": "code",
   "execution_count": 14,
   "metadata": {},
   "outputs": [
    {
     "data": {
      "text/plain": [
       "14930352"
      ]
     },
     "execution_count": 14,
     "metadata": {},
     "output_type": "execute_result"
    }
   ],
   "source": [
    "s = \"11111111111111111111111111111111111\"\n",
    "numDecodings(s) # 14930352"
   ]
  },
  {
   "cell_type": "code",
   "execution_count": 124,
   "metadata": {},
   "outputs": [
    {
     "data": {
      "text/plain": [
       "0"
      ]
     },
     "execution_count": 124,
     "metadata": {},
     "output_type": "execute_result"
    }
   ],
   "source": [
    "s = \"0\"\n",
    "numDecodings(s)"
   ]
  }
 ],
 "metadata": {
  "kernelspec": {
   "display_name": "Python 3.9.12 ('base')",
   "language": "python",
   "name": "python3"
  },
  "language_info": {
   "codemirror_mode": {
    "name": "ipython",
    "version": 3
   },
   "file_extension": ".py",
   "mimetype": "text/x-python",
   "name": "python",
   "nbconvert_exporter": "python",
   "pygments_lexer": "ipython3",
   "version": "3.9.12"
  },
  "orig_nbformat": 4,
  "vscode": {
   "interpreter": {
    "hash": "ad2bdc8ecc057115af97d19610ffacc2b4e99fae6737bb82f5d7fb13d2f2c186"
   }
  }
 },
 "nbformat": 4,
 "nbformat_minor": 2
}
