{
 "cells": [
  {
   "cell_type": "markdown",
   "metadata": {},
   "source": [
    "# 题目\n",
    "\n",
    "给定两个长度都为**N**的数组 weights 和 values，\n",
    "weights[i] 和 values[i] 分别代表 i 号物品的重量和价值。\n",
    "给定一个正数 bag，表示一个载重 bag 的袋子，\n",
    "你装的物品不能超过这个重量。  \n",
    "返回你能装下最多的价值是多少？"
   ]
  },
  {
   "cell_type": "code",
   "execution_count": 3,
   "metadata": {},
   "outputs": [],
   "source": [
    "from time import time\n",
    "\n",
    "# weights = [1, 3, 5, 7, 8, 13, 9, 5, 4, 6]\n",
    "# values = [5, 8, 18, 33, 15, 54, 11, 13, 24]\n",
    "# bag = 20\n",
    "\n",
    "# answer: 19\n",
    "weights = [1, 2, 3, 1]\n",
    "values = [5, 8, 14, 4]\n",
    "bag = 4"
   ]
  },
  {
   "cell_type": "markdown",
   "metadata": {},
   "source": [
    "## 暴力递归"
   ]
  },
  {
   "cell_type": "code",
   "execution_count": 6,
   "metadata": {},
   "outputs": [
    {
     "name": "stdout",
     "output_type": "stream",
     "text": [
      "None\n"
     ]
    }
   ],
   "source": [
    "def fillbag1(weights: list, bag: int) -> int:\n",
    "    w = 0\n",
    "    return process1(weights, bag, w)\n",
    "\n",
    "def process1(weights: list, bag: int, w: int) -> int:\n",
    "    \"\"\"取法\n",
    "    \n",
    "    Args:\n",
    "        weights (list): item weights\n",
    "        values (list): item values\n",
    "        bag (int): bag limit\n",
    "        w (int): current weight\n",
    "\n",
    "    \"\"\"\n",
    "    for i in range(len(weights))\n",
    "    pass\n",
    "    \n",
    "print(fillbag1(weights, values, bag))"
   ]
  },
  {
   "cell_type": "code",
   "execution_count": 7,
   "metadata": {},
   "outputs": [
    {
     "ename": "IndexError",
     "evalue": "list index out of range",
     "output_type": "error",
     "traceback": [
      "\u001b[1;31m---------------------------------------------------------------------------\u001b[0m",
      "\u001b[1;31mIndexError\u001b[0m                                Traceback (most recent call last)",
      "\u001b[1;32m<ipython-input-7-fea4d09c1157>\u001b[0m in \u001b[0;36m<module>\u001b[1;34m\u001b[0m\n\u001b[1;32m----> 1\u001b[1;33m \u001b[0mprint\u001b[0m\u001b[1;33m(\u001b[0m\u001b[0mweights\u001b[0m\u001b[1;33m[\u001b[0m\u001b[1;36m0\u001b[0m\u001b[1;33m]\u001b[0m\u001b[1;33m)\u001b[0m\u001b[1;33m\u001b[0m\u001b[1;33m\u001b[0m\u001b[0m\n\u001b[0m\u001b[0;32m      2\u001b[0m \u001b[0mprint\u001b[0m\u001b[1;33m(\u001b[0m\u001b[0mweights\u001b[0m\u001b[1;33m)\u001b[0m\u001b[1;33m\u001b[0m\u001b[1;33m\u001b[0m\u001b[0m\n",
      "\u001b[1;31mIndexError\u001b[0m: list index out of range"
     ]
    }
   ],
   "source": [
    "print(weights[0])\n",
    "print(weights)"
   ]
  }
 ],
 "metadata": {
  "kernelspec": {
   "display_name": "Python 3.8.10 ('base')",
   "language": "python",
   "name": "python3"
  },
  "language_info": {
   "codemirror_mode": {
    "name": "ipython",
    "version": 3
   },
   "file_extension": ".py",
   "mimetype": "text/x-python",
   "name": "python",
   "nbconvert_exporter": "python",
   "pygments_lexer": "ipython3",
   "version": "3.8.10"
  },
  "orig_nbformat": 4,
  "vscode": {
   "interpreter": {
    "hash": "ed9dd54d93773a54077976d71c29f744fe60816153cc35ad40f2c53070f2668f"
   }
  }
 },
 "nbformat": 4,
 "nbformat_minor": 2
}
