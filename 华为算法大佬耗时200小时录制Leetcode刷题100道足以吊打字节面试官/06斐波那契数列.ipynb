{
 "cells": [
  {
   "cell_type": "markdown",
   "metadata": {},
   "source": [
    "# 题目\n",
    "\n",
    "写一个函数，输入n，求斐波那契数列（Fibonacci）的第n项。斐波那契数列的定义如下：\n",
    "\n",
    "$$ f(n) = \\left\\{\n",
    "\\begin{array}{lcl}\n",
    "0              &    & {n = 0}\\\\\n",
    "1              &    & {n = 1}\\\\\n",
    "f(n-2)+f(n-1)  &    & {n > 1}\n",
    "\\end{array} \\right.$$"
   ]
  },
  {
   "cell_type": "code",
   "execution_count": 1,
   "metadata": {},
   "outputs": [
    {
     "name": "stdout",
     "output_type": "stream",
     "text": [
      "218922995834555169026\n"
     ]
    }
   ],
   "source": [
    "def fib(n: int) -> int:\n",
    "    if n == 0: return 0\n",
    "    if n == 1: return 1\n",
    "    result = 0\n",
    "    pre = 1\n",
    "    prePre = 0\n",
    "    for i in range(n)[2:]:\n",
    "        result = pre + prePre\n",
    "        prePre = pre\n",
    "        pre = result\n",
    "    return result\n",
    "\n",
    "print(fib(100))"
   ]
  }
 ],
 "metadata": {
  "kernelspec": {
   "display_name": "Python 3.9.12 ('base')",
   "language": "python",
   "name": "python3"
  },
  "language_info": {
   "codemirror_mode": {
    "name": "ipython",
    "version": 3
   },
   "file_extension": ".py",
   "mimetype": "text/x-python",
   "name": "python",
   "nbconvert_exporter": "python",
   "pygments_lexer": "ipython3",
   "version": "3.9.12"
  },
  "orig_nbformat": 4,
  "vscode": {
   "interpreter": {
    "hash": "ad2bdc8ecc057115af97d19610ffacc2b4e99fae6737bb82f5d7fb13d2f2c186"
   }
  }
 },
 "nbformat": 4,
 "nbformat_minor": 2
}
