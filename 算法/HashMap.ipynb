{
 "cells": [
  {
   "cell_type": "code",
   "execution_count": null,
   "metadata": {},
   "outputs": [],
   "source": [
    "\n",
    "class StringKey:\n",
    "    def __init__(self, key) -> None:\n",
    "        self.Key = key\n",
    "\n",
    "class HashNode:\n",
    "    def __init__(self, key, val, next) -> None:\n",
    "        self.Key = key\n",
    "        self.Val = val\n",
    "        self.next = next\n",
    "\n",
    "class HashMap:\n",
    "    def __init__(self) -> None:\n",
    "        self.bucketArray = list()\n",
    "        self.numBucket = 10\n",
    "        self.Size=0\n",
    "        for _ in range(self.numBucket):\n",
    "            self.bucketArray.append(None)\n",
    "    def generateBiggerArray(self) -> None:\n",
    "        \"\"\"生成更大的哈希表\"\"\"\n",
    "        temp = self.bucketArray\n",
    "        self.bucketArray = list()\n",
    "        self.numBucket = self.numBucket << 1\n",
    "        for _ in range(self.numBucket):\n",
    "            self.bucketArray.append(None)\n",
    "        self.Size = 0\n",
    "        for headNode in temp:\n",
    "            while headNode:\n",
    "                self.add(headNode.key, headNode.val)\n",
    "                headNode = headNode.next\n",
    "    def add(self, key, val) -> None:\n",
    "        # 完成哈希键的运算\n",
    "        bucketIndex = key.__hash__() % self.numBucket\n",
    "        # 如果已经存在节点则替换\n",
    "        head = self.bucketArray[bucketIndex]\n",
    "        while head:\n",
    "            if head.key == key:\n",
    "                head.val = val\n",
    "                return\n",
    "            head = head.next\n",
    "        # 将新元素加入\n",
    "        head = self.bucketArray[bucketIndex]\n",
    "        newNode = HashNode(key, val, head)\n",
    "        self.bucketArray[bucketIndex] = newNode\n",
    "        # 其他\n",
    "        self.Size += 1\n",
    "        # 计算是否要扩容\n",
    "        if ((self.Size)/self.numBucket >= 0.75):\n",
    "            self.generateBiggerArray()\n",
    "\n",
    "    def get(self, key):\n",
    "        pass\n",
    "    def remove(self, key):\n",
    "        pass\n",
    "    def getSize(self) -> int:\n",
    "        return self.Size\n",
    "    def isEmpty(self) -> bool:\n",
    "        return self.Size == 0"
   ]
  }
 ],
 "metadata": {
  "kernelspec": {
   "display_name": "Python 3.9.12 ('base')",
   "language": "python",
   "name": "python3"
  },
  "language_info": {
   "name": "python",
   "version": "3.9.12"
  },
  "orig_nbformat": 4,
  "vscode": {
   "interpreter": {
    "hash": "ad2bdc8ecc057115af97d19610ffacc2b4e99fae6737bb82f5d7fb13d2f2c186"
   }
  }
 },
 "nbformat": 4,
 "nbformat_minor": 2
}
