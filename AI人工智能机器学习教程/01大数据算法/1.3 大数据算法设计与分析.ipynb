{
 "cells": [
  {
   "cell_type": "markdown",
   "metadata": {},
   "source": [
    "* 精确算法设计方法\n",
    "* 并行算法\n",
    "* 近似算法\n",
    "* 随机算法\n",
    "* 在线算法/数据流算法\n",
    "* 外存算法\n",
    "* 面向新型体系结构的算法\n",
    "* 现代优化算法"
   ]
  },
  {
   "cell_type": "markdown",
   "metadata": {},
   "source": [
    "# 大数据的算法分析\n",
    "* 时间空间复杂性\n",
    "* IO复杂性\n",
    "* 结果质量（近似比、competitive ratio）\n",
    "* 通讯复杂性"
   ]
  },
  {
   "cell_type": "markdown",
   "metadata": {},
   "source": [
    "#本课内容\n",
    "* 亚线性算法\n",
    "* 外存算法\n",
    "* 并行算法\n",
    "* 众包算法"
   ]
  }
 ],
 "metadata": {
  "interpreter": {
   "hash": "6847c98a8f86b01c6a19c518cd2f366693b80566b266804d5ca763cbb223f52b"
  },
  "kernelspec": {
   "display_name": "Python 3.10.4 64-bit",
   "language": "python",
   "name": "python3"
  },
  "language_info": {
   "name": "python",
   "version": "3.10.4"
  },
  "orig_nbformat": 4
 },
 "nbformat": 4,
 "nbformat_minor": 2
}
