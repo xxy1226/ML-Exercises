{
 "cells": [
  {
   "cell_type": "markdown",
   "metadata": {},
   "source": [
    "# 大数据算法\n",
    "* 大数据算法的定义\n",
    "    * 在给定的**资源约束**下，以大数据为输入，在给定**时间约束**内可以生成满足给定**约束**结果的算法\n",
    "* 大数据算法可以不是：\n",
    "    * 精确算法\n",
    "    * 内存算法\n",
    "    * 串行算法\n",
    "    * 尽在电子计算机上运行的算法\n",
    "* 大数据算法不仅是：\n",
    "    * 云计算\n",
    "    * MapReduce\n"
   ]
  },
  {
   "cell_type": "markdown",
   "metadata": {},
   "source": [
    "# 大数据算法的难度\n",
    "* 访问全部数据时间过长\n",
    "    * 都区部分数据 --> 时间亚线型算法\n",
    "* 数据难于放入内存计算\n",
    "    * 将数据存储到磁盘上 --> 外存算法\n",
    "    * 仅基于少量数据进行计算 --> 空间亚线性算法\n",
    "* 单个计算机难以保存全部数据，计算需要整体数据\n",
    "    * 并行处理 --> 并行算法\n",
    "* 计算机计算能力不足或知识不足\n",
    "    * 人来帮忙 --> 众包算法"
   ]
  }
 ],
 "metadata": {
  "interpreter": {
   "hash": "6847c98a8f86b01c6a19c518cd2f366693b80566b266804d5ca763cbb223f52b"
  },
  "kernelspec": {
   "display_name": "Python 3.10.4 64-bit",
   "language": "python",
   "name": "python3"
  },
  "language_info": {
   "name": "python",
   "version": "3.10.4"
  },
  "orig_nbformat": 4
 },
 "nbformat": 4,
 "nbformat_minor": 2
}
