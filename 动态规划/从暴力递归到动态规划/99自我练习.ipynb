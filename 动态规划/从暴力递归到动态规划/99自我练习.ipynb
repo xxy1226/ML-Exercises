{
 "cells": [
  {
   "cell_type": "markdown",
   "metadata": {},
   "source": [
    "# 题目一：斐波那契数列"
   ]
  },
  {
   "cell_type": "markdown",
   "metadata": {},
   "source": [
    "## 暴力递归"
   ]
  },
  {
   "cell_type": "code",
   "execution_count": 12,
   "metadata": {},
   "outputs": [
    {
     "name": "stdout",
     "output_type": "stream",
     "text": [
      "9227465\n",
      "用时： 4.522939443588257\n"
     ]
    }
   ],
   "source": [
    "from time import time\n",
    "\n",
    "def fbnq(n: int) -> int:\n",
    "    if n < 1: return -1\n",
    "    if n <= 2: return 1\n",
    "    return fbnq(n-1) + fbnq(n-2)\n",
    "\n",
    "start = time()\n",
    "print(fbnq(35))\n",
    "end = time()\n",
    "print(\"用时：\", end-start)"
   ]
  },
  {
   "cell_type": "markdown",
   "metadata": {},
   "source": [
    "## 动态规划(缓存)"
   ]
  },
  {
   "cell_type": "code",
   "execution_count": 18,
   "metadata": {},
   "outputs": [
    {
     "name": "stdout",
     "output_type": "stream",
     "text": [
      "9227465\n",
      "用时： 0.0009968280792236328\n"
     ]
    }
   ],
   "source": [
    "def fbnq(n: int) -> int:\n",
    "    if n < 1: return -1\n",
    "    if n <=2: return 1\n",
    "    dp=[1, 1]\n",
    "    for i in range(n-2):\n",
    "        dp.append(dp[i] + dp[i+1])\n",
    "    return dp[n-1]\n",
    "\n",
    "start = time()\n",
    "print(fbnq(35))\n",
    "end = time()\n",
    "print(\"用时：\", end-start)"
   ]
  },
  {
   "cell_type": "markdown",
   "metadata": {},
   "source": [
    "# 题目二：机器人走路\n",
    "\n",
    "给定 N 个位置，机器人的初始位置 S，机器人的目标位置 A，以及步数 K。机器人每一步必须在可动方向移动一格。\n",
    "\n",
    "计算：机器人在规定步数到达目标位置的走法有多少。"
   ]
  },
  {
   "cell_type": "markdown",
   "metadata": {},
   "source": [
    "## 暴力递归"
   ]
  },
  {
   "cell_type": "code",
   "execution_count": 34,
   "metadata": {},
   "outputs": [
    {
     "name": "stdout",
     "output_type": "stream",
     "text": [
      "62016\n",
      "用时： 0.23137974739074707\n"
     ]
    }
   ],
   "source": [
    "def robot1(N: int, start: int, aim: int, K: int) -> int:\n",
    "    return process1(N, start, aim, K)\n",
    "\n",
    "def process1(N: int, cur: int, aim: int, rest:int) -> int:\n",
    "    if rest == 0: return 1 if cur == aim else 0\n",
    "    if cur == 1: return process1(N, 2, aim, rest - 1)\n",
    "    if cur == N: return process1(N, N - 1, aim, rest - 1)\n",
    "    return process1(N, cur - 1, aim, rest - 1) + process1(N, cur + 1, aim, rest - 1)\n",
    "\n",
    "start = time()\n",
    "print(robot1(19, 2, 8, 20))\n",
    "end = time()\n",
    "print(\"用时：\", end-start)"
   ]
  },
  {
   "cell_type": "markdown",
   "metadata": {},
   "source": [
    "## 动态规划(缓存)"
   ]
  },
  {
   "cell_type": "code",
   "execution_count": 42,
   "metadata": {},
   "outputs": [
    {
     "name": "stdout",
     "output_type": "stream",
     "text": [
      "62016\n",
      "用时： 0.0009975433349609375\n"
     ]
    }
   ],
   "source": [
    "def robot2(N: int, start: int, aim: int, K: int) -> int:\n",
    "    \"\"\"\n",
    "    Args:\n",
    "        N (int): 位置总数\n",
    "        start (int): 起始位置\n",
    "        aim (int): 目标位置\n",
    "        K (int): 步数\n",
    "    \"\"\"\n",
    "    dp = []\n",
    "    for i in range(N+1):\n",
    "        dp2 = []\n",
    "        for j in range(K+1):\n",
    "            dp2.append(-1)\n",
    "        dp.append(dp2)\n",
    "    return process2(N, start, aim, K, dp)\n",
    "    \n",
    "def process2(N: int, cur: int, aim: int, rest:int, dp: list) -> int:\n",
    "    if rest == 0: return 1 if cur == aim else 0\n",
    "    if dp[cur][rest] != -1: return dp[cur][rest]\n",
    "    ans = 0\n",
    "    if cur == 1: ans = process2(N, 2, aim, rest - 1, dp)\n",
    "    elif cur == N: ans = process2(N, N - 1, aim, rest - 1, dp)\n",
    "    else: ans = process2(N, cur - 1, aim, rest - 1, dp) + process2(N, cur + 1, aim, rest - 1, dp)\n",
    "    dp[cur][rest] = ans\n",
    "    return ans\n",
    "\n",
    "start = time()\n",
    "print(robot2(19, 2, 8, 20))\n",
    "end = time()\n",
    "print(\"用时：\", end-start)\n"
   ]
  },
  {
   "cell_type": "markdown",
   "metadata": {},
   "source": [
    "## 动态规划(画表分析)"
   ]
  },
  {
   "cell_type": "code",
   "execution_count": 45,
   "metadata": {},
   "outputs": [
    {
     "name": "stdout",
     "output_type": "stream",
     "text": [
      "62016\n",
      "用时： 0.0009982585906982422\n"
     ]
    }
   ],
   "source": [
    "def robot3(N: int, start: int, aim: int, K: int) -> int:\n",
    "    \"\"\"\n",
    "    Args:\n",
    "        N (int): 位置总数\n",
    "        start (int): 起始位置\n",
    "        aim (int): 目标位置\n",
    "        K (int): 步数\n",
    "    \"\"\"\n",
    "    dp = []\n",
    "    for i in range(N+1):\n",
    "        dp2 = []\n",
    "        for j in range(K+1):\n",
    "            dp2.append(1) if i == aim and j == 0 else dp2.append(0)\n",
    "        dp.append(dp2)\n",
    "    for rest in range(K+1)[1:]:\n",
    "        dp[1][rest] = dp[2][rest-1]\n",
    "        dp[N][rest] = dp[N-1][rest-1]\n",
    "        for cur in range(N)[2:]:\n",
    "            dp[cur][rest] = dp[cur-1][rest-1] + dp[cur+1][rest-1]\n",
    "    return dp[start][K]\n",
    "\n",
    "start = time()\n",
    "print(robot3(19, 2, 8, 20))\n",
    "end = time()\n",
    "print(\"用时：\", end-start)\n"
   ]
  },
  {
   "cell_type": "markdown",
   "metadata": {},
   "source": [
    "# 题目三：首尾取牌求最大\n",
    "\n",
    "有一个整型数组arr，两玩家分别从头或从尾取一张牌，最后将牌分相加。两玩家都会选择最优解，求先手最高分数"
   ]
  }
 ],
 "metadata": {
  "kernelspec": {
   "display_name": "Python 3.9.12 ('base')",
   "language": "python",
   "name": "python3"
  },
  "language_info": {
   "codemirror_mode": {
    "name": "ipython",
    "version": 3
   },
   "file_extension": ".py",
   "mimetype": "text/x-python",
   "name": "python",
   "nbconvert_exporter": "python",
   "pygments_lexer": "ipython3",
   "version": "3.9.12"
  },
  "orig_nbformat": 4,
  "vscode": {
   "interpreter": {
    "hash": "ad2bdc8ecc057115af97d19610ffacc2b4e99fae6737bb82f5d7fb13d2f2c186"
   }
  }
 },
 "nbformat": 4,
 "nbformat_minor": 2
}
