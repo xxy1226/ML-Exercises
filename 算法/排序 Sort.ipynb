{
 "cells": [
  {
   "cell_type": "markdown",
   "metadata": {},
   "source": [
    "# 冒泡排序 Pop Sort\n",
    "顺序两两比较，大的在右，将大数一个一个移到右边"
   ]
  },
  {
   "cell_type": "code",
   "execution_count": 16,
   "metadata": {},
   "outputs": [],
   "source": [
    "def popSort(arr: list) -> None:\n",
    "    for i in range(len(arr) - 1):\n",
    "        for j in range(len(arr) - i - 1):\n",
    "            if arr[j] > arr[j + 1]:\n",
    "                arr[j], arr[j + 1] = arr[j + 1], arr[j]\n",
    "            j += 1"
   ]
  },
  {
   "cell_type": "code",
   "execution_count": 17,
   "metadata": {},
   "outputs": [
    {
     "name": "stdout",
     "output_type": "stream",
     "text": [
      "[1, 2, 3, 4, 5, 6, 7, 8, 9]\n"
     ]
    }
   ],
   "source": [
    "arr = [3,1,9,5,7,2,8,4,6]\n",
    "popSort(arr)\n",
    "print(arr)"
   ]
  },
  {
   "cell_type": "markdown",
   "metadata": {},
   "source": [
    "# 插入排序 Insertion Sort\n",
    "从第2个数开始，向前扫描。比当前数大的向后挪，直到找到比当前数小的，讲当前数插入此处。"
   ]
  },
  {
   "cell_type": "code",
   "execution_count": 18,
   "metadata": {},
   "outputs": [],
   "source": [
    "def insertionSort(arr: list) -> None:\n",
    "    for i in range(len(arr)):\n",
    "        cur = arr[i]\n",
    "        j = i - 1\n",
    "        while j >= 0 and arr[j] > cur:\n",
    "            arr[j + 1] = arr[j]\n",
    "            j -= 1\n",
    "        arr[j+1] = cur"
   ]
  },
  {
   "cell_type": "code",
   "execution_count": 19,
   "metadata": {},
   "outputs": [
    {
     "name": "stdout",
     "output_type": "stream",
     "text": [
      "[1, 2, 3, 4, 5, 6, 7, 8, 9]\n"
     ]
    }
   ],
   "source": [
    "arr = [3,1,9,5,7,2,8,4,6]\n",
    "insertionSort(arr)\n",
    "print(arr)"
   ]
  },
  {
   "cell_type": "markdown",
   "metadata": {},
   "source": [
    "# 快速排序 Quick Sort\n",
    "每次取一个目标值，将比目标值小的放左边，比目标值大的放右边。左边右边分别继续此行为。"
   ]
  },
  {
   "cell_type": "code",
   "execution_count": 22,
   "metadata": {},
   "outputs": [],
   "source": [
    "# 遞歸1\n",
    "def quickSort(arr: list) -> None:\n",
    "    def quickSortProcess(arr: list, l: int, r: int) -> None:\n",
    "        if l >= r:\n",
    "            return\n",
    "        pivot, i, j = arr[r], l, r - 1\n",
    "        while True:\n",
    "            while i < r and arr[i] <= pivot:\n",
    "                i += 1\n",
    "            while j >= l and arr[j] > pivot:\n",
    "                j -= 1\n",
    "            if i > j:\n",
    "                break\n",
    "            arr[i], arr[j] = arr[j], arr[i]\n",
    "        arr[i], arr[r] = pivot, arr[i]\n",
    "        quickSortProcess(arr, l, i-1)\n",
    "        quickSortProcess(arr, i+1, r)\n",
    "    quickSortProcess(arr, 0, len(arr)-1)\n",
    "                "
   ]
  },
  {
   "cell_type": "code",
   "execution_count": 24,
   "metadata": {},
   "outputs": [
    {
     "name": "stdout",
     "output_type": "stream",
     "text": [
      "[1, 2, 3, 4, 5, 6, 7, 8, 9]\n"
     ]
    }
   ],
   "source": [
    "arr = [3,1,9,5,7,2,8,4,6]\n",
    "quickSort(arr)\n",
    "print(arr)"
   ]
  },
  {
   "cell_type": "code",
   "execution_count": 30,
   "metadata": {},
   "outputs": [],
   "source": [
    "# 遞歸2\n",
    "def quickSortProcess(arr: list, l: int, r: int) -> int:\n",
    "    pivot, i, j = arr[r], l, r - 1\n",
    "    while True:\n",
    "        while i < r and arr[i] <= pivot:\n",
    "            i += 1\n",
    "        while r >= l and arr[j] > pivot:\n",
    "            j -= 1\n",
    "        if j < i:\n",
    "            break\n",
    "        arr[i], arr[j] = arr[j], arr[i]\n",
    "    arr[i], arr[r] = pivot, arr[i]\n",
    "    return i\n",
    "\n",
    "def quickSort(arr: list, l: int = 0, r: int = len(arr)-1) -> None:\n",
    "    if l >= r: return\n",
    "    idx = quickSortProcess(arr, l, r)\n",
    "    quickSort(arr, l, idx - 1)\n",
    "    quickSort(arr, idx + 1, r)"
   ]
  },
  {
   "cell_type": "code",
   "execution_count": 31,
   "metadata": {},
   "outputs": [
    {
     "name": "stdout",
     "output_type": "stream",
     "text": [
      "[1, 2, 3, 4, 5, 6, 7, 8, 9]\n"
     ]
    }
   ],
   "source": [
    "arr = [3,1,9,5,7,2,8,4,6]\n",
    "quickSort(arr)\n",
    "print(arr)"
   ]
  }
 ],
 "metadata": {
  "kernelspec": {
   "display_name": "Python 3.11.0 64-bit",
   "language": "python",
   "name": "python3"
  },
  "language_info": {
   "codemirror_mode": {
    "name": "ipython",
    "version": 3
   },
   "file_extension": ".py",
   "mimetype": "text/x-python",
   "name": "python",
   "nbconvert_exporter": "python",
   "pygments_lexer": "ipython3",
   "version": "3.11.0"
  },
  "orig_nbformat": 4,
  "vscode": {
   "interpreter": {
    "hash": "7f72a02631ee34c77992b8fbf8eeeadc4682e5010f9171c60a2abaa1e6fc77db"
   }
  }
 },
 "nbformat": 4,
 "nbformat_minor": 2
}
