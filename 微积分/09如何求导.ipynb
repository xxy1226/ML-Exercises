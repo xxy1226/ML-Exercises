{
 "cells": [
  {
   "cell_type": "markdown",
   "metadata": {},
   "source": [
    "# 利用定义求导\n",
    "$f'(x)=\\lim\\limits_{\\Delta x\\rightarrow 0}\\frac{f(x+\\Delta x)-f(x)}{\\Delta x}$"
   ]
  },
  {
   "cell_type": "markdown",
   "metadata": {},
   "source": [
    "#  极限的运算法则\n",
    "设$\\lim f(x)=A, \\lim g(x)=B$, 则：\n",
    "\n",
    "1. $\\lim(f(x)\\pm g(x))=A\\pm B;$\n",
    "2. $\\lim(f(x)g(x))=AB;$\n",
    "3. $\\lim(cf(x))=cA;$\n",
    "4. $\\lim\\frac{f(x)}{g(x)}=\\frac{A}{B}(B\\ne 0)$\n",
    "5. $\\lim\\frac{1}{f(x)}=\\frac{1}{A}(A\\ne 0)$\n",
    "6. $\\lim[f(x)]^n=A^n(n\\in\\mathbb{Z}^+)$"
   ]
  },
  {
   "cell_type": "markdown",
   "metadata": {},
   "source": [
    "# 夹逼定理 Sandwich Theorem\n",
    "有函数g(x):\n",
    "* 不知其公式，只知它恒大于f(x)，恒小于h(x).\n",
    "* 已知在某一点f(x), g(x)有极限且相同  \n",
    "则g(x)在这一点的极限也相同"
   ]
  },
  {
   "cell_type": "markdown",
   "metadata": {},
   "source": [
    "# 常见导数\n",
    "\n",
    "常数的导数：\n",
    "$$\\frac{d}{dx}(c)=0$$\n",
    "\n",
    "幂函数的导数：\n",
    "$$\\frac{d}{dx}(x^n)=nx^{n-1}$$\n",
    "\n",
    "指数函数的导数：\n",
    "$$\\frac{d}{dx}(e^x)=e^x$$"
   ]
  },
  {
   "cell_type": "markdown",
   "metadata": {},
   "source": [
    "# 三角函数 Trigonometric Function 的导数\n",
    "$$\\frac{d}{dx}(\\sin x)=\\cos x$$  \n",
    "$$\\frac{d}{dx}(\\cos x)=-\\sin x$$"
   ]
  },
  {
   "cell_type": "markdown",
   "metadata": {},
   "source": [
    "# 导数的计算法则\n",
    "原函数乘以某常数：$$\\frac{d}{dx}[c\\cdot f(x)]=c\\cdot f'(x)$$\n",
    "两个函数相加：$$\\frac{d}{dx}[f(x)+g(x)]=f'(x)+g'(x)$$\n",
    "两个函数相乘：$$\\frac{d}{dx}[f(x)\\cdot g(x)]=f'\\cdot g+f\\cdot g'$$"
   ]
  },
  {
   "cell_type": "markdown",
   "metadata": {},
   "source": [
    "# 链式法则 Chain Rule\n",
    "复合函数：函数套函数 $$(f\\circ g)(x)=f[g(x)]$$\n",
    "例子：$\\sin(x^2)$\n",
    "\n",
    "复合函数求导：$$\\frac{d}{dx}[(f\\circ g)(x)=\\frac{d}{dg}f\\cdot\\frac{d}{dx}g$$"
   ]
  },
  {
   "cell_type": "markdown",
   "metadata": {},
   "source": [
    "# 隐函数 Implicit Function 求导\n",
    "隐函数：**不能**直接写成$f(x)=$什么什么\n",
    "\n",
    "例子： $y^2=x$包含两个函数 $y=\\sqrt x$ 和 $y=-\\sqrt x$\n",
    "\n",
    "$\\frac{d}{dx}(y^2)=\\frac{d}{dy}(y^2)\\cdot\\frac{dy}{dx}=2y\\cdot\\frac{dy}{dx}$\n",
    "\n",
    "同时，$\\frac{d}{dx}(y^2)=\\frac{d}{dx}(x)=1$\n",
    "\n",
    "所以，$1=2y\\cdot\\frac{dy}{dx}$, 所以, $\\frac{dy}{dx}=\\frac{1}{2y}$\n",
    "\n",
    "也就是说，$y=\\sqrt{x}$ 的导函数是 $\\frac{1}{2\\sqrt{x}}$  \n",
    "$y=-\\sqrt{x}$ 的导函数是 $-\\frac{1}{2\\sqrt{x}}$"
   ]
  },
  {
   "cell_type": "markdown",
   "metadata": {},
   "source": [
    "# 反函数 Inverse Function 求导\n",
    "设 $y=f(x)$ 是一个可导函数，有唯一的反函数 $x=f^{-1}(y)$\n",
    "\n",
    "将 $y=f(x)$ 代入 $x=f^{-1}(y)$，就得到 $x=f^{-1}(f(x))$\n",
    "\n",
    "根据复合函数求导法则： $$\\frac{d}{dx}g(f(x))=\\frac{dg(f(x))}{df(x)}\\cdot\\frac{df(x)}{dx}=g'(f(x))f'(x)$$\n",
    "\n",
    "将 $f^{-1}$ 看作是上式中的 $g(x)$ ，就有 $$1=\\frac{d}{dx}x=\\frac{d}{dx}f^{-1}(f(x))=(f^{-1})'(f(x))f'(x)$$\n",
    "\n",
    "所以有 $$(f^{-1})'(f(x))=\\frac{1}{f'(x)}$$\n",
    "\n",
    "即有 $$(f^{-1})'(x)=\\frac{1}{f'(x)}=\\frac{1}{f'f^-1(y))}$$"
   ]
  },
  {
   "cell_type": "markdown",
   "metadata": {},
   "source": [
    "# 对数函数 Logarithmic Function 的导数\n",
    "\n",
    "$$\\log_ex\\equiv\\log x$$\n",
    "\n",
    "$$\\frac{d}{dx}(\\log x)=\\frac{1}{e(\\log x)}=\\frac{1}{x}$$"
   ]
  }
 ],
 "metadata": {
  "kernelspec": {
   "display_name": "Python 3.10.4 64-bit",
   "language": "python",
   "name": "python3"
  },
  "language_info": {
   "name": "python",
   "version": "3.10.4"
  },
  "orig_nbformat": 4,
  "vscode": {
   "interpreter": {
    "hash": "6847c98a8f86b01c6a19c518cd2f366693b80566b266804d5ca763cbb223f52b"
   }
  }
 },
 "nbformat": 4,
 "nbformat_minor": 2
}
