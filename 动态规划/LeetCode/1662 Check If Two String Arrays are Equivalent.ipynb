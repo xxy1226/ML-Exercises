{
 "cells": [
  {
   "cell_type": "markdown",
   "metadata": {},
   "source": [
    "# 1662. Check If Two String Arrays are Equivalent\n",
    "Easy"
   ]
  },
  {
   "cell_type": "markdown",
   "metadata": {},
   "source": [
    "Given two string arrays word1 and word2, return true if the two arrays represent the same string, and false otherwise.\n",
    "\n",
    "A string is represented by an array if the array elements concatenated in order forms the string."
   ]
  },
  {
   "cell_type": "markdown",
   "metadata": {},
   "source": [
    "**Example 1:**\n",
    "\n",
    "> Input: `word1 = [\"ab\", \"c\"], word2 = [\"a\", \"bc\"]`  \n",
    "> Output: `true`  \n",
    "> Explanation:  \n",
    "> word1 represents string \"ab\" + \"c\" -> \"abc\"  \n",
    "> word2 represents string \"a\" + \"bc\" -> \"abc\"  \n",
    "> The strings are the same, so return true."
   ]
  },
  {
   "cell_type": "markdown",
   "metadata": {},
   "source": [
    "**Example 2:**\n",
    "\n",
    "> Input: `word1 = [\"a\", \"cb\"], word2 = [\"ab\", \"c\"]`  \n",
    "> Output: `false`"
   ]
  },
  {
   "cell_type": "markdown",
   "metadata": {},
   "source": [
    "**Example 3:**\n",
    "\n",
    "> Input: `word1  = [\"abc\", \"d\", \"defg\"], word2 = [\"abcddefg\"]`  \n",
    "> Output: `true`\n"
   ]
  },
  {
   "cell_type": "markdown",
   "metadata": {},
   "source": [
    "**Constraints:**\n",
    "\n",
    "> 1 <= word1.length, word2.length <= 10<sup>3</sup>  \n",
    "> 1 <= word1[i].length, word2[i].length <= 10<sup>3</sup>  \n",
    "> 1 <= sum(word1[i].length), sum(word2[i].length) <= 10<sup>3</sup>  \n",
    "> `word1[i]` and `word2[i]` consist of lowercase letters.\n"
   ]
  },
  {
   "cell_type": "code",
   "execution_count": 3,
   "metadata": {},
   "outputs": [],
   "source": [
    "from typing import List\n",
    "\n",
    "\n",
    "class Solution:\n",
    "    def arrayStringAreaEqual(self, word1: List[str], word2: List[str]) -> bool:\n",
    "        return \"\".join(word1)==\"\".join(word2)"
   ]
  },
  {
   "cell_type": "code",
   "execution_count": 4,
   "metadata": {},
   "outputs": [
    {
     "name": "stdout",
     "output_type": "stream",
     "text": [
      "True\n"
     ]
    }
   ],
   "source": [
    "word1 = [\"ab\", \"c\"]\n",
    "word2 = [\"a\", \"bc\"]\n",
    "\n",
    "sol = Solution()\n",
    "print(sol.arrayStringAreaEqual(word1, word2))"
   ]
  },
  {
   "cell_type": "code",
   "execution_count": null,
   "metadata": {},
   "outputs": [],
   "source": []
  }
 ],
 "metadata": {
  "kernelspec": {
   "display_name": "Python 3.9.12 ('base')",
   "language": "python",
   "name": "python3"
  },
  "language_info": {
   "codemirror_mode": {
    "name": "ipython",
    "version": 3
   },
   "file_extension": ".py",
   "mimetype": "text/x-python",
   "name": "python",
   "nbconvert_exporter": "python",
   "pygments_lexer": "ipython3",
   "version": "3.9.12"
  },
  "orig_nbformat": 4,
  "vscode": {
   "interpreter": {
    "hash": "ad2bdc8ecc057115af97d19610ffacc2b4e99fae6737bb82f5d7fb13d2f2c186"
   }
  }
 },
 "nbformat": 4,
 "nbformat_minor": 2
}
