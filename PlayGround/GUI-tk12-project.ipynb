{
 "cells": [
  {
   "cell_type": "code",
   "execution_count": 35,
   "metadata": {},
   "outputs": [],
   "source": [
    "from tkinter import *\n",
    "from tkinter import ttk\n",
    "from tkinter import messagebox\n",
    "\n",
    "class Feedback:\n",
    "    def __init__(self, master):\n",
    "\n",
    "        master.title('Explorer California Feedback')\n",
    "        master.resizable(False, False)\n",
    "        master.configure(background='#e1d8b9')\n",
    "\n",
    "        self.style = ttk.Style()\n",
    "        self.style.configure('TFrame', background='#e1d8b9')\n",
    "        self.style.configure('TButton', background='#e1d8b9')\n",
    "        self.style.configure('TLabel', background='#e1d8b9', font=('Arial', 11))\n",
    "        self.style.configure('Header.TLabel', background='#e1d8b9', font=('Arial', 18, 'bold'))\n",
    "\n",
    "        self.frame_header = ttk.Frame(master)\n",
    "        self.frame_header.pack()\n",
    "        \n",
    "        self.logo = PhotoImage(file='D:\\\\Users\\\\Andrew\\\\文档\\\\Python\\\\ML-Exercises\\\\PlayGround\\\\tour_logo.gif')\n",
    "        ttk.Label(self.frame_header, image=self.logo).grid(row=0, column=0, rowspan=2)\n",
    "        ttk.Label(self.frame_header, text='Thanks for Exploring!', style='Header.TLabel').grid(row=0, column=1)\n",
    "        ttk.Label(self.frame_header, wraplength=300, text=(\"We're glad you chose Explore California for you recent adventure. Please tell us what you thought about the 'Desert to Sea' tour.\")).grid(row=1, column=1)\n",
    "\n",
    "        self.frame_content = ttk.Frame(master)\n",
    "        self.frame_content.pack()\n",
    "\n",
    "        ttk.Label(self.frame_content, text='Name:').grid(row=0, column=0, padx=5, sticky='sw')\n",
    "        ttk.Label(self.frame_content, text='Email:').grid(row=0, column=1, padx=5, sticky='sw')\n",
    "        ttk.Label(self.frame_content, text='Comments:').grid(row=2, column=0, padx=5, sticky='sw')\n",
    "\n",
    "        self.entry_name = ttk.Entry(self.frame_content, width=24, font=('Arial', 11))\n",
    "        self.entry_email = ttk.Entry(self.frame_content, width=24, font=('Arial', 11))\n",
    "        self.entry_name.grid(row=1, column=0, padx=5)\n",
    "        self.entry_email.grid(row=1, column=1, padx=5)\n",
    "\n",
    "        self.text_comments = Text(self.frame_content, width=60, height=10, font=('Arial', 11))\n",
    "        self.text_comments.grid(row=3, column=0, columnspan=2, padx=5)\n",
    "\n",
    "        ttk.Button(self.frame_content, text='Submit', command=self.submit).grid(row=4, column=0, padx=5, sticky='e')\n",
    "        ttk.Button(self.frame_content, text='Clear', command=self.clear).grid(row=4, column=1, padx=5, sticky='w')\n",
    "\n",
    "    def submit(self):\n",
    "        print('Name: {}'.format(self.entry_name.get()))\n",
    "        print('Email: {}'.format(self.entry_email.get()))\n",
    "        print('Comments: {}'.format(self.text_comments.get(1.0, 'end')))\n",
    "        self.clear()\n",
    "        messagebox.showinfo(title=\"Explore California Feedback\", message = \"Comments Submitted!\")\n",
    "\n",
    "    def clear(self):\n",
    "        self.entry_name.delete(0, 'end')\n",
    "        self.entry_email.delete(0, 'end')\n",
    "        self.text_comments.delete(1.0, 'end')\n",
    "\n",
    "\n",
    "def main():\n",
    "    root = Tk()\n",
    "    feedback = Feedback(root)\n",
    "    root.mainloop()\n",
    "\n",
    "if __name__ == '__main__': main()\n"
   ]
  }
 ],
 "metadata": {
  "kernelspec": {
   "display_name": "Python 3",
   "language": "python",
   "name": "python3"
  },
  "language_info": {
   "codemirror_mode": {
    "name": "ipython",
    "version": 3
   },
   "file_extension": ".py",
   "mimetype": "text/x-python",
   "name": "python",
   "nbconvert_exporter": "python",
   "pygments_lexer": "ipython3",
   "version": "3.10.4"
  },
  "orig_nbformat": 4,
  "vscode": {
   "interpreter": {
    "hash": "6847c98a8f86b01c6a19c518cd2f366693b80566b266804d5ca763cbb223f52b"
   }
  }
 },
 "nbformat": 4,
 "nbformat_minor": 2
}
