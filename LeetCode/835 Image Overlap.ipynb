{
 "cells": [
  {
   "cell_type": "markdown",
   "metadata": {},
   "source": [
    "# 835 Image Overlap\n",
    "Medium"
   ]
  },
  {
   "cell_type": "markdown",
   "metadata": {},
   "source": [
    "You are given two images, `img1` and `img2`, represented as binary, square matrices of size `n x n`. A binary matrix has only `0`s and `1`s as values.\n",
    "\n",
    "We **translate** one image however we choose by sliding all the `1` bits left, right, up, and/or down any number of units. We then place it on top of the other image. We can then calculate the **overlap** by counting the number of positions that have a `1` in **both** images.\n",
    "\n",
    "Note also that a translation does **not** include any kind of rotation. Any `1` bits that are translated outside of the matrix borders are erased.\n",
    "\n",
    "Return the largest possible overlap."
   ]
  },
  {
   "cell_type": "code",
   "execution_count": 10,
   "metadata": {},
   "outputs": [
    {
     "name": "stdout",
     "output_type": "stream",
     "text": [
      "aa, ab: 0, 0\n",
      "\n",
      "bb, bc: 0, 10\n",
      "bb, bc: 1, 11\n",
      "bb, bc: 2, 12\n",
      "bb, bc: 3, 13\n",
      "bb, bc: 4, 14\n",
      "\n",
      "\n",
      "aa, ab: 1, 1\n",
      "\n",
      "bb, bc: 0, 10\n",
      "bb, bc: 1, 11\n",
      "bb, bc: 2, 12\n",
      "bb, bc: 3, 13\n",
      "bb, bc: 4, 14\n",
      "\n",
      "\n",
      "aa, ab: 2, 2\n",
      "\n",
      "bb, bc: 0, 10\n",
      "bb, bc: 1, 11\n",
      "bb, bc: 2, 12\n",
      "bb, bc: 3, 13\n",
      "bb, bc: 4, 14\n",
      "\n",
      "\n",
      "aa, ab: 3, 3\n",
      "\n",
      "bb, bc: 0, 10\n",
      "bb, bc: 1, 11\n",
      "bb, bc: 2, 12\n",
      "bb, bc: 3, 13\n",
      "bb, bc: 4, 14\n",
      "\n",
      "\n",
      "aa, ab: 4, 4\n",
      "\n",
      "bb, bc: 0, 10\n",
      "bb, bc: 1, 11\n",
      "bb, bc: 2, 12\n",
      "bb, bc: 3, 13\n",
      "bb, bc: 4, 14\n",
      "\n",
      "\n"
     ]
    }
   ],
   "source": [
    "for aa, ab in enumerate(range(0, 5)):\n",
    "    print(f\"aa, ab: {aa}, {ab}\")\n",
    "    print()\n",
    "    for bb, bc in enumerate(range(10, 15)):\n",
    "        print(f\"bb, bc: {bb}, {bc}\")\n",
    "    print()\n",
    "    print()"
   ]
  },
  {
   "cell_type": "code",
   "execution_count": 33,
   "metadata": {},
   "outputs": [],
   "source": [
    "from typing import List\n",
    "\n",
    "class Solution:\n",
    "    def largestOverlap(self, img1: List[List[int]], img2: List[List[int]]) -> int:\n",
    "        dim = len(img1)\n",
    "        \n",
    "        def shift_and_count(x_shift, y_shift, M, R):\n",
    "            \"\"\"Shift the matrix M in up-left and up-right directions\n",
    "                and count the ones in the overlapping zone.\n",
    "\n",
    "            Args:\n",
    "                x_shift (_type_): _description_\n",
    "                y_shift (_type_): _description_\n",
    "                M (_type_): matrix to be moved\n",
    "                R (_type_): matrix for reference\n",
    "                \n",
    "                moving one matrix up is equivalent to\n",
    "                moving the other matrix down\n",
    "            \"\"\"\n",
    "            left_shift_count, right_shift_count = 0, 0\n",
    "            for r_row, m_row in enumerate(range(y_shift, dim)):\n",
    "                for r_col, m_col in enumerate(range(x_shift, dim)):\n",
    "                    if M[m_row][m_col] == 1 and M[m_row][m_col] == R[r_row][r_col]:\n",
    "                        left_shift_count += 1\n",
    "                    if M[m_row][r_col] == 1 and M[m_row][r_col] == R[r_row][m_col]:\n",
    "                        right_shift_count += 1\n",
    "            return max(left_shift_count, right_shift_count)\n",
    "        \n",
    "        max_overlaps = 0\n",
    "        # move one of the matrice up and left and vice versa\n",
    "        # (equivalent to move the other matrix down and right)\n",
    "        for y_shift in range(dim):\n",
    "            for x_shift in range(dim):\n",
    "                # move the matrix A to the up-right and up-left directions\n",
    "                max_overlaps = max(max_overlaps, shift_and_count(x_shift, y_shift, img1, img2))\n",
    "                # move the matrix img2 to the up-right and up-left directions\n",
    "                # which is equivalent to moving img1 to the down-right and down-left directions\n",
    "                max_overlaps = max(max_overlaps, shift_and_count(x_shift, y_shift, img2, img1))\n",
    "                \n",
    "        return max_overlaps"
   ]
  },
  {
   "cell_type": "code",
   "execution_count": 43,
   "metadata": {},
   "outputs": [],
   "source": [
    "# 练习\n",
    "class Solution:\n",
    "    def largestOverlap(self, img1, img2):\n",
    "        n = len(img1)\n",
    "        ans = 0\n",
    "        for x in range(n):\n",
    "            for y in range(n):\n",
    "                count1, count2, count3, count4 = 0, 0, 0, 0\n",
    "                for x1, x2 in enumerate(range(x, n)):\n",
    "                    for y1, y2 in enumerate(range(y, n)):\n",
    "                        if img1[y1][x1] == 1 and img1[y1][x1] == img2[y2][x2]:\n",
    "                            count1 += 1\n",
    "                        if img1[y1][x2] == 1 and img1[y1][x2] == img2[y2][x1]:\n",
    "                            count2 += 1\n",
    "                        if img2[y1][x1] == 1 and img2[y1][x1] == img1[y2][x2]:\n",
    "                            count3 += 1\n",
    "                        if img2[y1][x2] == 1 and img2[y1][x2] == img1[y2][x1]:\n",
    "                            count4 += 1\n",
    "                ans = max(ans, count1, count2, count3, count4)\n",
    "        return ans"
   ]
  },
  {
   "cell_type": "code",
   "execution_count": 44,
   "metadata": {},
   "outputs": [
    {
     "name": "stdout",
     "output_type": "stream",
     "text": [
      "3\n"
     ]
    }
   ],
   "source": [
    "img1 = [[1,1,0],[0,1,0],[0,1,0]]\n",
    "img2 = [[0,0,0],[0,1,1],[0,0,1]]\n",
    "sol = Solution()\n",
    "print(sol.largestOverlap(img1, img2))"
   ]
  },
  {
   "cell_type": "code",
   "execution_count": 45,
   "metadata": {},
   "outputs": [
    {
     "name": "stdout",
     "output_type": "stream",
     "text": [
      "2\n"
     ]
    }
   ],
   "source": [
    "img1 = [[0,0,0],[1,1,0],[0,0,0]]\n",
    "img2 = [[0,1,1],[0,0,0],[0,0,0]]\n",
    "print(sol.largestOverlap(img1, img2))"
   ]
  },
  {
   "cell_type": "code",
   "execution_count": 46,
   "metadata": {},
   "outputs": [
    {
     "name": "stdout",
     "output_type": "stream",
     "text": [
      "2\n"
     ]
    }
   ],
   "source": [
    "img1 = [[1]]\n",
    "img2 = [[1]]\n",
    "print(sol.largestOverlap(img1, img2))"
   ]
  },
  {
   "cell_type": "code",
   "execution_count": 42,
   "metadata": {},
   "outputs": [
    {
     "name": "stdout",
     "output_type": "stream",
     "text": [
      "1\n"
     ]
    }
   ],
   "source": [
    "img1 = [[0,0,0,0,1],[0,0,0,0,0],[0,0,0,0,0],[0,0,0,0,0],[0,0,0,0,0]]\n",
    "img2 = [[0,0,0,0,0],[0,0,0,0,0],[0,0,0,0,0],[0,0,0,0,0],[1,0,0,0,0]]\n",
    "\n",
    "print(sol.largestOverlap(img1, img2))"
   ]
  },
  {
   "cell_type": "code",
   "execution_count": 47,
   "metadata": {},
   "outputs": [],
   "source": [
    "from collections import defaultdict\n",
    "\n",
    "\n",
    "class Solution:\n",
    "    def largestOverlap(self, img1: List[List[int]], img2: List[List[int]]) -> int:\n",
    "        n = len(img1)\n",
    "        \n",
    "        def non_zero_cells(M):\n",
    "            ret = []\n",
    "            for x in range(n):\n",
    "                for y in range(n):\n",
    "                    if M[x][y] == 1:\n",
    "                        ret.append((x, y))\n",
    "            return ret\n",
    "        \n",
    "        transformation_count = defaultdict(int)\n",
    "        max_overlaps = 0\n",
    "        \n",
    "        A_ones = non_zero_cells(img1)\n",
    "        B_ones = non_zero_cells(img2)\n",
    "        \n",
    "        for (x_a, y_a) in A_ones:\n",
    "            for (x_b, y_b) in B_ones:\n",
    "                vec = (x_b - x_a, y_b - y_a)\n",
    "                transformation_count[vec] += 1\n",
    "                max_overlaps = max(max_overlaps, transformation_count[vec])\n",
    "                \n",
    "        return max_overlaps"
   ]
  },
  {
   "cell_type": "code",
   "execution_count": 48,
   "metadata": {},
   "outputs": [
    {
     "name": "stdout",
     "output_type": "stream",
     "text": [
      "3\n"
     ]
    }
   ],
   "source": [
    "img1 = [[1,1,0],[0,1,0],[0,1,0]]\n",
    "img2 = [[0,0,0],[0,1,1],[0,0,1]]\n",
    "sol = Solution()\n",
    "print(sol.largestOverlap(img1, img2))"
   ]
  },
  {
   "cell_type": "code",
   "execution_count": null,
   "metadata": {},
   "outputs": [],
   "source": []
  }
 ],
 "metadata": {
  "kernelspec": {
   "display_name": "Python 3.8.10 ('base')",
   "language": "python",
   "name": "python3"
  },
  "language_info": {
   "codemirror_mode": {
    "name": "ipython",
    "version": 3
   },
   "file_extension": ".py",
   "mimetype": "text/x-python",
   "name": "python",
   "nbconvert_exporter": "python",
   "pygments_lexer": "ipython3",
   "version": "3.8.10"
  },
  "orig_nbformat": 4,
  "vscode": {
   "interpreter": {
    "hash": "ed9dd54d93773a54077976d71c29f744fe60816153cc35ad40f2c53070f2668f"
   }
  }
 },
 "nbformat": 4,
 "nbformat_minor": 2
}
