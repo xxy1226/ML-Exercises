{
 "cells": [
  {
   "attachments": {},
   "cell_type": "markdown",
   "metadata": {},
   "source": [
    "# 6. Zigzag Conversion\n",
    "Medium"
   ]
  },
  {
   "attachments": {},
   "cell_type": "markdown",
   "metadata": {},
   "source": [
    "The string `\"PAYPALISHIRING\"` is written in a zigzag pattern on a given number of rows like this: (you may want to display this pattern in a fixed font for better legibility)\n",
    "\n",
    "`P` &nbsp;&nbsp;  `A` &nbsp;&nbsp;  `H`&nbsp;&nbsp;` N`  \n",
    "`A` `P` `L` `S` `I` `I` `G`  \n",
    "`Y` &nbsp;&nbsp;  `I` &nbsp;&nbsp;  `R`\n",
    "\n",
    "And then read line by line: `\"PAHNAPLSIIGYIR\"`\n",
    "\n",
    "Write the code that will take a string and make this conversion given a number of rows:\n",
    "\n",
    "`string convert(string s, int numRows);`\n"
   ]
  },
  {
   "attachments": {},
   "cell_type": "markdown",
   "metadata": {},
   "source": [
    "Example 1:\n",
    "\n",
    "Input: s = \"PAYPALISHIRING\", numRows = 3\n",
    "Output: \"PAHNAPLSIIGYIR\"\n"
   ]
  },
  {
   "attachments": {},
   "cell_type": "markdown",
   "metadata": {},
   "source": [
    "Example 2:\n",
    "\n",
    "Input: s = \"PAYPALISHIRING\", numRows = 4  \n",
    "Output: \"PINALSIGYAHRPI\"  \n",
    "Explanation:  \n",
    "`P` &nbsp;&nbsp;&nbsp;&nbsp;&nbsp;    `I` &nbsp;&nbsp;&nbsp;&nbsp;&nbsp;    `N`  \n",
    "`A` &nbsp;&nbsp;  `L`  `S` &nbsp;&nbsp; `I` `G`  \n",
    "`Y` `A` &nbsp;&nbsp;&nbsp;`H` `R`  \n",
    "`P`  &nbsp;&nbsp;&nbsp;&nbsp;&nbsp;  `I`  \n"
   ]
  },
  {
   "attachments": {},
   "cell_type": "markdown",
   "metadata": {},
   "source": [
    "Example 3:\n",
    "\n",
    "Input: s = \"A\", numRows = 1  \n",
    "Output: \"A\"\n"
   ]
  },
  {
   "attachments": {},
   "cell_type": "markdown",
   "metadata": {},
   "source": [
    "Constraints:\n",
    "\n",
    "*    1 <= s.length <= 1000\n",
    "*    s consists of English letters (lower-case and upper-case), ',' and '.'.\n",
    "*    1 <= numRows <= 1000\n"
   ]
  },
  {
   "cell_type": "code",
   "execution_count": 5,
   "metadata": {},
   "outputs": [],
   "source": [
    "class Solution:\n",
    "    def convert(self, s: str, numRows: int) -> str:\n",
    "        if numRows==1 or numRows>len(s):return s\n",
    "        index,plus=0,1\n",
    "        zigzag=['']*numRows\n",
    "        for i in range(len(s)):\n",
    "            zigzag[index]+=s[i]\n",
    "            if index==0:plus=1\n",
    "            elif index==numRows-1:plus=-1\n",
    "            index+=plus\n",
    "        return ''.join(zigzag)\n",
    "\n",
    "solution = Solution() "
   ]
  },
  {
   "cell_type": "code",
   "execution_count": 7,
   "metadata": {},
   "outputs": [
    {
     "name": "stdout",
     "output_type": "stream",
     "text": [
      "PAHNAPLSIIGYIR True\n"
     ]
    }
   ],
   "source": [
    "s = \"PAYPALISHIRING\"\n",
    "numRows = 3\n",
    "answer = solution.convert(s, numRows)\n",
    "print(answer, answer == \"PAHNAPLSIIGYIR\")"
   ]
  }
 ],
 "metadata": {
  "kernelspec": {
   "display_name": "Python 3",
   "language": "python",
   "name": "python3"
  },
  "language_info": {
   "codemirror_mode": {
    "name": "ipython",
    "version": 3
   },
   "file_extension": ".py",
   "mimetype": "text/x-python",
   "name": "python",
   "nbconvert_exporter": "python",
   "pygments_lexer": "ipython3",
   "version": "3.11.0"
  },
  "orig_nbformat": 4,
  "vscode": {
   "interpreter": {
    "hash": "7f72a02631ee34c77992b8fbf8eeeadc4682e5010f9171c60a2abaa1e6fc77db"
   }
  }
 },
 "nbformat": 4,
 "nbformat_minor": 2
}
