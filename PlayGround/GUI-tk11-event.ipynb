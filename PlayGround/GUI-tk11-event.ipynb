{
 "cells": [
  {
   "attachments": {},
   "cell_type": "markdown",
   "metadata": {},
   "source": [
    "# Tk 事件类型\n",
    "* ButtonPress\n",
    "* ButtonRelease\n",
    "* Enter\n",
    "* Leave\n",
    "* Motion\n",
    "* KeyPress\n",
    "* KeyRelease\n",
    "* FocusIn\n",
    "* FocusOut"
   ]
  },
  {
   "attachments": {},
   "cell_type": "markdown",
   "metadata": {},
   "source": [
    "# 可使用 Callback 的小工具\n",
    "* Button\n",
    "* Checkbutton\n",
    "* Radioutton\n",
    "* Spinbox\n",
    "* Scale\n",
    "* Scrollbar"
   ]
  },
  {
   "cell_type": "code",
   "execution_count": 3,
   "metadata": {},
   "outputs": [
    {
     "name": "stdout",
     "output_type": "stream",
     "text": [
      "1\n",
      "1\n",
      "2\n",
      "3\n",
      "1\n"
     ]
    }
   ],
   "source": [
    "from tkinter import *\n",
    "from tkinter import ttk\n",
    "\n",
    "root = Tk()\n",
    "\n",
    "def callback(number):\n",
    "    print(number)\n",
    "\n",
    "ttk.Button(root, text='Click Me 1', command=lambda:callback(1)).pack()\n",
    "ttk.Button(root, text='Click Me 2', command=lambda:callback(2)).pack()\n",
    "ttk.Button(root, text='Click Me 3', command=lambda:callback(3)).pack()\n",
    "\n",
    "\n",
    "root.mainloop()"
   ]
  },
  {
   "attachments": {},
   "cell_type": "markdown",
   "metadata": {},
   "source": [
    "# 键盘事件\n",
    "\n",
    "|Event Format 事件格式|Event Description 事件描述|\n",
    "|:-|:-|\n",
    "|\\<Key\\>, \\<KeyPress\\>|User pressed *any* key.|\n",
    "|\\<KeyPress-Delete\\>|User pressed Delete key.|\n",
    "|\\<KeyRelease-Right\\>|User released Right Arrow key.|\n",
    "|a, b, c, 1, 2, 3, etc... and \\<space\\>, \\<less\\>|User pressed a \"printable\" key.|\n",
    "|\\<Shift_L\\>, \\<Control_R\\>, \\<F5\\>, \\<Up\\>|User pressed a \"special\" key.|\n",
    "|\\<Return\\>|User pressed the Enter key.|\n",
    "|\\<Control-Alt-Next\\>|User pressed Ctrl+Alt+Page keys.|\n",
    "\n",
    "## 例\n",
    "组合键 Ctrl + C 的格式为 \\<Control-c\\>"
   ]
  },
  {
   "cell_type": "code",
   "execution_count": 8,
   "metadata": {},
   "outputs": [
    {
     "name": "stdout",
     "output_type": "stream",
     "text": [
      "type: 2\n",
      "widget: .\n",
      "char: \n",
      "keysym: F2\n",
      "keycode: 2\n",
      "\n",
      "type: 2\n",
      "widget: .\n",
      "char: \n",
      "keysym: F1\n",
      "keycode: 2\n",
      "\n"
     ]
    }
   ],
   "source": [
    "from tkinter import *\n",
    "from tkinter import ttk\n",
    "\n",
    "root = Tk()\n",
    "\n",
    "def key_press(event):\n",
    "    print('type: {}'.format(event.type))\n",
    "    print('widget: {}'.format(event.widget))\n",
    "    print('char: {}'.format(event.char))\n",
    "    print('keysym: {}'.format(event.keysym))\n",
    "    print('keycode: {}'.format(event.type))\n",
    "    print()\n",
    "\n",
    "root.bind('<KeyPress>', key_press)\n",
    "\n",
    "\n",
    "root.mainloop()"
   ]
  },
  {
   "cell_type": "code",
   "execution_count": 11,
   "metadata": {},
   "outputs": [
    {
     "name": "stdout",
     "output_type": "stream",
     "text": [
      "Copy\n",
      "Paste\n",
      "Paste\n",
      "Copy\n"
     ]
    }
   ],
   "source": [
    "from tkinter import *\n",
    "from tkinter import ttk\n",
    "\n",
    "root = Tk()\n",
    "\n",
    "def shortcut(action):\n",
    "    print(action)\n",
    "\n",
    "root.bind('<Control-c>', lambda e:shortcut('Copy'))\n",
    "root.bind('<Control-v>', lambda e:shortcut('Paste'))\n",
    "\n",
    "\n",
    "root.mainloop()"
   ]
  },
  {
   "attachments": {},
   "cell_type": "markdown",
   "metadata": {},
   "source": [
    "# 鼠标事件\n",
    "\n",
    "<1\\>：左键  \n",
    "<2\\>：中键  \n",
    "<3\\>：右键\n",
    "\n",
    "|Event Format 事件格式|Event Description 事件描述|\n",
    "|:-|:-|\n",
    "|\\<Button\\>, \\<ButtonPress\\>|*Any* button was pressed.|\n",
    "|\\<Button-1\\>, \\<ButtonPress-1\\>|Button 1 was pressed.|\n",
    "|\\<ButtonRelease-1\\>|Button 1 was released.|\n",
    "|\\<Double-Button-1\\> or \\<Triple-Button-1\\>|Button 1 was double- or triple-clicked.|\n",
    "|\\<Enter\\>|Mouse entered widget area.|\n",
    "|\\<Leave\\>|Mouse left widget area.|\n",
    "|\\<Motion\\>|Mouse was moved.|\n",
    "|\\<B1-Motion\\>|Mouse was moved with Button 1 held down.|"
   ]
  },
  {
   "cell_type": "code",
   "execution_count": 17,
   "metadata": {},
   "outputs": [
    {
     "name": "stdout",
     "output_type": "stream",
     "text": [
      "type: 4\n",
      "widget: .!canvas\n",
      "num: 1\n",
      "x: 234\n",
      "y: 101\n",
      "x_root: 268\n",
      "y_root: 158\n",
      "type: 4\n",
      "widget: .!canvas\n",
      "num: 1\n",
      "x: 285\n",
      "y: 127\n",
      "x_root: 319\n",
      "y_root: 184\n",
      "type: 4\n",
      "widget: .!canvas\n",
      "num: 1\n",
      "x: 187\n",
      "y: 219\n",
      "x_root: 221\n",
      "y_root: 276\n"
     ]
    }
   ],
   "source": [
    "from tkinter import *\n",
    "from tkinter import ttk\n",
    "\n",
    "root = Tk()\n",
    "\n",
    "def mouse_press(event):\n",
    "    global prev\n",
    "    prev = event\n",
    "    print('type: {}'.format(event.type))\n",
    "    print('widget: {}'.format(event.widget))\n",
    "    print('num: {}'.format(event.num))\n",
    "    print('x: {}'.format(event.x))\n",
    "    print('y: {}'.format(event.y))\n",
    "    print('x_root: {}'.format(event.x_root))\n",
    "    print('y_root: {}'.format(event.y_root))\n",
    "\n",
    "def draw(event):\n",
    "    global prev\n",
    "    canvas.create_line(prev.x, prev.y, event.x, event.y, width=5)\n",
    "    prev = event\n",
    "\n",
    "canvas = Canvas(root, width=640, height=480, background='white')\n",
    "canvas.pack()\n",
    "\n",
    "canvas.bind('<ButtonPress>', mouse_press)\n",
    "canvas.bind('<B1-Motion>', draw)\n",
    "\n",
    "\n",
    "root.mainloop()"
   ]
  },
  {
   "cell_type": "code",
   "execution_count": 19,
   "metadata": {},
   "outputs": [
    {
     "name": "stdout",
     "output_type": "stream",
     "text": [
      "Odd Number!\n",
      "Odd Number!\n",
      "Odd Number!\n",
      "Odd Number!\n",
      "Odd Number!\n",
      "Odd Number!\n"
     ]
    }
   ],
   "source": [
    "from tkinter import *\n",
    "from tkinter import ttk\n",
    "\n",
    "root = Tk()\n",
    "\n",
    "entry = ttk.Entry(root)\n",
    "entry.pack()\n",
    "\n",
    "entry.bind('<<Copy>>', lambda e: print('Copy'))\n",
    "entry.bind('<<Paste>>', lambda e: print('Paste'))\n",
    "\n",
    "entry.event_add('<<OddNumber>>', '1', '3', '5', '7', '9') # 当输入 素数 时触发事件 <<OddNumber>>\n",
    "entry.bind('<<OddNumber>>', lambda e:print('Odd Number!'))\n",
    "\n",
    "print(entry.event_info('<<OddNumber>>')) # 打印 <<OddNumber>> 的信息\n",
    "\n",
    "entry.event_generate('<<OddNumber>>') # 用代码触发 <<OddNumber>> 事件\n",
    "entry.event_generate('<<Paste>>')\n",
    "\n",
    "entry.event_delete('<<OddNumber>>') # 删除事件 <<OddNumber>>\n",
    "\n",
    "root.mainloop()"
   ]
  },
  {
   "cell_type": "code",
   "execution_count": 25,
   "metadata": {},
   "outputs": [
    {
     "name": "stdout",
     "output_type": "stream",
     "text": [
      "<1> Root\n",
      "Escape!\n",
      "Escape!\n",
      "Escape!\n",
      "Escape!\n",
      "Escape!\n"
     ]
    }
   ],
   "source": [
    "from tkinter import *\n",
    "from tkinter import ttk\n",
    "\n",
    "root = Tk()\n",
    "\n",
    "label1 = ttk.Label(root, text='Label 1')\n",
    "label2 = ttk.Label(root, text='Label 2')\n",
    "label1.pack()\n",
    "label2.pack()\n",
    "\n",
    "label1.bind('<ButtonPress>', lambda e: print('<ButtonPress> Label'))\n",
    "label1.bind('<1>', lambda e: print('<1> Label'))\n",
    "\n",
    "root.bind('<1>', lambda e:print('<1> Root'))\n",
    "\n",
    "label1.unbind('<1>') # 解除 <1> 事件的触发\n",
    "label1.unbind('<ButtonPress>') # 解除 <ButtonPress> 事件的触发\n",
    "\n",
    "root.bind_all('<Escape>', lambda e: print('Escape!'))\n",
    "\n",
    "root.mainloop()"
   ]
  }
 ],
 "metadata": {
  "kernelspec": {
   "display_name": "Python 3",
   "language": "python",
   "name": "python3"
  },
  "language_info": {
   "codemirror_mode": {
    "name": "ipython",
    "version": 3
   },
   "file_extension": ".py",
   "mimetype": "text/x-python",
   "name": "python",
   "nbconvert_exporter": "python",
   "pygments_lexer": "ipython3",
   "version": "3.10.4 (tags/v3.10.4:9d38120, Mar 23 2022, 23:13:41) [MSC v.1929 64 bit (AMD64)]"
  },
  "orig_nbformat": 4,
  "vscode": {
   "interpreter": {
    "hash": "6847c98a8f86b01c6a19c518cd2f366693b80566b266804d5ca763cbb223f52b"
   }
  }
 },
 "nbformat": 4,
 "nbformat_minor": 2
}
