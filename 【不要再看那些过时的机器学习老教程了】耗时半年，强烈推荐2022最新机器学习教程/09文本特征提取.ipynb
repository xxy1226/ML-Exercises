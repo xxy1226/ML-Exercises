{
 "cells": [
  {
   "cell_type": "markdown",
   "metadata": {},
   "source": [
    "## 文本特征提取\n",
    "\n",
    "   句子、短语、单词、字母中：\n",
    "   单词 作为 特征\n",
    "   特征：特征词\n",
    "   方法1：CountVectorizer\n",
    "      统计每个样本特征词出现的个数\n"
   ]
  },
  {
   "cell_type": "code",
   "execution_count": 2,
   "metadata": {},
   "outputs": [
    {
     "name": "stdout",
     "output_type": "stream",
     "text": [
      "data_new:\n",
      " [[0 1 1 2 0 1 1 0]\n",
      " [1 1 1 0 1 1 0 1]]\n",
      "特征名字：\n",
      " ['dislike' 'is' 'life' 'like' 'long' 'python' 'short' 'too']\n",
      "特征名字：\n",
      " ['dislike', 'is', 'life', 'like', 'long', 'python', 'short', 'too']\n"
     ]
    },
    {
     "name": "stderr",
     "output_type": "stream",
     "text": [
      "C:\\Users\\andre\\AppData\\Local\\Programs\\Python\\Python310\\lib\\site-packages\\sklearn\\utils\\deprecation.py:87: FutureWarning: Function get_feature_names is deprecated; get_feature_names is deprecated in 1.0 and will be removed in 1.2. Please use get_feature_names_out instead.\n",
      "  warnings.warn(msg, category=FutureWarning)\n"
     ]
    }
   ],
   "source": [
    "from sklearn.feature_extraction.text import CountVectorizer\n",
    "\n",
    "def count_demo():\n",
    "    \"\"\"\n",
    "    文本特征抽取： CountVectorizer\n",
    "    :return:\n",
    "    \"\"\"\n",
    "    data = [\"Life is short, I like like python\", \"Life is too long, I dislike python\"]\n",
    "    # 1. 实例化一个转换器\n",
    "    transfer = CountVectorizer()\n",
    "    # 2. 调用fit_transform\n",
    "    data_new = transfer.fit_transform(data)\n",
    "    print(\"data_new:\\n\", data_new.toarray())\n",
    "    print(\"特征名字：\\n\", transfer.get_feature_names_out())\n",
    "    print(\"特征名字：\\n\", transfer.get_feature_names())\n",
    "    return None\n",
    "\n",
    "if __name__ == \"__main__\":\n",
    "    count_demo()"
   ]
  },
  {
   "cell_type": "code",
   "execution_count": 10,
   "metadata": {},
   "outputs": [
    {
     "name": "stdout",
     "output_type": "stream",
     "text": [
      "data_new:\n",
      " [[1 1 0]\n",
      " [0 1 1]]\n",
      "特征名字：\n",
      " ['北京', '天安门', '太阳']\n"
     ]
    }
   ],
   "source": [
    "from sklearn.feature_extraction.text import CountVectorizer\n",
    "\n",
    "def count_chinese_demo():\n",
    "    \"\"\"\n",
    "    中文文本特征抽取： CountVectorizer\n",
    "    :return:\n",
    "    \"\"\"\n",
    "    data = [\"我 爱 北京 天安门\", \"天安门 上 太阳 升\"]\n",
    "    # 1. 实例化一个转换器\n",
    "    transfer = CountVectorizer()\n",
    "    # 2. 调用fit_transform\n",
    "    data_new = transfer.fit_transform(data)\n",
    "    print(\"data_new:\\n\", data_new.toarray())\n",
    "    print(\"特征名字：\\n\", transfer.get_feature_names())\n",
    "    return None\n",
    "\n",
    "if __name__ == \"__main__\":\n",
    "    count_chinese_demo()"
   ]
  }
 ],
 "metadata": {
  "interpreter": {
   "hash": "35c4bcfff6bb594ff47b51ce5b21bcb1093d06fa0c5debe7002e3be5d50f4cc1"
  },
  "kernelspec": {
   "display_name": "Python 3.10.4 64-bit",
   "language": "python",
   "name": "python3"
  },
  "language_info": {
   "codemirror_mode": {
    "name": "ipython",
    "version": 3
   },
   "file_extension": ".py",
   "mimetype": "text/x-python",
   "name": "python",
   "nbconvert_exporter": "python",
   "pygments_lexer": "ipython3",
   "version": "3.10.4"
  },
  "orig_nbformat": 4
 },
 "nbformat": 4,
 "nbformat_minor": 2
}
