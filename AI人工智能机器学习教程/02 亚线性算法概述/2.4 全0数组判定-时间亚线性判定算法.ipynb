{
 "cells": [
  {
   "cell_type": "markdown",
   "metadata": {},
   "source": [
    "* **输入**：包含n个元素的 0，1 数组 A\n",
    "* **输出**：A 中的元素是否全是0\n",
    "* **要求**：\n",
    "    * 运行时间为o(n)"
   ]
  },
  {
   "cell_type": "markdown",
   "metadata": {},
   "source": [
    "* 无法在要求的时间内得到精确解，寻找近似解\n",
    "    * 判定问题如何近似？\n",
    "* 输入满足某种性质或者**远**非满足次性质"
   ]
  },
  {
   "cell_type": "markdown",
   "metadata": {},
   "source": [
    "* $\\epsilon-$远离  \n",
    "    * 对于输入 x，如果从 x 到 L 中任意字符串的汉明距离至少为 $\\epsilon|x|$，则 x 是 $\\epsilon-$远离 L 的"
   ]
  },
  {
   "cell_type": "markdown",
   "metadata": {},
   "source": [
    "* **算法描述**\n",
    "1. 在 A 中随机独立抽取 $s=\\frac{2}{\\epsilon}$ 个位置上的元素\n",
    "2. 检查抽样，若不包含1，则输出 是 ，若包含 1，则输出 否\n",
    "* **判定精确性分析**\n",
    "* 如果 A 是全 0 数组，始终输出 是\n",
    "* 如果 A 是 $\\epsilon-$远离的，$Pr[error] = Pr[抽样中没有1] ≤ (1-\\epsilon)^s ≈ e^{-\\epsilon s} = e^{-2} < \\frac{1}{3}$\n",
    "* **运行时间**：O(s)\n",
    "* **证据引理**\n",
    "如果一次测试大于等于 p 的概率获得一个证据，那么 s = 2/p 轮测试得到证据的概率大于等于 2/3"
   ]
  },
  {
   "cell_type": "markdown",
   "metadata": {},
   "source": [
    "* 对于判定问题 L，其查询复杂性为 q(n) 和近似参数 $\\epsilon$ 的性质测试算法是一个随机算法，其满足对于给定 L 的是一个实例 x，最多进行 q(|x|) 次查询，并且满足下述性质：\n",
    "    * 如果 x 在 L 之中，该算法以最少 2/3 的概率返回 是\n",
    "    * 如果 x 是 $\\epsilon-$远离 L 的，该算法以最小 2/3 的概率返回 否"
   ]
  }
 ],
 "metadata": {
  "interpreter": {
   "hash": "6847c98a8f86b01c6a19c518cd2f366693b80566b266804d5ca763cbb223f52b"
  },
  "kernelspec": {
   "display_name": "Python 3.10.4 64-bit",
   "language": "python",
   "name": "python3"
  },
  "language_info": {
   "name": "python",
   "version": "3.10.4"
  },
  "orig_nbformat": 4
 },
 "nbformat": 4,
 "nbformat_minor": 2
}
