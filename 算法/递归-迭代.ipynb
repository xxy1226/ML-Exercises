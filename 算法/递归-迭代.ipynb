{
 "cells": [
  {
   "cell_type": "markdown",
   "metadata": {},
   "source": [
    "给定一个数组，用递归的方法找出最大值"
   ]
  },
  {
   "cell_type": "code",
   "execution_count": 20,
   "metadata": {},
   "outputs": [],
   "source": [
    "def getMax(arr: list, l: int, r: int) -> int:\n",
    "    if (l == r):\n",
    "        return arr[l]\n",
    "    mid = (l + r) >> 1\n",
    "    maxLeft = getMax(arr, l, mid)\n",
    "    maxRight = getMax(arr, mid + 1, r)\n",
    "    return max(maxLeft, maxRight)"
   ]
  },
  {
   "cell_type": "code",
   "execution_count": 21,
   "metadata": {},
   "outputs": [
    {
     "name": "stdout",
     "output_type": "stream",
     "text": [
      "6\n"
     ]
    }
   ],
   "source": [
    "arr = [1, 2, 3, 4, 6, 5]\n",
    "print(getMax(arr, 0, len(arr) - 1))"
   ]
  },
  {
   "cell_type": "code",
   "execution_count": 8,
   "metadata": {},
   "outputs": [
    {
     "name": "stdout",
     "output_type": "stream",
     "text": [
      "12\n"
     ]
    }
   ],
   "source": [
    "print(6 << 1)"
   ]
  }
 ],
 "metadata": {
  "kernelspec": {
   "display_name": "Python 3.8.10 ('base')",
   "language": "python",
   "name": "python3"
  },
  "language_info": {
   "codemirror_mode": {
    "name": "ipython",
    "version": 3
   },
   "file_extension": ".py",
   "mimetype": "text/x-python",
   "name": "python",
   "nbconvert_exporter": "python",
   "pygments_lexer": "ipython3",
   "version": "3.8.10"
  },
  "orig_nbformat": 4,
  "vscode": {
   "interpreter": {
    "hash": "ed9dd54d93773a54077976d71c29f744fe60816153cc35ad40f2c53070f2668f"
   }
  }
 },
 "nbformat": 4,
 "nbformat_minor": 2
}
