{
 "cells": [
  {
   "cell_type": "markdown",
   "metadata": {},
   "source": [
    "# 题目\n",
    "\n",
    "一个长度为 n-1 的递增数组中的所有数字都是唯一的，并且每个数字都在范围 0 ~ n-1 之内。在范围 0 ~ n-1 内的 n 个数字中有且只有一个数字不在该数组中，请找出这个数字"
   ]
  },
  {
   "cell_type": "code",
   "execution_count": 15,
   "metadata": {},
   "outputs": [
    {
     "name": "stdout",
     "output_type": "stream",
     "text": [
      "[5, 6]\n",
      "[2]\n",
      "[9, 10]\n",
      "Time: 0.0\n"
     ]
    }
   ],
   "source": [
    "from time import time\n",
    "\n",
    "def findDisappearedNumbers(nums: list) -> list:\n",
    "    n = len(nums)\n",
    "    exist = {}\n",
    "    res = []\n",
    "    for i in range(n):\n",
    "        if nums[i] not in exist:\n",
    "            exist[nums[i]] = True\n",
    "    for i in range(n):\n",
    "        if i+1 not in exist:\n",
    "            res.append(i+1)\n",
    "    return res\n",
    "\n",
    "st = time()\n",
    "nums = [4, 3, 2, 7, 8, 2, 3, 1]\n",
    "print(findDisappearedNumbers(nums))\n",
    "nums = [1, 1]\n",
    "print(findDisappearedNumbers(nums))\n",
    "nums = [8, 3, 1, 5, 6, 4, 7, 5, 2, 1]\n",
    "print(findDisappearedNumbers(nums))\n",
    "en = time()\n",
    "print(\"Time:\", en - st)\n"
   ]
  },
  {
   "cell_type": "markdown",
   "metadata": {},
   "source": [
    "# 进阶\n",
    "不使用额外空间且时间复杂度为 O(n) ，假设返回的数组不算在额外空间内"
   ]
  },
  {
   "cell_type": "code",
   "execution_count": 28,
   "metadata": {},
   "outputs": [
    {
     "name": "stdout",
     "output_type": "stream",
     "text": [
      "[5, 6]\n",
      "[2]\n",
      "[9, 10]\n",
      "Time: 0.0010013580322265625\n"
     ]
    }
   ],
   "source": [
    "from time import time\n",
    "\n",
    "def findDisappearedNumbers(nums: list) -> list:\n",
    "    n = len(nums)\n",
    "    miss = []\n",
    "    for i in range(n):\n",
    "        if nums[abs(nums[i])-1] > 0:\n",
    "            nums[abs(nums[i])-1] = -nums[abs(nums[i])-1]\n",
    "    for i in range(n):\n",
    "        if nums[i] > 0:\n",
    "            miss.append(i + 1)\n",
    "    return miss\n",
    "\n",
    "st = time()\n",
    "nums = [4, 3, 2, 7, 8, 2, 3, 1]\n",
    "print(findDisappearedNumbers(nums))\n",
    "nums = [1, 1]\n",
    "print(findDisappearedNumbers(nums))\n",
    "nums = [8, 3, 1, 5, 6, 4, 7, 5, 2, 1]\n",
    "print(findDisappearedNumbers(nums))\n",
    "en = time()\n",
    "print(\"Time:\", en - st)"
   ]
  },
  {
   "cell_type": "markdown",
   "metadata": {},
   "source": [
    "# 练习\n",
    "\n",
    "一个长度为 n-1 的递增数组，并且每个数字都在范围 0 ~ n-1 之内。在范围 0 ~ n-1 内的 n 个数字中可能有些数字不在该数组中，请找出这些数字  \n",
    "不使用额外空间且时间复杂度为 O(n) ，假设返回的数组不算在额外空间内"
   ]
  },
  {
   "cell_type": "code",
   "execution_count": 4,
   "metadata": {},
   "outputs": [
    {
     "name": "stdout",
     "output_type": "stream",
     "text": [
      "[5, 6]\n",
      "[2]\n",
      "[9, 10]\n",
      "Time: 0.0\n"
     ]
    }
   ],
   "source": [
    "from time import time\n",
    "\n",
    "def findDisappearedNumbers(nums: list) -> list:\n",
    "    n = len(nums)\n",
    "    miss = []\n",
    "    for i in range(n):\n",
    "        if nums[abs(nums[i]) - 1] > 0:\n",
    "            nums[abs(nums[i]) - 1] = -nums[abs(nums[i]) - 1]\n",
    "    for i in range(n):\n",
    "        if nums[i] > 0:\n",
    "            miss.append(i + 1)\n",
    "    return miss\n",
    "\n",
    "st = time()\n",
    "nums = [4, 3, 2, 7, 8, 2, 3, 1]\n",
    "print(findDisappearedNumbers(nums))\n",
    "nums = [1, 1]\n",
    "print(findDisappearedNumbers(nums))\n",
    "nums = [8, 3, 1, 5, 6, 4, 7, 5, 2, 1]\n",
    "print(findDisappearedNumbers(nums))\n",
    "en = time()\n",
    "print(\"Time:\", en - st)"
   ]
  },
  {
   "cell_type": "code",
   "execution_count": null,
   "metadata": {},
   "outputs": [],
   "source": [
    "from time import time\n",
    "\n",
    "def findDisappearedNumbers(nums: list) -> list:\n",
    "    pass\n",
    "\n",
    "st = time()\n",
    "nums = [4, 3, 2, 7, 8, 2, 3, 1]\n",
    "print(findDisappearedNumbers(nums))\n",
    "nums = [1, 1]\n",
    "print(findDisappearedNumbers(nums))\n",
    "nums = [8, 3, 1, 5, 6, 4, 7, 5, 2, 1]\n",
    "print(findDisappearedNumbers(nums))\n",
    "en = time()\n",
    "print(\"Time:\", en - st)"
   ]
  }
 ],
 "metadata": {
  "kernelspec": {
   "display_name": "Python 3.9.12 ('base')",
   "language": "python",
   "name": "python3"
  },
  "language_info": {
   "codemirror_mode": {
    "name": "ipython",
    "version": 3
   },
   "file_extension": ".py",
   "mimetype": "text/x-python",
   "name": "python",
   "nbconvert_exporter": "python",
   "pygments_lexer": "ipython3",
   "version": "3.9.12"
  },
  "orig_nbformat": 4,
  "vscode": {
   "interpreter": {
    "hash": "ad2bdc8ecc057115af97d19610ffacc2b4e99fae6737bb82f5d7fb13d2f2c186"
   }
  }
 },
 "nbformat": 4,
 "nbformat_minor": 2
}
