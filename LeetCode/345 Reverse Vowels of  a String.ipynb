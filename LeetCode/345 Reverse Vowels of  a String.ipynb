{
 "cells": [
  {
   "cell_type": "markdown",
   "metadata": {},
   "source": [
    "# 345. Reverse Vowels of a String\n",
    "Easy"
   ]
  },
  {
   "cell_type": "markdown",
   "metadata": {},
   "source": [
    "Given a string `s`, reverse only all the vowels in the string and return it.\n",
    "\n",
    "The vowels are `'a'`, `'e'`, `'i'`, `'o'`, and `'u'`, and they can appear in both lower and upper cases, more than once."
   ]
  },
  {
   "cell_type": "markdown",
   "metadata": {},
   "source": [
    "**Example 1:**\n",
    "\n",
    "    Input: s = \"hello\"  \n",
    "    Output: \"holle\"\n"
   ]
  },
  {
   "cell_type": "markdown",
   "metadata": {},
   "source": [
    "**Example 2:**\n",
    "\n",
    "    Input: s = \"leetcode\"  \n",
    "    Output: \"leotcede\"\n"
   ]
  },
  {
   "cell_type": "markdown",
   "metadata": {},
   "source": [
    "**Constraints:**\n",
    "\n",
    "* 1 <= s.length <= 3 * 10<sup>5</sup>\n",
    "* s consist of **printable ASCII** characters.\n"
   ]
  },
  {
   "cell_type": "code",
   "execution_count": 13,
   "metadata": {},
   "outputs": [],
   "source": [
    "class Solution:\n",
    "    def reverseVowels(self, s: str) -> str:\n",
    "        i,j = 0, len(s)-1\n",
    "        s = list(s)\n",
    "        v={'a','e','i','o','u','A','E','I','O','U'}\n",
    "        while i<j:\n",
    "            print(i, j)\n",
    "            while s[i] not in v and i < j:\n",
    "                i += 1\n",
    "            while s[j] not in v and i < j:\n",
    "                print(j)\n",
    "                j -= 1\n",
    "            temp = s[i]\n",
    "            s[i] = s[j]\n",
    "            s[j] = temp\n",
    "            i+=1\n",
    "            j-=1\n",
    "        return ''.join(s)"
   ]
  },
  {
   "cell_type": "code",
   "execution_count": 14,
   "metadata": {},
   "outputs": [
    {
     "name": "stdout",
     "output_type": "stream",
     "text": [
      "0 4\n",
      "0\n",
      "2 3\n",
      "2\n",
      "holle\n"
     ]
    }
   ],
   "source": [
    "sol = Solution()\n",
    "print(sol.reverseVowels(\"hello\"))\n",
    "# holle"
   ]
  },
  {
   "cell_type": "code",
   "execution_count": null,
   "metadata": {},
   "outputs": [],
   "source": []
  }
 ],
 "metadata": {
  "kernelspec": {
   "display_name": "Python 3.8.10 ('base')",
   "language": "python",
   "name": "python3"
  },
  "language_info": {
   "codemirror_mode": {
    "name": "ipython",
    "version": 3
   },
   "file_extension": ".py",
   "mimetype": "text/x-python",
   "name": "python",
   "nbconvert_exporter": "python",
   "pygments_lexer": "ipython3",
   "version": "3.8.10"
  },
  "orig_nbformat": 4,
  "vscode": {
   "interpreter": {
    "hash": "ed9dd54d93773a54077976d71c29f744fe60816153cc35ad40f2c53070f2668f"
   }
  }
 },
 "nbformat": 4,
 "nbformat_minor": 2
}
