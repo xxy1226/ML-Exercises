{
 "cells": [
  {
   "attachments": {},
   "cell_type": "markdown",
   "metadata": {},
   "source": [
    "# 小工具状态 States\n",
    "* active\n",
    "* disabled\n",
    "* focus\n",
    "* pressed\n",
    "* selected\n",
    "* background\n",
    "* readonly\n",
    "* alternate\n",
    "* invalid\n",
    "* hover"
   ]
  },
  {
   "cell_type": "code",
   "execution_count": 9,
   "metadata": {},
   "outputs": [],
   "source": [
    "from tkinter import *\n",
    "from tkinter import ttk\n",
    "\n",
    "root = Tk()\n",
    "btn1 = ttk.Button(root, text='Button 1')\n",
    "btn2 = ttk.Button(root, text='Button 2')\n",
    "btn1.pack()\n",
    "btn2.pack()\n",
    "\n",
    "style = ttk.Style()\n",
    "style.theme_names() # 返回可用主题的名称\n",
    "style.theme_use() # 返回当前使用的主题的名称 winnative, clam, alt, default, classic, vista, xpnative\n",
    "style.theme_use('classic') # 使用主题 classic\n",
    "style.theme_use('vista') # 使用主题 vista\n",
    "\n",
    "root.mainloop()"
   ]
  },
  {
   "attachments": {},
   "cell_type": "markdown",
   "metadata": {},
   "source": [
    "# 小工具风格名称\n",
    "通常在最前面加上大写 T\n",
    "也有例外，如Treeview"
   ]
  },
  {
   "cell_type": "code",
   "execution_count": 23,
   "metadata": {},
   "outputs": [
    {
     "name": "stdout",
     "output_type": "stream",
     "text": [
      "TButton\n",
      "[('Button.button', {'sticky': 'nswe', 'children': [('Button.focus', {'sticky': 'nswe', 'children': [('Button.padding', {'sticky': 'nswe', 'children': [('Button.label', {'sticky': 'nswe'})]})]})]})]\n",
      "('compound', 'space', 'text', 'font', 'foreground', 'underline', 'width', 'anchor', 'justify', 'wraplength', 'embossed', 'image', 'stipple', 'background')\n",
      "blue\n"
     ]
    }
   ],
   "source": [
    "from tkinter import *\n",
    "from tkinter import ttk\n",
    "\n",
    "root = Tk()\n",
    "btn1 = ttk.Button(root, text='Button 1')\n",
    "btn2 = ttk.Button(root, text='Button 2')\n",
    "btn1.pack()\n",
    "btn2.pack()\n",
    "\n",
    "style=ttk.Style()\n",
    "\n",
    "print(btn1.winfo_class())\n",
    "style.configure('TButton', foreground='blue')\n",
    "style.configure('Alarm.TButton', foreground='orange', font=('Arial', 24, 'bold'))\n",
    "\n",
    "btn2.config(style='Alarm.TButton')\n",
    "\n",
    "style.map('Alarm.TButton', foreground=[('pressed', 'pink'), ('disabled', 'grey')])\n",
    "btn2.state(['disabled'])\n",
    "\n",
    "print(style.layout('TButton')) # 打印 TButton 的层次结构\n",
    "# [('Button.button', {'sticky': 'nswe', 'children': [('Button.focus', {'sticky': 'nswe', 'children': [('Button.padding', {'sticky': 'nswe', 'children': [('Button.label', {'sticky': 'nswe'})]})]})]})]\n",
    "print(style.element_options('Button.label'))\n",
    "# ('compound', 'space', 'text', 'font', 'foreground', 'underline', 'width', 'anchor', 'justify', 'wraplength', 'embossed', 'image', 'stipple', 'background')\n",
    "print(style.lookup('TButton', 'foreground')) # 打印 TButton 的风格\n",
    "\n",
    "root.mainloop()"
   ]
  }
 ],
 "metadata": {
  "kernelspec": {
   "display_name": "Python 3",
   "language": "python",
   "name": "python3"
  },
  "language_info": {
   "codemirror_mode": {
    "name": "ipython",
    "version": 3
   },
   "file_extension": ".py",
   "mimetype": "text/x-python",
   "name": "python",
   "nbconvert_exporter": "python",
   "pygments_lexer": "ipython3",
   "version": "3.10.4 (tags/v3.10.4:9d38120, Mar 23 2022, 23:13:41) [MSC v.1929 64 bit (AMD64)]"
  },
  "orig_nbformat": 4,
  "vscode": {
   "interpreter": {
    "hash": "6847c98a8f86b01c6a19c518cd2f366693b80566b266804d5ca763cbb223f52b"
   }
  }
 },
 "nbformat": 4,
 "nbformat_minor": 2
}
