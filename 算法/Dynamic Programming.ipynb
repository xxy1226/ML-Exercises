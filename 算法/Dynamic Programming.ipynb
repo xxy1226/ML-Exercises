{
 "cells": [
  {
   "cell_type": "markdown",
   "metadata": {},
   "source": [
    "# [Dynamic Programming](https://www.youtube.com/watch?v=oBt53YbR9Kk)\n",
    "\n",
    "**Part1.** Memoization 记忆  \n",
    "**Part2.** Tabulation 制表"
   ]
  },
  {
   "cell_type": "markdown",
   "metadata": {},
   "source": [
    "### Question1 Fibonacci\n",
    "Write a function `fib(n)` that takes in a number as an argument.  \n",
    "The function should return the n-th number of the Fibonacci sequence.\n",
    "\n",
    "The 1st and 2nd number of the sequence is 1.  \n",
    "To generate the next number of the sequence, we sum the previous two."
   ]
  },
  {
   "cell_type": "code",
   "execution_count": null,
   "metadata": {},
   "outputs": [],
   "source": []
  }
 ],
 "metadata": {
  "language_info": {
   "name": "python"
  },
  "orig_nbformat": 4
 },
 "nbformat": 4,
 "nbformat_minor": 2
}
