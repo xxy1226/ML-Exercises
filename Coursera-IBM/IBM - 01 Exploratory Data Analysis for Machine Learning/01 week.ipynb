{
 "cells": [
  {
   "cell_type": "markdown",
   "metadata": {},
   "source": [
    "# Course Introduction"
   ]
  },
  {
   "cell_type": "markdown",
   "metadata": {},
   "source": [
    "# Introduction to Artificial Intelligence and Machine Learning"
   ]
  },
  {
   "cell_type": "markdown",
   "metadata": {},
   "source": [
    "# Modern AI: Applications and the Machine Learning Workflow\n",
    "\n",
    "## Background and Tools\n",
    "* Python libraries (e.g. NumPy or Pandas), Jupyter Notebooks\n",
    "* Basic statistics including probability, calculating moments, Bayes' Rule\n",
    "\n",
    "Python libraries:\n",
    "- Numpy\n",
    "- Pandas (usually read data into a Pandas DataFrame)\n",
    "- Matplotlib\n",
    "- Seaborn\n",
    "- Scikit-Learn\n",
    "- TensorFlow\n",
    "- Keras\n",
    "\n",
    "## Machine Learning Workflow\n",
    "- **Problem Statement**: What problem are you trying to solve?\n",
    "- **Data Collection**: What data do you need to solve it?\n",
    "- **Data Exploration & preprocessing**: How should you clean your data so your model can use it?\n",
    "- **Modeling**: Build a model to solve your problem?\n",
    "- **Validation**: Did I solve the problem?\n",
    "- **Decision Making & Deployment**: Communicate to stake holders or put into production?\n",
    "\n",
    "## Machine Learning Vocabulary\n",
    "**Target**: category or value that we are trying to predict\n",
    "**features**: explanatory variables used for prediction\n",
    "**Example**: a single data point within the data (one row)\n",
    "**Label**: the target value for a single data point"
   ]
  },
  {
   "cell_type": "markdown",
   "metadata": {},
   "source": [
    "# End of the module review & evaluation"
   ]
  },
  {
   "cell_type": "markdown",
   "metadata": {},
   "source": [
    "1. What is the goal of supervised learning? 1 分  \n",
    "* Find the target.  \n",
    "* Predict the features.  \n",
    "* Find an underlying structure of the dataset without any labels.  \n",
    "* **Predict the labels.**\n",
    "2. What is deep learning? 1 分\n",
    "* **Deep learning is machine learning that involves deep neural networks.**\n",
    "* Deep learning is another name for artificial intelligence.\n",
    "* Deep learning includes artificial intelligence and machine learning. \n",
    "* None of the above are correct.\n",
    "3. When is a standard machine learning algorithm usually a better choice than using deep learning to get the job done? 1 分\n",
    "* When working with small data sets.\n",
    "* *When the data is steady over time. *\n",
    "* *When working with large data sets. *\n",
    "* None of the above are correct.\n",
    "4. What is a Turing test? 1 分\n",
    "* It tests the dataset.\n",
    "* It tests images.\n",
    "* **It tests a machine's ability to exhibit intelligent behavior.** \n",
    "* It tests and cleans the dataset. \n",
    "5. What are some of the different milestones in deep learning history? 1 分\n",
    "* Deep Blue defeats a world champion chess player and TensorFlow is released\n",
    "* Deep Blue defeats a world champion chess player, and Keras is released.\n",
    "* **Geoffrey Hinton’s work, AlexNet, and TensorFlow**\n",
    "* Deep Blue defeats a world champion chess player, and AlexNet is created.\n",
    "6. What is artificial intelligence? 1 分\n",
    "* A subset of deep learning.\n",
    "* **Any program that can sense, reason, act, and adapt.**\n",
    "* A subset of machine learning\n",
    "* None of the above. \n",
    "7. What are two spaces within AI that are going through drastic growth and innovation? 1 分\n",
    "* **Computer vision and natural language processing.**\n",
    "* Deep learning and machine learning. \n",
    "* Computer vision and deep learning.\n",
    "* Language processing and deep learning.\n",
    "8. Why did AI flourish so much in the last years? 1 分\n",
    "* **Faster and inexpensive computers and data storage**\n",
    "* Access to hardware for cleaning data \n",
    "* Data storage in the cloud is much more expensive\n",
    "* Stylish designed computers\n",
    "9. How does Alexa use artificial intelligence? 1 分\n",
    "* Recognizes faces and pictures.\n",
    "* **Recognizes our voice and answers questions.**\n",
    "* Suggests who a person on a photo is.\n",
    "* None of the above answers are correct. \n",
    "10. What are the first two steps of a typical machine learning workflow? 1 分\n",
    "* Problem statement and data cleaning.\n",
    "* **Problem statement and data collection.**\n",
    "* Data collection and data transformation.\n",
    "* None of the above answers is correct. "
   ]
  }
 ],
 "metadata": {
  "kernelspec": {
   "display_name": "Python 3.9.12 ('base')",
   "language": "python",
   "name": "python3"
  },
  "language_info": {
   "name": "python",
   "version": "3.9.12"
  },
  "orig_nbformat": 4,
  "vscode": {
   "interpreter": {
    "hash": "ad2bdc8ecc057115af97d19610ffacc2b4e99fae6737bb82f5d7fb13d2f2c186"
   }
  }
 },
 "nbformat": 4,
 "nbformat_minor": 2
}
