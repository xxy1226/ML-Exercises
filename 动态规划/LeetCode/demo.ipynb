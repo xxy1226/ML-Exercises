{
 "cells": [
  {
   "cell_type": "code",
   "execution_count": 5,
   "metadata": {},
   "outputs": [],
   "source": [
    "class singleNode:\n",
    "    def __init__(self, value = None, next = None):\n",
    "        self.val = value\n",
    "        self.next = next\n",
    "\n",
    "class doubleNode:\n",
    "    def __init__(self, val = None, next = None, prev = None):\n",
    "        self.val = val\n",
    "        self.next = next\n",
    "        self.prev = prev\n"
   ]
  },
  {
   "cell_type": "code",
   "execution_count": 14,
   "metadata": {},
   "outputs": [],
   "source": [
    "singleLinkedListNode = singleNode(1, singleNode(2, singleNode(3, singleNode(4, singleNode(5)))))\n",
    "\n",
    "doubleLinkedList = []\n",
    "while singleLinkedListNode is not None:\n",
    "    doubleLinkedList.append(singleLinkedListNode)\n",
    "    singleLinkedListNode = singleLinkedListNode.next\n",
    "\n",
    "for i in range(1, len(doubleLinkedList)):\n",
    "    doubleLinkedList[-i].next = doubleLinkedList[-i-1]\n",
    "\n",
    "doubleLinkedList[0].next = None\n",
    "\n",
    "singleLinkedListNode = doubleLinkedList[-1]\n"
   ]
  },
  {
   "cell_type": "code",
   "execution_count": 15,
   "metadata": {},
   "outputs": [
    {
     "name": "stdout",
     "output_type": "stream",
     "text": [
      "5\n",
      "4\n",
      "3\n",
      "2\n",
      "1\n"
     ]
    }
   ],
   "source": [
    "while singleLinkedListNode is not None:\n",
    "    print(singleLinkedListNode.val)\n",
    "    singleLinkedListNode = singleLinkedListNode.next\n"
   ]
  },
  {
   "cell_type": "code",
   "execution_count": null,
   "metadata": {},
   "outputs": [],
   "source": []
  }
 ],
 "metadata": {
  "kernelspec": {
   "display_name": "Python 3.9.12 ('base')",
   "language": "python",
   "name": "python3"
  },
  "language_info": {
   "codemirror_mode": {
    "name": "ipython",
    "version": 3
   },
   "file_extension": ".py",
   "mimetype": "text/x-python",
   "name": "python",
   "nbconvert_exporter": "python",
   "pygments_lexer": "ipython3",
   "version": "3.9.12"
  },
  "orig_nbformat": 4,
  "vscode": {
   "interpreter": {
    "hash": "ad2bdc8ecc057115af97d19610ffacc2b4e99fae6737bb82f5d7fb13d2f2c186"
   }
  }
 },
 "nbformat": 4,
 "nbformat_minor": 2
}
