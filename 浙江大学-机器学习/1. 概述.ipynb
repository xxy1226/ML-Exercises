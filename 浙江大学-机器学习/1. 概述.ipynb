{
 "cells": [
  {
   "cell_type": "markdown",
   "metadata": {},
   "source": [
    "# 监督学习根据数据标签存在与否的分类\n",
    "1. 传统的监督学习 Traditional Supervised Learning\n",
    "    * 支持向量机 Support Vector Machine\n",
    "    * 人工神经网络 Neural Networks\n",
    "    * 深度神经网络 Deep Neural Networks\n",
    "2. 非监督学习 Unsupervised Learning\n",
    "    * 聚类 Clustering\n",
    "    * EM算法 Expectation-Maximization algorithm\n",
    "    * 主成分分析 Principle Component Analysis\n",
    "3. 半监督学习 Semi-supervised Learning"
   ]
  },
  {
   "cell_type": "markdown",
   "metadata": {},
   "source": [
    "# 另一种监督学习的分类方法是基于标签的固有属性\n",
    "1. 分类 Classification\n",
    "    * 标签是离散的值\n",
    "2. 回归 Regression\n",
    "    * 标签是连续的值\n",
    "\n"
   ]
  },
  {
   "cell_type": "markdown",
   "metadata": {},
   "source": [
    "特征提取 Feature Extraction\n"
   ]
  }
 ],
 "metadata": {
  "interpreter": {
   "hash": "6847c98a8f86b01c6a19c518cd2f366693b80566b266804d5ca763cbb223f52b"
  },
  "kernelspec": {
   "display_name": "Python 3.10.4 64-bit",
   "language": "python",
   "name": "python3"
  },
  "language_info": {
   "name": "python",
   "version": "3.10.4"
  },
  "orig_nbformat": 4
 },
 "nbformat": 4,
 "nbformat_minor": 2
}
