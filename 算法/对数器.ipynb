{
 "cells": [
  {
   "cell_type": "markdown",
   "metadata": {},
   "source": [
    "假设有一个排序问题，要验证方法是否通过，可以自己创建一个对数器"
   ]
  },
  {
   "cell_type": "code",
   "execution_count": 15,
   "metadata": {},
   "outputs": [
    {
     "name": "stdout",
     "output_type": "stream",
     "text": [
      "Nice!\n"
     ]
    }
   ],
   "source": [
    "from random import random\n",
    "\n",
    "\n",
    "def rightMethod(arr:list) -> None:\n",
    "    \"\"\"这是一个绝对正确的方法\n",
    "    \"\"\"\n",
    "    arr.sort()\n",
    "    \n",
    "def generateRandomArray(size:int, value:int) -> list:\n",
    "    \"\"\"生成一个随机长度的随机数组\n",
    "\n",
    "    Args:\n",
    "        size (int): 最大长度\n",
    "        value (int): 与随机数相关的值\n",
    "\n",
    "    Returns:\n",
    "        list: _description_\n",
    "    \"\"\"\n",
    "    arr = []\n",
    "    for i in range(int((size+1)*random())):\n",
    "        arr.append(int((value+1)*random())) # 这一行是生成随机数的函数，根据情况修改\n",
    "        \n",
    "    return arr\n",
    "\n",
    "def main():\n",
    "    testTime=500000 # 测试次数\n",
    "    size = 10\n",
    "    value = 100\n",
    "    succeed = True\n",
    "    for i in range(testTime):\n",
    "        arr1 = generateRandomArray(size, value)\n",
    "        arr2 = arr1.copy()\n",
    "        arr3 = arr1.copy()\n",
    "        bubbleSort(arr1)\n",
    "        rightMethod(arr2)\n",
    "        if arr1 != arr2:\n",
    "            succeed = False\n",
    "            print(arr1)\n",
    "            print(arr2)\n",
    "            print(arr3)\n",
    "            break\n",
    "    print(\"Nice!\" if succeed else \"Nooo\")\n",
    "    \n",
    "def bubbleSort(arr:list) -> list:\n",
    "    \"\"\"冒泡排序法\n",
    "\n",
    "    Args:\n",
    "        arr (list): 原始数组\n",
    "\n",
    "    Returns:\n",
    "        list: 排序后的数组\n",
    "    \"\"\"\n",
    "    max = len(arr) - 1\n",
    "    while max > 0:\n",
    "        for i in range(max):\n",
    "            if arr[i] > arr[i+1]:\n",
    "                tem = arr[i]\n",
    "                arr[i] = arr[i+1]\n",
    "                arr[i+1] = tem\n",
    "        max -= 1\n",
    "        \n",
    "if __name__ == '__main__':\n",
    "    main()"
   ]
  }
 ],
 "metadata": {
  "kernelspec": {
   "display_name": "Python 3.9.12 ('base')",
   "language": "python",
   "name": "python3"
  },
  "language_info": {
   "codemirror_mode": {
    "name": "ipython",
    "version": 3
   },
   "file_extension": ".py",
   "mimetype": "text/x-python",
   "name": "python",
   "nbconvert_exporter": "python",
   "pygments_lexer": "ipython3",
   "version": "3.9.12"
  },
  "orig_nbformat": 4,
  "vscode": {
   "interpreter": {
    "hash": "ad2bdc8ecc057115af97d19610ffacc2b4e99fae6737bb82f5d7fb13d2f2c186"
   }
  }
 },
 "nbformat": 4,
 "nbformat_minor": 2
}
