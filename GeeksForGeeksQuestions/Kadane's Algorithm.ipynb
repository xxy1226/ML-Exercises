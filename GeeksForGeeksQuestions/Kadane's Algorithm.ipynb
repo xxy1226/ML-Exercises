{
 "cells": [
  {
   "cell_type": "markdown",
   "metadata": {},
   "source": [
    "# Kadane算法\n",
    "\n",
    "Kadane算法扫描一次整个数列的所有数值，在每一个扫描点计算以该点数值为结束点的子数列的最大和（正数和）。该子数列由两部分组成：以前一个位置为结束点的最大子数列、该位置的数值。因为该算法用到了“最佳子结构”（以每个位置为终点的最大子数列都是基于其前一位置的最大子数列计算得出），该算法可看成动态规划的一个例子。\n",
    "\n",
    "算法可用如下Python代码实现："
   ]
  },
  {
   "cell_type": "code",
   "execution_count": 2,
   "metadata": {},
   "outputs": [
    {
     "name": "stdout",
     "output_type": "stream",
     "text": [
      "1 1 1\n",
      "-3 -2 1\n",
      "4 4 4\n",
      "-1 3 4\n",
      "2 5 5\n",
      "1 6 6\n",
      "-5 1 6\n",
      "4 5 6\n"
     ]
    },
    {
     "data": {
      "text/plain": [
       "6"
      ]
     },
     "execution_count": 2,
     "metadata": {},
     "output_type": "execute_result"
    }
   ],
   "source": [
    "def max_subarray(A):\n",
    "    max_ending_here = max_so_far = A[0]\n",
    "    for x in A[1:]:\n",
    "        max_ending_here = max(x, max_ending_here + x)\n",
    "        max_so_far = max(max_so_far, max_ending_here)\n",
    "        print(x, max_ending_here, max_so_far)\n",
    "    return max_so_far\n",
    "\n",
    "max_subarray([-2, 1, -3, 4, -1, 2, 1, -5, 4])"
   ]
  },
  {
   "cell_type": "markdown",
   "metadata": {},
   "source": [
    "\n",
    "该问题的一个变种是：如果数列中含有负数元素，允许返回长度为零的子数列。该问题可用如下代码解决："
   ]
  },
  {
   "cell_type": "code",
   "execution_count": null,
   "metadata": {},
   "outputs": [],
   "source": [
    "def max_subarray(A):\n",
    "    max_ending_here = max_so_far = 0\n",
    "    for x in A:\n",
    "        max_ending_here = max(0, max_ending_here + x)\n",
    "        max_so_far = max(max_so_far, max_ending_here)\n",
    "    return max_so_far"
   ]
  },
  {
   "cell_type": "markdown",
   "metadata": {},
   "source": [
    "这种算法稍作修改就可以记录最大子数列的起始位置。Kadane算法时间复杂度为{\\displaystyle {\\mathcal {O}}(n)}\\mathcal{O}(n)，空间复杂度为{\\displaystyle {\\mathcal {O}}(1)}\\mathcal{O}(1)。"
   ]
  },
  {
   "cell_type": "markdown",
   "metadata": {},
   "source": [
    "# 问题01\n",
    "\n",
    "Given an array **Arr[]** of size **N**. For every element in the array, the task is to find the index of the farthest element in the array to the right which is smaller than the current element. if no such number exists then print **-1**.  \n",
    "给定一个大小为 **N** 的数组 **Arr[]**。 对于数组中的每个元素，任务是找到数组中最右边小于当前元素的元素的索引。 如果不存在这样的数字，则打印 **-1**。\n",
    "\n",
    "**Note**: 0-based indexing is used.\n",
    "\n",
    "**Example 1:**\n",
    "\n",
    "> **Input:**  \n",
    "> N=5  \n",
    "> Arr[] = {3, 1, 5, 2, 4}  \n",
    "> **Output:**  \n",
    "> 3, -1, 4, -1, -1  \n",
    "> **Explanation:**  \n",
    "> Arr[3] is the farthest smaller element to the right of Arr[0].  \n",
    "> Arr[4] is the farthest smaller element to the right of Arr[2].  \n",
    "> and for the rest of the elements, there is no smaller element to their right.\n",
    "\n",
    "**Example 2:**\n",
    "\n",
    "> **Input:**  \n",
    "> N=5  \n",
    "> Arr[] = {1, 2, 3, 4, 0}  \n",
    "> **Output:**  \n",
    "> 4, 4, 4, 4, -1  \n",
    "> **Explanation:**  \n",
    "> Arr[4] is the farthest smaller element to the right of Arr[0], Arr[1], Arr[2] and, Arr[3] respectively. And for Arr[4], there is no smaller element to its right.\n",
    "\n",
    "**Your Task:**  \n",
    "You don't need to read input or print anything, Your task is to complete the function **farNumber()** which takes the N (number of elements in array Arr), Arr[], and returns the array of the farthest elements to the right for every element of the array.\n",
    "\n",
    "**Constraints:**  \n",
    "1 ≤ N ≤ 1e5  \n",
    "0 ≤ Arr[i] ≤ 1e9"
   ]
  },
  {
   "cell_type": "code",
   "execution_count": 9,
   "metadata": {},
   "outputs": [
    {
     "name": "stdout",
     "output_type": "stream",
     "text": [
      "0\n",
      "1\n",
      "2\n",
      "3\n",
      "4\n"
     ]
    }
   ],
   "source": [
    "for i in range (5):\n",
    "    print(i)"
   ]
  },
  {
   "cell_type": "code",
   "execution_count": 13,
   "metadata": {},
   "outputs": [
    {
     "name": "stdout",
     "output_type": "stream",
     "text": [
      "4 4 4 4 -1 \n"
     ]
    }
   ],
   "source": [
    "from typing import List\n",
    "\n",
    "\n",
    "class Solution:\n",
    "    def farNumber(self, N : int, A : List[int]) -> List[int]:\n",
    "        # code here\n",
    "        indexes = []\n",
    "        for i in range(N):\n",
    "            indexes.append(-1)\n",
    "            for j in range(N-i-1):\n",
    "                if A[N-j-1] < A[i]:\n",
    "                    indexes[i] = N-j-1\n",
    "                    break\n",
    "        return indexes\n",
    "\n",
    "\n",
    "#{ \n",
    "#  Driver Code Starts\n",
    "class IntArray:\n",
    "    def __init__(self) -> None:\n",
    "        pass\n",
    "    def Input(self,n):\n",
    "        # arr=[int(i) for i in input().strip().split()]#array input\n",
    "        arr=[int(i) for i in \"12340\"]#array input\n",
    "        return arr\n",
    "    def Print(self,arr):\n",
    "        for i in arr:\n",
    "            print(i,end=\" \")\n",
    "        print()\n",
    "\n",
    "\n",
    "if __name__==\"__main__\":\n",
    "    # t = int(input())\n",
    "    t = 1\n",
    "    for _ in range(t):\n",
    "        \n",
    "        # N = int(input())\n",
    "        N = 5\n",
    "        \n",
    "        A=IntArray().Input(N)\n",
    "        \n",
    "        obj = Solution()\n",
    "        res = obj.farNumber(N, A)\n",
    "        \n",
    "        IntArray().Print(res)\n",
    "        \n",
    "\n",
    "# } Driver Code Ends"
   ]
  }
 ],
 "metadata": {
  "kernelspec": {
   "display_name": "Python 3.8.10 ('base')",
   "language": "python",
   "name": "python3"
  },
  "language_info": {
   "codemirror_mode": {
    "name": "ipython",
    "version": 3
   },
   "file_extension": ".py",
   "mimetype": "text/x-python",
   "name": "python",
   "nbconvert_exporter": "python",
   "pygments_lexer": "ipython3",
   "version": "3.8.10"
  },
  "orig_nbformat": 4,
  "vscode": {
   "interpreter": {
    "hash": "ed9dd54d93773a54077976d71c29f744fe60816153cc35ad40f2c53070f2668f"
   }
  }
 },
 "nbformat": 4,
 "nbformat_minor": 2
}
