{
 "cells": [
  {
   "cell_type": "markdown",
   "metadata": {},
   "source": [
    "# 问题\n",
    "\n",
    "* 如果只知道函数的**导数**是什么，能不能知道**函数**是什么\n",
    "* 例： 如果有**瞬时速度**的计算公式，可不可以找到**时间-位移**的关系\n",
    "\n",
    "积分 Integration：在已知导数的情况下，试图找到原函数  \n",
    "$\\int f'(t)dt=f(t)+c$"
   ]
  },
  {
   "cell_type": "markdown",
   "metadata": {},
   "source": [
    "## 不定积分\n",
    "* 已知**导数**，求出**原函数**（不唯一）"
   ]
  }
 ],
 "metadata": {
  "kernelspec": {
   "display_name": "Python 3.8.10 ('base')",
   "language": "python",
   "name": "python3"
  },
  "language_info": {
   "name": "python",
   "version": "3.8.10"
  },
  "orig_nbformat": 4,
  "vscode": {
   "interpreter": {
    "hash": "ed9dd54d93773a54077976d71c29f744fe60816153cc35ad40f2c53070f2668f"
   }
  }
 },
 "nbformat": 4,
 "nbformat_minor": 2
}
