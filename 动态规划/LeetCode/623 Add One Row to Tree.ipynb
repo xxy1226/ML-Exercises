{
 "cells": [
  {
   "cell_type": "markdown",
   "metadata": {},
   "source": [
    "# 623. Add One Row to Tree\n",
    "Medium\n",
    "\n",
    "Given the `root` of a binary tree and two integers `val` and `depth`, add a row of nodes with value val at the given depth `depth`.\n",
    "\n",
    "Note that the `root` node is at depth 1.\n",
    "\n",
    "The adding rule is:\n",
    "* Given the integer `depth`, for each not null tree node `cur` at the depth `depth - 1`, create two tree nodes with value `val` as `cur`'s left subtree root and right subtree root.\n",
    "* `cur`'s original left subtree should be the left subtree of the new left subtree root.\n",
    "* `cur`'s original right subtree should be the right subtree of the new right subtree root.\n",
    "* If `depth == 1` that means there is no depth `depth - 1` at all, then create a tree node with value val as the new root of the whole original tree, and the original tree is the new root's left subtree.\n",
    "\n",
    "\n",
    "**Example 1:**\n",
    "\n",
    "> Input: root = [4,2,6,3,1,5], val = 1, depth = 2  \n",
    "> Output: [4,1,1,2,null,null,6,3,1,5]\n",
    "\n",
    "**Example 2:**\n",
    "\n",
    "> Input: root = [4,2,null,3,1], val = 1, depth = 3  \n",
    "> Output: [4,2,null,1,1,3,null,null,1]\n",
    "\n",
    " \n",
    "\n",
    "Constraints:\n",
    "\n",
    "    The number of nodes in the tree is in the range [1, 104].\n",
    "    The depth of the tree is in the range [1, 104].\n",
    "    -100 <= Node.val <= 100\n",
    "    -105 <= val <= 105\n",
    "    1 <= depth <= the depth of tree + 1\n",
    "\n",
    "思路1：\n",
    "* 使用递归 `func1(Node, curdepth)` 找到第 `depth-1` 层的所有节点：\n",
    "  * 初始化当前层数 `curdepth = ??` ，初始化节点列表 `node_list = []`\n",
    "  * 递归结束条件：\n",
    "    * 当 `curdepth == 0` 时，列表 `node_list.append(Node)` ，然后返回\n",
    "  * 否则递归：\n",
    "    * 如果 当前 `Node.left is not None:` 执行 `func1(Node.left, curdepth-1)`\n",
    "    * 如果 当前 `Node.right is not None:` 执行 `func1(Node.right, curdepth-1)`\n"
   ]
  },
  {
   "cell_type": "code",
   "execution_count": null,
   "metadata": {},
   "outputs": [],
   "source": []
  }
 ],
 "metadata": {
  "language_info": {
   "name": "python"
  },
  "orig_nbformat": 4
 },
 "nbformat": 4,
 "nbformat_minor": 2
}
