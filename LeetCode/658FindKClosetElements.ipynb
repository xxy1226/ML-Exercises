{
 "cells": [
  {
   "cell_type": "markdown",
   "metadata": {},
   "source": [
    "# 658. Find K Closest Elements"
   ]
  },
  {
   "cell_type": "markdown",
   "metadata": {},
   "source": [
    "Medium"
   ]
  },
  {
   "cell_type": "markdown",
   "metadata": {},
   "source": [
    "Given a **sorted** integer array `arr`, two integers `k` and `x`, return the `k` closest integers to `x` in the array. The result should also be sorted in ascending order.\n",
    "\n",
    "An integer `a` is closer to `x` than an integer `b` if:\n",
    "\n",
    "    |a - x| < |b - x|, or\n",
    "    |a - x| == |b - x| and a < b\n",
    "\n",
    " \n",
    "**Example 1:**\n",
    "\n",
    "> Input: arr = [1,2,3,4,5], k = 4, x = 3  \n",
    "> Output: [1,2,3,4]\n",
    "\n",
    "**Example 2:**\n",
    "\n",
    "> Input: arr = [1,2,3,4,5], k = 4, x = -1  \n",
    "> Output: [1,2,3,4]\n",
    "\n",
    " \n",
    "\n",
    "Constraints:\n",
    "\n",
    "    1 <= k <= arr.length\n",
    "    1 <= arr.length <= 104\n",
    "    arr is sorted in ascending order.\n",
    "    -104 <= arr[i], x <= 104\n",
    "\n"
   ]
  },
  {
   "cell_type": "code",
   "execution_count": 115,
   "metadata": {},
   "outputs": [],
   "source": [
    "from typing import List\n",
    "\n",
    "def findClosestElements(arr: List[int], k: int, x: int) -> List[int]:\n",
    "    print(binarySearch(arr, 0, len(arr), x))\n",
    "    # start = 0\n",
    "    # max_diff = abs(arr[0] - x)\n",
    "    # for i in range(k, len(arr)):\n",
    "    #     if abs(arr[i] - x) < max_diff:\n",
    "    #         start += 1\n",
    "    #         max_diff = abs(arr[start] - x)\n",
    "    #     elif arr[i] <= x:\n",
    "    #         start += 1\n",
    "    #     elif arr[i] > x:\n",
    "    #         break\n",
    "    # return arr[start:start+k]\n",
    "    \n",
    "    # 二分法\n",
    "def binarySearch(arr: List[int], l: int, r: int, x: int) -> int:\n",
    "    print(\"Left: %d, Right %d, Array: %s\" % (l, r, str(arr[l:r])))\n",
    "    if len(arr[l:r])==1:\n",
    "        return l\n",
    "    if r > l:\n",
    "        mid = int(l+r/2)\n",
    "        print(\"Mid: %d -> %d\"%(mid,arr[mid]))\n",
    "        if arr[mid]==x:\n",
    "            return mid\n",
    "        elif arr[mid]>x:\n",
    "            return binarySearch(arr,l,mid-1,x)\n",
    "        else:\n",
    "            return binarySearch(arr,mid+1,r,x)\n",
    "    return l\n",
    "    "
   ]
  },
  {
   "cell_type": "code",
   "execution_count": 116,
   "metadata": {},
   "outputs": [
    {
     "name": "stdout",
     "output_type": "stream",
     "text": [
      "Len: 5\n",
      "Left: 0, Right 5, Array: [1, 2, 3, 4, 5]\n",
      "Mid: 2 -> 3\n",
      "2\n",
      "None\n"
     ]
    }
   ],
   "source": [
    "arr = [1, 2, 3, 4, 5]\n",
    "k = 4\n",
    "x = 3\n",
    "print(findClosestElements(arr, k, x))\n",
    "# [1, 2, 3, 4]"
   ]
  },
  {
   "cell_type": "code",
   "execution_count": 108,
   "metadata": {},
   "outputs": [
    {
     "name": "stdout",
     "output_type": "stream",
     "text": [
      "Left: 0, Right 4, Array: [1, 2, 3, 4, 5]\n",
      "Mid: 1 -> 2\n",
      "Left: 0, Right 0, Array: [1]\n",
      "0\n",
      "None\n"
     ]
    }
   ],
   "source": [
    "arr = [1, 2, 3, 4, 5]\n",
    "k = 4\n",
    "x = -1\n",
    "print(findClosestElements(arr, k, x))\n",
    "# [1, 2, 3, 4]"
   ]
  },
  {
   "cell_type": "code",
   "execution_count": 109,
   "metadata": {},
   "outputs": [
    {
     "name": "stdout",
     "output_type": "stream",
     "text": [
      "Left: 0, Right 5, Array: [1, 1, 1, 10, 10, 10]\n",
      "Mid: 2 -> 1\n",
      "Left: 3, Right 5, Array: [10, 10, 10]\n",
      "Mid: 5 -> 10\n",
      "Left: 3, Right 4, Array: [10, 10]\n",
      "3\n",
      "None\n"
     ]
    }
   ],
   "source": [
    "arr = [1, 1, 1, 10, 10, 10]\n",
    "k = 1\n",
    "x = 9\n",
    "print(findClosestElements(arr, k, x))\n",
    "# [10]"
   ]
  },
  {
   "cell_type": "code",
   "execution_count": 110,
   "metadata": {},
   "outputs": [
    {
     "name": "stdout",
     "output_type": "stream",
     "text": [
      "Left: 0, Right 9, Array: [0, 0, 0, 1, 3, 5, 6, 7, 8, 8]\n",
      "Mid: 4 -> 3\n",
      "Left: 0, Right 3, Array: [0, 0, 0, 1]\n",
      "Mid: 1 -> 0\n",
      "Left: 2, Right 3, Array: [0, 1]\n",
      "2\n",
      "None\n"
     ]
    }
   ],
   "source": [
    "arr = [0,0,0,1,3,5,6,7,8,8]\n",
    "k = 2\n",
    "x = 2\n",
    "print(findClosestElements(arr, k, x))\n",
    "# [1,3]"
   ]
  },
  {
   "cell_type": "code",
   "execution_count": 114,
   "metadata": {},
   "outputs": [
    {
     "name": "stdout",
     "output_type": "stream",
     "text": [
      "[0, 0, 0, 1, 3]\n",
      "10\n"
     ]
    }
   ],
   "source": [
    "arr = [0,0,0,1,3,5,6,7,8,8]\n",
    "print(arr[0:5])\n",
    "print(len(arr))"
   ]
  },
  {
   "cell_type": "code",
   "execution_count": null,
   "metadata": {},
   "outputs": [],
   "source": []
  }
 ],
 "metadata": {
  "kernelspec": {
   "display_name": "Python 3.8.10 ('base')",
   "language": "python",
   "name": "python3"
  },
  "language_info": {
   "codemirror_mode": {
    "name": "ipython",
    "version": 3
   },
   "file_extension": ".py",
   "mimetype": "text/x-python",
   "name": "python",
   "nbconvert_exporter": "python",
   "pygments_lexer": "ipython3",
   "version": "3.8.10"
  },
  "orig_nbformat": 4,
  "vscode": {
   "interpreter": {
    "hash": "ed9dd54d93773a54077976d71c29f744fe60816153cc35ad40f2c53070f2668f"
   }
  }
 },
 "nbformat": 4,
 "nbformat_minor": 2
}
