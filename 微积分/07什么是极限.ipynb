{
 "cells": [
  {
   "cell_type": "markdown",
   "metadata": {},
   "source": [
    "# 极限 Limit\n",
    "\n",
    "命$f$是一个定义于包含c的开区间（或此开区间剔除c）上的实值函数，命$L$是一个实数，那么  \n",
    "$\\lim_{x\\rightarrow c}f(x)=L$  \n",
    "表示对于任意的$\\epsilon>0$，都存在一个对应的$\\delta>0$使得：当$x$满足$0<|x-c|<\\delta$时总有$|f(x)-L|<\\epsilon$成立"
   ]
  },
  {
   "cell_type": "markdown",
   "metadata": {},
   "source": [
    "# 极限不存在的判定\n",
    "* 左右极限**不相等（跳跃）**\n",
    "* **波动**个没完\n",
    "  $f(x)=\\lim_{x\\rightarrow 0}\\sin\\frac{1}{x}$"
   ]
  },
  {
   "cell_type": "markdown",
   "metadata": {},
   "source": [
    "# 连续\n",
    "* 有值\n",
    "* 极限**存在**\n",
    "* **极限 = 函数值**"
   ]
  },
  {
   "cell_type": "markdown",
   "metadata": {},
   "source": [
    "# 导数（极限定义）\n",
    "$f'(x)=\\lim_{\\Delta x\\rightarrow 0}\\frac{f(x+\\Delta x)-f(x)}{\\Delta x}$  \n",
    "如果右边的极限存在，则右边的极限就是左边的导数"
   ]
  }
 ],
 "metadata": {
  "kernelspec": {
   "display_name": "Python 3.10.4 64-bit",
   "language": "python",
   "name": "python3"
  },
  "language_info": {
   "name": "python",
   "version": "3.10.4"
  },
  "orig_nbformat": 4,
  "vscode": {
   "interpreter": {
    "hash": "6847c98a8f86b01c6a19c518cd2f366693b80566b266804d5ca763cbb223f52b"
   }
  }
 },
 "nbformat": 4,
 "nbformat_minor": 2
}
