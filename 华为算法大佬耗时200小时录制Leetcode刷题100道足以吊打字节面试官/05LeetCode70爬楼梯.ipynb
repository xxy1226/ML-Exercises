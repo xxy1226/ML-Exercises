{
 "cells": [
  {
   "cell_type": "markdown",
   "metadata": {},
   "source": [
    "# 题目\n",
    "假设你正在爬楼梯，需要 n 阶你才能到达楼顶，每次你可以爬1或2个台阶。你有多少种不同的方法可以爬到楼顶呢？"
   ]
  },
  {
   "cell_type": "code",
   "execution_count": 2,
   "metadata": {},
   "outputs": [
    {
     "name": "stdout",
     "output_type": "stream",
     "text": [
      "14930352\n",
      "Time: 2.5481984615325928\n"
     ]
    }
   ],
   "source": [
    "from time import time\n",
    "def clime(n: int) -> int:\n",
    "    return process(n)\n",
    "\n",
    "def process(r: int) -> int:\n",
    "    if r == 1: return 1\n",
    "    if r == 2: return 2\n",
    "    return process(r-1) + process(r - 2)\n",
    "\n",
    "st = time()\n",
    "print(clime(35))\n",
    "ed = time()\n",
    "print(\"Time:\", ed - st)"
   ]
  },
  {
   "cell_type": "code",
   "execution_count": 1,
   "metadata": {},
   "outputs": [
    {
     "name": "stdout",
     "output_type": "stream",
     "text": [
      "6835702259575806647045396549170580107055408029365524565407553367798082454408054014954534318953113802726603726769523447478238192192714526677939943338306101405105414819705664090901813637296453767095528104868264704914433529355579148731044685634135487735897954629842516947101494253575869699893400976539545740214819819151952085089538422954565146720383752121972115725761141759114990448978941370030912401573418221496592822626\n",
      "Time: 0.07697558403015137\n"
     ]
    }
   ],
   "source": [
    "from time import time\n",
    "def clime(n: int) -> int:\n",
    "    pd = []\n",
    "    for i in range(n + 1):\n",
    "        pd.append(False) if i > 1 else pd.append(1)\n",
    "    return process(n, pd)\n",
    "\n",
    "def process(r: int, pd: list) -> int:\n",
    "    if not pd[r]: pd[r] = process(r - 1, pd) + process(r - 2, pd)\n",
    "    return pd[r]\n",
    "\n",
    "st = time()\n",
    "print(clime(2000))\n",
    "ed = time()\n",
    "print(\"Time:\", ed - st)"
   ]
  },
  {
   "cell_type": "code",
   "execution_count": 6,
   "metadata": {},
   "outputs": [
    {
     "name": "stdout",
     "output_type": "stream",
     "text": [
      "4224696333392304878706725602341482782579852840250681098010280137314308584370130707224123599639141511088446087538909603607640194711643596029271983312598737326253555802606991585915229492453904998722256795316982874482472992263901833716778060607011615497886719879858311468870876264597369086722884023654422295243347964480139515349562972087652656069529806499841977448720155612802665404554171717881930324025204312082516817125\n",
      "Time: 0.0009999275207519531\n"
     ]
    }
   ],
   "source": [
    "from time import time\n",
    "def clime(n: int) -> int:\n",
    "    if n == 1: return 1\n",
    "    if n == 2: return 2\n",
    "    result = 0\n",
    "    pre = 2\n",
    "    prePre = 1\n",
    "    for i in range(n)[3:]:\n",
    "        result = pre + prePre\n",
    "        prePre = pre\n",
    "        pre = result\n",
    "    return result\n",
    "\n",
    "st = time()\n",
    "print(clime(2000))\n",
    "ed = time()\n",
    "print(\"Time:\", ed - st)"
   ]
  },
  {
   "cell_type": "markdown",
   "metadata": {},
   "source": [
    "# 练习\n",
    "假设你正在爬楼梯，需要 n 阶你才能到达楼顶，每次你可以爬1或2个台阶。你有多少种不同的方法可以爬到楼顶呢？\n",
    "\n",
    "from time import time  \n",
    "def clime(n: int) -> int:    \n",
    "    return process(args)  \n",
    "\n",
    "def process(args: any) -> int:  \n",
    "    return 0  \n",
    "\n",
    "st = time()  \n",
    "print(clime(2000))  \n",
    "ed = time()  \n",
    "print(\"Time:\", ed - st)  "
   ]
  },
  {
   "cell_type": "code",
   "execution_count": 5,
   "metadata": {},
   "outputs": [
    {
     "name": "stdout",
     "output_type": "stream",
     "text": [
      "89\n",
      "3\n",
      "5\n",
      "Time: 0.0\n"
     ]
    }
   ],
   "source": [
    "from time import time  \n",
    "def clime(n: int) -> int:  \n",
    "    if n == 1: return 1\n",
    "    if n == 2: return 2\n",
    "    pre = 2\n",
    "    prePre = 1\n",
    "    res = 0\n",
    "    for i in range(2, n):\n",
    "        res = pre + prePre\n",
    "        prePre = pre\n",
    "        pre = res\n",
    "    return res\n",
    "\n",
    "st = time()  \n",
    "print(clime(10))  \n",
    "print(clime(3))  \n",
    "print(clime(4))  \n",
    "ed = time()  \n",
    "print(\"Time:\", ed - st)  "
   ]
  }
 ],
 "metadata": {
  "kernelspec": {
   "display_name": "Python 3.10.4 64-bit",
   "language": "python",
   "name": "python3"
  },
  "language_info": {
   "codemirror_mode": {
    "name": "ipython",
    "version": 3
   },
   "file_extension": ".py",
   "mimetype": "text/x-python",
   "name": "python",
   "nbconvert_exporter": "python",
   "pygments_lexer": "ipython3",
   "version": "3.10.4"
  },
  "orig_nbformat": 4,
  "vscode": {
   "interpreter": {
    "hash": "6847c98a8f86b01c6a19c518cd2f366693b80566b266804d5ca763cbb223f52b"
   }
  }
 },
 "nbformat": 4,
 "nbformat_minor": 2
}
