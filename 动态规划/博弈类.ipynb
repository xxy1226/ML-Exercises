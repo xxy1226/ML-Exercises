{
 "cells": [
  {
   "cell_type": "markdown",
   "metadata": {},
   "source": [
    "# 博弈论-公平组合博弈（Game Theory - Impartial Combinatorial Games)\n",
    "\n",
    "**Take-Away Games**\n",
    "\n",
    "组合游戏是一种两个玩家的博弈，每个玩家都有完全的信息，不存在随机动作，博弈的结果总是赢或者输。博弈的每一个步骤由一个移动构成，通常玩家会交替的进行移动，直到达到终止状态。终止状态是指从该状态不存在任何一个状态移动方式的状态。\n",
    "\n",
    "显然，博弈的结果从一开始就被决定了，结果由博弈的状态集合、博弈初始状态以及玩家的先后手完全确定。\n",
    "\n",
    "组合博弈的形式由两种，其中一种是**公平组合博弈 Impartial Combinatorial Game**，以下简称 ICG。 ICG 是指在游戏中，两个玩家所能进行的移动是完全相同的。对应的另一种是**游击队组合博弈 Partizan Combinatorial Games**， 就是指两个玩家分别有不同的移动，比如说我们熟知的象棋。"
   ]
  },
  {
   "cell_type": "markdown",
   "metadata": {},
   "source": [
    "## 模板"
   ]
  },
  {
   "cell_type": "code",
   "execution_count": null,
   "metadata": {},
   "outputs": [],
   "source": [
    "def canIWin(n: int) -> bool:\n",
    "    memo = []\n",
    "    for i in range(n+1):\n",
    "        memo.append(None)\n",
    "    return dfs(n, memo)\n",
    "\n",
    "def dfs(n: int, memo: list) -> bool:\n",
    "    if (n < 0): return False\n",
    "    if (memo[n] != None): return memo[n]\n",
    "    memo[n] = False\n",
    "    for i in range(3)+1:\n",
    "        if (n >= i): memo[n] = dfs(n-1, memo)\n",
    "    return memo[n]"
   ]
  },
  {
   "cell_type": "markdown",
   "metadata": {},
   "source": [
    "## Nim Game\n",
    "\n",
    "两个人轮流取 1-3 个石头，拿到最后一个石头的人赢。\n",
    "\n",
    "当给定石头个数时，判断是否先手必胜。"
   ]
  },
  {
   "cell_type": "markdown",
   "metadata": {},
   "source": [
    "### 思考\n",
    "\n",
    "如果 dp[i] 想赢，必须保证 dp[i-1] dp[i-2] dp[i-3] 都输"
   ]
  },
  {
   "cell_type": "code",
   "execution_count": 10,
   "metadata": {},
   "outputs": [
    {
     "data": {
      "text/plain": [
       "True"
      ]
     },
     "execution_count": 10,
     "metadata": {},
     "output_type": "execute_result"
    }
   ],
   "source": [
    "def canWinNim(n: int) -> bool:\n",
    "    if n < 4: return True\n",
    "    dp = [True, True, True]\n",
    "    for i in range(n-3):\n",
    "        dp.append(None)\n",
    "        \n",
    "    for i in range(n-3):\n",
    "        dp[i + 3] = not dp[i] or not dp[i + 1] or not dp[i + 2]\n",
    "    return dp[n-1]\n",
    "\n",
    "canWinNim(9)"
   ]
  },
  {
   "cell_type": "markdown",
   "metadata": {},
   "source": [
    "## 取头取尾得高分 Predict the Winner\n",
    "\n",
    "给定一个非负整数集合，两人轮流从头或从尾拿一个数字，全拿完后分数高者获胜"
   ]
  },
  {
   "cell_type": "code",
   "execution_count": 12,
   "metadata": {},
   "outputs": [
    {
     "data": {
      "text/plain": [
       "False"
      ]
     },
     "execution_count": 12,
     "metadata": {},
     "output_type": "execute_result"
    }
   ],
   "source": [
    "def dfs(piles: list, i: int, j:int, memo: list) -> int:\n",
    "    if (i > j): return 0\n",
    "    if(memo[i][j] is not None): return memo[i][j]\n",
    "    memo[i][j] = max(piles[i] - dfs(piles, i+1, j, memo), piles[j] - dfs(piles, i, j - 1, memo))\n",
    "    return memo[i][j]\n",
    "\n",
    "def predictTheWinner(piles: list) -> bool:\n",
    "    memo = []\n",
    "    for i in range(len(piles)):\n",
    "        memo2 = []\n",
    "        for j in range(len(piles)):\n",
    "            memo2.append(None)\n",
    "        memo.append(memo2)\n",
    "    return dfs(piles, 0, len(piles)-1, memo) >= 0\n",
    "\n",
    "predictTheWinner([1, 8, 4])\n"
   ]
  }
 ],
 "metadata": {
  "kernelspec": {
   "display_name": "Python 3.8.10 ('base')",
   "language": "python",
   "name": "python3"
  },
  "language_info": {
   "codemirror_mode": {
    "name": "ipython",
    "version": 3
   },
   "file_extension": ".py",
   "mimetype": "text/x-python",
   "name": "python",
   "nbconvert_exporter": "python",
   "pygments_lexer": "ipython3",
   "version": "3.8.10"
  },
  "orig_nbformat": 4,
  "vscode": {
   "interpreter": {
    "hash": "ed9dd54d93773a54077976d71c29f744fe60816153cc35ad40f2c53070f2668f"
   }
  }
 },
 "nbformat": 4,
 "nbformat_minor": 2
}
