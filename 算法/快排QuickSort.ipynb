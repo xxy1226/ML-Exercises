{
 "cells": [
  {
   "cell_type": "code",
   "execution_count": 14,
   "metadata": {},
   "outputs": [],
   "source": [
    "def quickSort(arr: list) -> None:\n",
    "    \"\"\"快排\"\"\"\n",
    "    l, r = 0, len(arr) - 1\n",
    "    quickSortProcess(arr, l, r)\n",
    "\n",
    "def quickSortProcess(arr: list, l: int, r: int) -> None:\n",
    "    \"\"\"快排过程\"\"\"\n",
    "    if l >= r: return\n",
    "    positionIndex = position(arr, l, r)\n",
    "    quickSortProcess(arr, l, positionIndex - 1)\n",
    "    quickSortProcess(arr, positionIndex + 1, r)\n",
    "\n",
    "def position(arr: list, l: int, r: int) -> int:\n",
    "    \"\"\"\n",
    "    1. 找出目标值 pivot\n",
    "    2. 将比 pivot 小的值放左边，比 pivot 大的值放右边\n",
    "    3. 将 pivot 放中间\n",
    "    4. 返回 pivot 位置\n",
    "    \"\"\"\n",
    "    pivot = arr[r]\n",
    "    smallerIndex = l\n",
    "    biggerIndex = r - 1\n",
    "    while True:\n",
    "        while smallerIndex < r and arr[smallerIndex] <= pivot:\n",
    "            smallerIndex += 1\n",
    "        while biggerIndex >= l and arr[biggerIndex] > pivot:\n",
    "            biggerIndex -= 1\n",
    "        if smallerIndex > biggerIndex:\n",
    "            break\n",
    "        arr[smallerIndex], arr[biggerIndex] = arr[biggerIndex], arr[smallerIndex]\n",
    "    arr[smallerIndex], arr[r] = arr[r], arr[smallerIndex]\n",
    "    return smallerIndex"
   ]
  },
  {
   "cell_type": "code",
   "execution_count": 15,
   "metadata": {},
   "outputs": [
    {
     "name": "stdout",
     "output_type": "stream",
     "text": [
      "[-6, 0, 1, 2, 3, 5, 6, 8, 9]\n"
     ]
    }
   ],
   "source": [
    "arr = [9,5,2,6,-6,1,0,8,3]\n",
    "quickSort(arr)\n",
    "print(arr)"
   ]
  },
  {
   "cell_type": "code",
   "execution_count": 18,
   "metadata": {},
   "outputs": [],
   "source": [
    "def quickSort(arr):\n",
    "    quickSortProcess(arr, 0, len(arr)-1)\n",
    "\n",
    "def quickSortProcess(arr, l, r):\n",
    "    if l >= r: return\n",
    "    positionIndex = position(arr, l, r)\n",
    "    quickSortProcess(arr, l, positionIndex - 1)\n",
    "    quickSortProcess(arr, positionIndex + 1, r)\n",
    "\n",
    "def position(arr, l, r):\n",
    "    povit = arr[r]\n",
    "    smallerIndex, biggerIndex = l, r-1\n",
    "    while True:\n",
    "        while smallerIndex < r and arr[smallerIndex] <= povit:\n",
    "            smallerIndex += 1\n",
    "        while biggerIndex >= l and arr[biggerIndex] > povit:\n",
    "            biggerIndex -= 1\n",
    "        if smallerIndex > biggerIndex: break\n",
    "        arr[smallerIndex], arr[biggerIndex] = arr[biggerIndex], arr[smallerIndex]\n",
    "    arr[smallerIndex], arr[r] = povit, arr[smallerIndex]\n",
    "    return smallerIndex"
   ]
  },
  {
   "cell_type": "code",
   "execution_count": 19,
   "metadata": {},
   "outputs": [
    {
     "name": "stdout",
     "output_type": "stream",
     "text": [
      "[-6, 0, 1, 2, 3, 5, 6, 8, 9]\n"
     ]
    }
   ],
   "source": [
    "arr = [9,5,2,6,-6,1,0,8,3]\n",
    "quickSort(arr)\n",
    "print(arr)"
   ]
  }
 ],
 "metadata": {
  "kernelspec": {
   "display_name": "Python 3.10.4 64-bit",
   "language": "python",
   "name": "python3"
  },
  "language_info": {
   "codemirror_mode": {
    "name": "ipython",
    "version": 3
   },
   "file_extension": ".py",
   "mimetype": "text/x-python",
   "name": "python",
   "nbconvert_exporter": "python",
   "pygments_lexer": "ipython3",
   "version": "3.10.4"
  },
  "orig_nbformat": 4,
  "vscode": {
   "interpreter": {
    "hash": "6847c98a8f86b01c6a19c518cd2f366693b80566b266804d5ca763cbb223f52b"
   }
  }
 },
 "nbformat": 4,
 "nbformat_minor": 2
}
