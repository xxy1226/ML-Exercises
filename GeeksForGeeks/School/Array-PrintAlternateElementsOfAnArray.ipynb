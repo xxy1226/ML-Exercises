{
 "cells": [
  {
   "cell_type": "markdown",
   "metadata": {},
   "source": [
    "# Question\n",
    "You are given an array **A** of size **N**. You need to print elements of A in alternate order (starting from index 0).\n",
    "\n",
    "## Example 1:\n",
    "\n",
    "> **Input:**  \n",
    "> N = 4  \n",
    "> A[] = {1, 2, 3, 4}  \n",
    "> **Output:**  \n",
    "> 1 3  \n",
    "\n",
    "## Example 2:\n",
    "\n",
    "> **Input:**  \n",
    "> N = 5  \n",
    "> A[] = {1, 2, 3, 4, 5}  \n",
    "> **Output:**  \n",
    "> 1 3 5\n",
    "\n",
    "**Your Task:**  \n",
    "Since this is a function problem, you just need to complete the provided function void print(int ar[],int n)\n",
    "\n",
    "**Constraints:**  \n",
    "$1 <= N <= 10^5$  \n",
    "$1 <= A_i <= 10^5$\n",
    "\n",
    "Expected Time Complexity: **O(n)**  \n",
    "Expected Auxiliary Space: **O(1)**"
   ]
  },
  {
   "cell_type": "code",
   "execution_count": 20,
   "metadata": {},
   "outputs": [
    {
     "name": "stdout",
     "output_type": "stream",
     "text": [
      "505 962 327 945 203 785 843 529 873 959 37 754 304 134 891 568 369 501 789 250 304 364 254 687 153 \n"
     ]
    }
   ],
   "source": [
    "#User function Template for python3\n",
    "\n",
    "# arr is the array\n",
    "# n is the number of elements in array\n",
    "def printAl(arr,n):\n",
    "    # your code here\n",
    "    for i in range(int((n + 1) / 2)):\n",
    "        print(arr[i * 2], end=\" \")\n",
    "\n",
    "#{ \n",
    " # Driver Code Starts\n",
    "#Initial Template for Python 3\n",
    "\n",
    "if __name__==\"__main__\":\n",
    "    n=int(input())\n",
    "    arr=list(map(int,input().split()))\n",
    "    printAl(arr,n)\n",
    "    print()\n",
    "# } Driver Code Ends\n",
    "\n",
    "# input:\n",
    "# 50\n",
    "# 505 614 962 755 327 260 945 203 203 507 785 22 843 869 529 190 873 909 959 499 37 809 754 249 304 334 134 649 891 755 568 747 369 530 501 47 789 798 250 991 304 34 364 498 254 893 687 126 153 997"
   ]
  },
  {
   "cell_type": "code",
   "execution_count": null,
   "metadata": {},
   "outputs": [],
   "source": [
    "#User function Template for python3\n",
    "\n",
    "# arr is the array\n",
    "# n is the number of elements in array\n",
    "def printAl(arr,n):\n",
    "    # your code here\n",
    "\n",
    "\n",
    "#{ \n",
    " # Driver Code Starts\n",
    "#Initial Template for Python 3\n",
    "\n",
    "if __name__==\"__main__\":\n",
    "    t=int(input())\n",
    "    for i in range(t):\n",
    "        n=int(input())\n",
    "        arr=list(map(int,input().split()))\n",
    "        printAl(arr,n)\n",
    "        print()\n",
    "# } Driver Code Ends"
   ]
  }
 ],
 "metadata": {
  "language_info": {
   "name": "python"
  },
  "orig_nbformat": 4
 },
 "nbformat": 4,
 "nbformat_minor": 2
}
