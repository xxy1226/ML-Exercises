{
 "cells": [
  {
   "cell_type": "markdown",
   "metadata": {},
   "source": [
    "# 视频\n",
    "* MIT 公开课 single variable calculus 单变量微积分\n",
    "* 3Blue1Brown 的 Essence of Calculus 微积分的本质\n",
    "\n",
    "# 参考书\n",
    "* 《无穷分析引论》 - 欧拉\n",
    "* Calculus with Analytic Geometry by Simmons, George F.\n",
    "* 托马斯微积分"
   ]
  },
  {
   "cell_type": "code",
   "execution_count": null,
   "metadata": {},
   "outputs": [],
   "source": []
  }
 ],
 "metadata": {
  "kernelspec": {
   "display_name": "Python 3.8.10 ('base')",
   "language": "python",
   "name": "python3"
  },
  "language_info": {
   "name": "python",
   "version": "3.8.10"
  },
  "orig_nbformat": 4,
  "vscode": {
   "interpreter": {
    "hash": "ed9dd54d93773a54077976d71c29f744fe60816153cc35ad40f2c53070f2668f"
   }
  }
 },
 "nbformat": 4,
 "nbformat_minor": 2
}
