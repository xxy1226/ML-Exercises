{
 "cells": [
  {
   "cell_type": "markdown",
   "metadata": {},
   "source": [
    "# [Dynamic Programming](https://www.youtube.com/watch?v=oBt53YbR9Kk)\n",
    "\n",
    "**Part1.** Memoization 记忆  \n",
    "**Part2.** Tabulation 制表"
   ]
  },
  {
   "cell_type": "markdown",
   "metadata": {},
   "source": [
    "### Question1 Fibonacci\n",
    "Write a function `fib(n)` that takes in a number as an argument.  \n",
    "The function should return the n-th number of the Fibonacci sequence.\n",
    "\n",
    "The 1st and 2nd number of the sequence is 1.  \n",
    "To generate the next number of the sequence, we sum the previous two."
   ]
  },
  {
   "cell_type": "code",
   "execution_count": 8,
   "metadata": {},
   "outputs": [
    {
     "data": {
      "text/plain": [
       "13"
      ]
     },
     "execution_count": 8,
     "metadata": {},
     "output_type": "execute_result"
    }
   ],
   "source": [
    "def fib(n:int) -> int:\n",
    "    if n < 1: return -1\n",
    "    if n < 3: return 1\n",
    "    pre = prePre = 1\n",
    "    res = 0\n",
    "    for i in range(2, n):\n",
    "        res = pre + prePre\n",
    "        prePre = pre\n",
    "        pre = res\n",
    "    return res\n",
    "\n",
    "fib(7)"
   ]
  }
 ],
 "metadata": {
  "kernelspec": {
   "display_name": "Python 3.9.12 ('base')",
   "language": "python",
   "name": "python3"
  },
  "language_info": {
   "codemirror_mode": {
    "name": "ipython",
    "version": 3
   },
   "file_extension": ".py",
   "mimetype": "text/x-python",
   "name": "python",
   "nbconvert_exporter": "python",
   "pygments_lexer": "ipython3",
   "version": "3.9.12"
  },
  "orig_nbformat": 4,
  "vscode": {
   "interpreter": {
    "hash": "ad2bdc8ecc057115af97d19610ffacc2b4e99fae6737bb82f5d7fb13d2f2c186"
   }
  }
 },
 "nbformat": 4,
 "nbformat_minor": 2
}
