{
 "cells": [
  {
   "cell_type": "markdown",
   "metadata": {},
   "source": [
    "# 题目\n",
    "已知一个搜索二叉树后序遍历的数组 `posArr`，请重建出整棵树，返回新建树的头结点\n",
    "\n",
    "### 解释：\n",
    "* 搜索二叉树：  \n",
    "即每一个节点的左边子树都比该节点小，右边子树都比该节点大\n",
    "* 后序遍历：  \n",
    "对每一个主树和子树都先输出左边，再输出右边，最后输出头节点\n",
    "\n",
    "如：\n",
    "\n",
    "二叉树：\n",
    "\n",
    "|||||5|||||\n",
    "|:-:|:-:|:-:|:-:|:-:|:-:|:-:|:-:|:-:|\n",
    "||3||||||7||\n",
    "|2||4||||6||8|\n",
    "\n",
    "输出：  \n",
    "[2, 4, 3, 6, 8, 7, 5]"
   ]
  },
  {
   "cell_type": "markdown",
   "metadata": {},
   "source": [
    "# 思路\n",
    "在使用 `posArr` 从 L 到 R 这些数字来建树  \n",
    "建出的每一个节点都连好，然后把整棵树的头节点返回"
   ]
  },
  {
   "cell_type": "code",
   "execution_count": 18,
   "metadata": {},
   "outputs": [
    {
     "name": "stdout",
     "output_type": "stream",
     "text": [
      "8\n"
     ]
    }
   ],
   "source": [
    "class Node():\n",
    "    def __init__(self, data, left=None, right=None):\n",
    "        self.data = data\n",
    "        self.left = left\n",
    "        self.right = right\n",
    "\n",
    "def posArrayToBST1(posArr: list) -> Node:\n",
    "    \"\"\"主函数\"\"\"\n",
    "    return process1(posArr, 0, len(posArr) - 1)\n",
    "\n",
    "def process1(posArr: list, L: int, R: int) -> Node:\n",
    "    if L > R: return None\n",
    "    # 由于是后序遍历，当前根节点为R位置上的数\n",
    "    head = Node(posArr[R])\n",
    "    if L == R: return head\n",
    "    # 如果进行到这里，L < R\n",
    "    M = L - 1\n",
    "    for i in range(L, R):\n",
    "        if posArr[i] < posArr[R]:\n",
    "            M = i\n",
    "    head.left = process1(posArr, L, M)\n",
    "    head.right = process1(posArr, M + 1, R - 1)\n",
    "    return head\n",
    "\n",
    "print(posArrayToBST1([2, 1, 3, 4, 6, 8, 7, 5]).right.right.data)\n",
    "    "
   ]
  },
  {
   "cell_type": "markdown",
   "metadata": {},
   "source": [
    "# 优化\n",
    "\n",
    "在寻找中间大小时使用**二分法**"
   ]
  },
  {
   "cell_type": "code",
   "execution_count": null,
   "metadata": {},
   "outputs": [],
   "source": [
    "class Node():\n",
    "    def __init__(self, data, left=None, right=None):\n",
    "        self.data = data\n",
    "        self.left = left\n",
    "        self.right = right\n",
    "\n",
    "def posArrayToBST2(posArr: list) -> Node:\n",
    "    \"\"\"主函数\"\"\"\n",
    "    return process2(posArr, 0, len(posArr) - 1)\n",
    "\n",
    "def process2(posArr: list, L: int, R: int) -> Node:\n",
    "    if L > R: return None\n",
    "    # 由于是后序遍历，当前根节点为R位置上的数\n",
    "    head = Node(posArr[R])\n",
    "    if L == R: return head\n",
    "    # 如果进行到这里，L < R\n",
    "    \n",
    "    # 此处优化-二分法\n",
    "    M = L - 1\n",
    "    left = L\n",
    "    right = R - 1\n",
    "    while left <= right:\n",
    "        mid = left + ((right - left)>>1)\n",
    "        if(posArr[mid] < posArr[R]):\n",
    "            left = mid + 1\n",
    "        else:\n",
    "            right = mid - 1\n",
    "    head.left = process1(posArr, L, M)\n",
    "    head.right = process1(posArr, M + 1, R - 1)\n",
    "    return head\n",
    "\n",
    "print(posArrayToBST2([2, 1, 3, 4, 6, 8, 7, 5]).right.right.data)\n",
    "    "
   ]
  }
 ],
 "metadata": {
  "kernelspec": {
   "display_name": "Python 3.9.12 ('base')",
   "language": "python",
   "name": "python3"
  },
  "language_info": {
   "codemirror_mode": {
    "name": "ipython",
    "version": 3
   },
   "file_extension": ".py",
   "mimetype": "text/x-python",
   "name": "python",
   "nbconvert_exporter": "python",
   "pygments_lexer": "ipython3",
   "version": "3.9.12"
  },
  "orig_nbformat": 4,
  "vscode": {
   "interpreter": {
    "hash": "ad2bdc8ecc057115af97d19610ffacc2b4e99fae6737bb82f5d7fb13d2f2c186"
   }
  }
 },
 "nbformat": 4,
 "nbformat_minor": 2
}
