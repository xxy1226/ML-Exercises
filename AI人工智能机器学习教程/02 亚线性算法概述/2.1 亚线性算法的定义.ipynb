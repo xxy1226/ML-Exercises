{
 "cells": [
  {
   "cell_type": "markdown",
   "metadata": {},
   "source": [
    "# 时间/空间/IO/通讯/能量等消耗是o（输入规模）\n",
    "* 亚线型时间算法\n",
    "    * 压线性时间近似算法\n",
    "    * 性质检测算法\n",
    "* 亚线性空间算法\n",
    "    * 数据流算法"
   ]
  }
 ],
 "metadata": {
  "language_info": {
   "name": "python"
  },
  "orig_nbformat": 4
 },
 "nbformat": 4,
 "nbformat_minor": 2
}
