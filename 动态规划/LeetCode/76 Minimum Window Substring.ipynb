{
 "cells": [
  {
   "cell_type": "markdown",
   "metadata": {},
   "source": [
    "# 76. Minimum Window Substring"
   ]
  },
  {
   "cell_type": "markdown",
   "metadata": {},
   "source": [
    "Hard"
   ]
  },
  {
   "cell_type": "markdown",
   "metadata": {},
   "source": [
    "Given two strings `s` and `t` of lengths `m` and `n` respectively, return the ***minimum window substring** of *`s`* such that every character in *`t`* (**including duplicates**) is included in the window. If there is no such substring, return the empty string* `\"\"`.\n",
    "\n",
    "The testcases will be generated such that the answer is **unique**.\n",
    "\n",
    "A **substring** is a contiguous sequence of characters within the string."
   ]
  },
  {
   "cell_type": "markdown",
   "metadata": {},
   "source": [
    "### Example 1:\n",
    "\n",
    "Input: s = \"ADOBECODEBANC\", t = \"ABC\"\n",
    "Output: \"BANC\"\n",
    "Explanation: The minimum window substring \"BANC\" includes 'A', 'B', and 'C' from string t."
   ]
  },
  {
   "cell_type": "markdown",
   "metadata": {},
   "source": [
    "### Example 2:\n",
    "\n",
    "Input: s = \"a\", t = \"a\"\n",
    "Output: \"a\"\n",
    "Explanation: The entire string s is the minimum window."
   ]
  },
  {
   "cell_type": "markdown",
   "metadata": {},
   "source": [
    "### Example 3:\n",
    "\n",
    "Input: s = \"a\", t = \"aa\"\n",
    "Output: \"\"\n",
    "Explanation: Both 'a's from t must be included in the window.\n",
    "Since the largest window of s only has one 'a', return empty string."
   ]
  },
  {
   "cell_type": "markdown",
   "metadata": {},
   "source": [
    "Constraints:\n",
    "\n",
    "    m == s.length\n",
    "    n == t.length\n",
    "    1 <= m, n <= 105\n",
    "    s and t consist of uppercase and lowercase English letters."
   ]
  },
  {
   "cell_type": "markdown",
   "metadata": {},
   "source": [
    "Follow up: Could you find an algorithm that runs in O(m + n) time?"
   ]
  },
  {
   "cell_type": "code",
   "execution_count": 25,
   "metadata": {},
   "outputs": [],
   "source": [
    "import collections\n",
    "\n",
    "def minWindow(s: str, t: str) -> str:\n",
    "    ans = str()\n",
    "    need = collections.Counter(t)\n",
    "    missing = len(t)\n",
    "    print(need)\n",
    "    i = I = J = 0\n",
    "    for j, c in enumerate(s, 1):\n",
    "        print(j, c)\n",
    "        print(need[c])\n",
    "        print(missing)\n",
    "        missing -= need[c] > 0\n",
    "        need[c] -= 1\n",
    "        print(missing)\n",
    "\n",
    "    return ans"
   ]
  },
  {
   "cell_type": "code",
   "execution_count": 26,
   "metadata": {},
   "outputs": [
    {
     "name": "stdout",
     "output_type": "stream",
     "text": [
      "Counter({'A': 1, 'B': 1, 'C': 1})\n",
      "1 A\n",
      "1\n",
      "3\n",
      "2\n",
      "2 D\n",
      "0\n",
      "2\n",
      "2\n",
      "3 O\n",
      "0\n",
      "2\n",
      "2\n",
      "4 B\n",
      "1\n",
      "2\n",
      "1\n",
      "5 E\n",
      "0\n",
      "1\n",
      "1\n",
      "6 C\n",
      "1\n",
      "1\n",
      "0\n",
      "7 O\n",
      "-1\n",
      "0\n",
      "0\n",
      "8 D\n",
      "-1\n",
      "0\n",
      "0\n",
      "9 E\n",
      "-1\n",
      "0\n",
      "0\n",
      "10 B\n",
      "0\n",
      "0\n",
      "0\n",
      "11 A\n",
      "0\n",
      "0\n",
      "0\n",
      "12 N\n",
      "0\n",
      "0\n",
      "0\n",
      "13 C\n",
      "0\n",
      "0\n",
      "0\n",
      "\n"
     ]
    }
   ],
   "source": [
    "s, t = \"ADOBECODEBANC\", \"ABC\"\n",
    "print(minWindow(s, t))"
   ]
  },
  {
   "cell_type": "code",
   "execution_count": null,
   "metadata": {},
   "outputs": [],
   "source": []
  }
 ],
 "metadata": {
  "kernelspec": {
   "display_name": "Python 3.9.12 ('base')",
   "language": "python",
   "name": "python3"
  },
  "language_info": {
   "codemirror_mode": {
    "name": "ipython",
    "version": 3
   },
   "file_extension": ".py",
   "mimetype": "text/x-python",
   "name": "python",
   "nbconvert_exporter": "python",
   "pygments_lexer": "ipython3",
   "version": "3.9.12"
  },
  "orig_nbformat": 4,
  "vscode": {
   "interpreter": {
    "hash": "ad2bdc8ecc057115af97d19610ffacc2b4e99fae6737bb82f5d7fb13d2f2c186"
   }
  }
 },
 "nbformat": 4,
 "nbformat_minor": 2
}
