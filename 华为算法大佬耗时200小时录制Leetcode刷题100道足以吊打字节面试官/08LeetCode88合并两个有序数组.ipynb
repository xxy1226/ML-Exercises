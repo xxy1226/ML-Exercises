{
 "cells": [
  {
   "cell_type": "markdown",
   "metadata": {},
   "source": [
    "# 题目\n",
    "\n",
    "有两个 **升序** 的整数数组 `nums1` 和 `nums2`，另有两个整数 `m` 和 `n`，分别表示 `nums1` 和`nums2` 中的元素数目。\n",
    "\n",
    "请 **合并**  `nums2` 到 `nums1` 中，是合并后的数组同样按 **升序** 排列\n",
    "\n",
    "**注意**： 最终，合并后数组不应由函数返回，而是存储在数组  `nums1` 中。为了应对这种情况， `nums1` 的初始长度为 `m + n`，其中前 `m` 个元素表示应合并的元素，后 `n` 个元素为 0 ，应忽略。`num2` 的长度为 n。"
   ]
  },
  {
   "cell_type": "code",
   "execution_count": 1,
   "metadata": {},
   "outputs": [
    {
     "name": "stdout",
     "output_type": "stream",
     "text": [
      "3\n",
      "4\n",
      "5\n"
     ]
    }
   ],
   "source": [
    "from time import time\n",
    "def merge(nums1: list, m: int, nums2: list, n: int) -> None:\n",
    "    for i in range(n):\n",
    "        nums1[i + m] = nums2[i]\n",
    "    nums1.sort()"
   ]
  },
  {
   "cell_type": "code",
   "execution_count": 20,
   "metadata": {},
   "outputs": [
    {
     "name": "stdout",
     "output_type": "stream",
     "text": [
      "[1, 2, 2, 3, 5, 6]\n",
      "[1]\n",
      "time: 0.0009987354278564453\n"
     ]
    }
   ],
   "source": [
    "from time import time\n",
    "\n",
    "def merge(nums1: list, m: int, nums2: list, n: int) -> None:\n",
    "    nums = []\n",
    "    i1 = m - 1\n",
    "    i2 = n - 1\n",
    "    i = m + n - 1\n",
    "    while(i >= 0):\n",
    "        if i1 < 0:\n",
    "            nums1[i] = nums2[i2]\n",
    "            i2 -= 1\n",
    "        elif i2 < 0:\n",
    "            nums1[i] = nums1[i1]\n",
    "            i1 -= 1\n",
    "        elif nums1[i1] < nums2[i2]:\n",
    "            nums1[i] = nums2[i2]\n",
    "            i2 -= 1\n",
    "        else:\n",
    "            nums1[i] = nums1[i1]\n",
    "            i1 -= 1\n",
    "        i -= 1\n",
    "\n",
    "st = time()\n",
    "nums1 = [1,2,3,0,0,0]\n",
    "merge(nums1, 3, [2,5,6], 3)\n",
    "print(nums1)\n",
    "nums1 = [0]\n",
    "merge(nums1, 0, [1], 1)\n",
    "print(nums1)\n",
    "en = time()\n",
    "print(\"time:\", en - st)"
   ]
  },
  {
   "cell_type": "code",
   "execution_count": 23,
   "metadata": {},
   "outputs": [
    {
     "name": "stdout",
     "output_type": "stream",
     "text": [
      "[1, 2, 2, 3, 5, 6]\n",
      "[1]\n",
      "time: 0.0009996891021728516\n"
     ]
    }
   ],
   "source": [
    "from time import time\n",
    "\n",
    "def merge(nums1: list, m: int, nums2: list, n: int) -> None:\n",
    "    while m > 0 and n > 0:\n",
    "        if nums1[m-1] > nums2[n-1]:\n",
    "            nums1[m+n-1] = nums1[m-1]\n",
    "            m-=1\n",
    "        else:\n",
    "            nums1[m+n-1] = nums2[n-1]\n",
    "            n-=1\n",
    "    while n > 0:\n",
    "        nums1[m+n-1] = nums2[n-1]\n",
    "        n-=1\n",
    "\n",
    "st = time()\n",
    "nums1 = [1,2,3,0,0,0]\n",
    "merge(nums1, 3, [2,5,6], 3)\n",
    "print(nums1)\n",
    "nums1 = [0]\n",
    "merge(nums1, 0, [1], 1)\n",
    "print(nums1)\n",
    "en = time()\n",
    "print(\"time:\", en - st)\n"
   ]
  },
  {
   "cell_type": "code",
   "execution_count": 30,
   "metadata": {},
   "outputs": [
    {
     "name": "stdout",
     "output_type": "stream",
     "text": [
      "[1, 2, 2, 3, 5, 6]\n",
      "[1]\n",
      "[1, 3, 5, 5, 7, 9, 11, 11, 15, 18, 27, 36, 64, 85, 86, 92, 96, 101, 126, 135, 228, 238, 339, 568, 666, 777, 813, 889, 956, 999]\n",
      "time: 0.0\n"
     ]
    }
   ],
   "source": [
    "from time import time\n",
    "\n",
    "def merge(nums1: list, m: int, nums2: list, n: int) -> None:\n",
    "    for i in sorted(range(m + n), reverse=True):\n",
    "        if n == 0: break\n",
    "        if m == 0:\n",
    "            nums1[i] = nums2[n - 1]\n",
    "            n -= 1\n",
    "        elif nums1[m - 1] > nums2[n - 1]:\n",
    "            nums1[i] = nums1[m - 1]\n",
    "            m -= 1\n",
    "        else:\n",
    "            nums1[i] = nums2[n - 1]\n",
    "            n -= 1\n",
    "\n",
    "st = time()\n",
    "nums1 = [1,2,3,0,0,0]\n",
    "merge(nums1, 3, [2,5,6], 3)\n",
    "print(nums1)\n",
    "nums1 = [0]\n",
    "merge(nums1, 0, [1], 1)\n",
    "print(nums1)\n",
    "nums1 = [1, 3, 5, 7, 9, 11, 15, 18, 92, 126, 228, 339, 568, 813, 999, 0, 0, 0, 0, 0, 0, 0, 0, 0, 0, 0, 0, 0, 0, 0]\n",
    "merge(nums1, 15, [5, 11, 27, 36, 64, 85, 86, 96, 101, 135, 238, 666, 777, 889, 956], 15)\n",
    "print(nums1)\n",
    "en = time()\n",
    "print(\"time:\", en - st)"
   ]
  },
  {
   "cell_type": "markdown",
   "metadata": {},
   "source": [
    "# 练习\n",
    "\n",
    "有两个 **升序** 的整数数组 `nums1` 和 `nums2`，另有两个整数 `m` 和 `n`，分别表示 `nums1` 和`nums2` 中的元素数目。\n",
    "\n",
    "请 **合并**  `nums2` 到 `nums1` 中，是合并后的数组同样按 **升序** 排列\n",
    "\n",
    "**注意**： 最终，合并后数组不应由函数返回，而是存储在数组  `nums1` 中。为了应对这种情况， `nums1` 的初始长度为 `m + n`，其中前 `m` 个元素表示应合并的元素，后 `n` 个元素为 0 ，应忽略。`num2` 的长度为 n。"
   ]
  },
  {
   "cell_type": "code",
   "execution_count": 8,
   "metadata": {},
   "outputs": [
    {
     "name": "stdout",
     "output_type": "stream",
     "text": [
      "[1, 2, 2, 3, 5, 6]\n",
      "[1]\n",
      "[1, 3, 5, 5, 7, 9, 11, 11, 15, 18, 27, 36, 64, 85, 86, 92, 96, 101, 126, 135, 228, 238, 339, 568, 666, 777, 813, 889, 956, 999]\n",
      "time: 0.0009865760803222656\n"
     ]
    }
   ],
   "source": [
    "from time import time  \n",
    "\n",
    "def merge(nums1: list, m: int, nums2: list, n: int) -> None:  \n",
    "    while m > 0 and n > 0:\n",
    "        if nums1[m - 1] > nums2[n - 1]:\n",
    "            nums1[m + n - 1] = nums1[m - 1]\n",
    "            m -= 1\n",
    "        else:\n",
    "            nums1[m + n - 1] = nums2[n - 1]\n",
    "            n -= 1\n",
    "    if n > 0:\n",
    "        for i in range(n):\n",
    "            nums1[i] = nums2[i]\n",
    "\n",
    "st = time()  \n",
    "nums1 = [1,2,3,0,0,0]  \n",
    "merge(nums1, 3, [2,5,6], 3)  \n",
    "print(nums1)  \n",
    "nums1 = [0]  \n",
    "merge(nums1, 0, [1], 1)  \n",
    "print(nums1)  \n",
    "nums1 = [1, 3, 5, 7, 9, 11, 15, 18, 92, 126, 228, 339, 568, 813, 999, 0, 0, 0, 0, 0, 0, 0, 0, 0, 0, 0, 0, 0, 0, 0]  \n",
    "merge(nums1, 15, [5, 11, 27, 36, 64, 85, 86, 96, 101, 135, 238, 666, 777, 889, 956], 15)  \n",
    "print(nums1)  \n",
    "en = time()  \n",
    "print(\"time:\", en - st)  "
   ]
  },
  {
   "cell_type": "markdown",
   "metadata": {},
   "source": [
    "from time import time  \n",
    "\n",
    "def merge(nums1: list, m: int, nums2: list, n: int) -> None:  \n",
    "    pass  \n",
    "\n",
    "st = time()  \n",
    "nums1 = [1,2,3,0,0,0]  \n",
    "merge(nums1, 3, [2,5,6], 3)  \n",
    "print(nums1)  \n",
    "nums1 = [0]  \n",
    "merge(nums1, 0, [1], 1)  \n",
    "print(nums1)  \n",
    "nums1 = [1, 3, 5, 7, 9, 11, 15, 18, 92, 126, 228, 339, 568, 813, 999, 0, 0, 0, 0, 0, 0, 0, 0, 0, 0, 0, 0, 0, 0, 0]  \n",
    "merge(nums1, 15, [5, 11, 27, 36, 64, 85, 86, 96, 101, 135, 238, 666, 777, 889, 956], 15)  \n",
    "print(nums1)  \n",
    "en = time()  \n",
    "print(\"time:\", en - st)  "
   ]
  }
 ],
 "metadata": {
  "kernelspec": {
   "display_name": "Python 3.9.12 ('base')",
   "language": "python",
   "name": "python3"
  },
  "language_info": {
   "codemirror_mode": {
    "name": "ipython",
    "version": 3
   },
   "file_extension": ".py",
   "mimetype": "text/x-python",
   "name": "python",
   "nbconvert_exporter": "python",
   "pygments_lexer": "ipython3",
   "version": "3.9.12"
  },
  "orig_nbformat": 4,
  "vscode": {
   "interpreter": {
    "hash": "ad2bdc8ecc057115af97d19610ffacc2b4e99fae6737bb82f5d7fb13d2f2c186"
   }
  }
 },
 "nbformat": 4,
 "nbformat_minor": 2
}
