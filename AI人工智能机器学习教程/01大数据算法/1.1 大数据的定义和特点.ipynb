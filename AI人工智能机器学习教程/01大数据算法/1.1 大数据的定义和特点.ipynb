{
 "cells": [
  {
   "cell_type": "markdown",
   "metadata": {},
   "source": [
    "# 什么是大数据\n",
    "* **至今没有公认的定义**\n",
    "* **定义1 (Kusnetzky, Dan. What is \"Big Data?\")**  \n",
    "    所涉及的数据量规模巨大到无法通过人工，在合理时间内达到截取、管理、处理、并整理成为人类所能解读的信息\n",
    "* **定义2 （维克托·迈尔-舍恩伯格、肯尼斯·库克耶. “大数据时代”)**  \n",
    "    不用随机分析法（抽样调查）这样的捷径，而采用所有数据的方法\n",
    "* **定义3 (“大数据”研究机构 Gartner)**  \n",
    "    “大数据”是需要新处理模式才能具有更强的决策力、洞察发现力和流程化能力的海量、高增长率和多样化的信息资产"
   ]
  },
  {
   "cell_type": "markdown",
   "metadata": {},
   "source": [
    "# 大数据的特性\n",
    "* 数据量\n",
    "* 速度\n",
    "* 多样性，复杂性"
   ]
  },
  {
   "cell_type": "markdown",
   "metadata": {},
   "source": [
    "# 大数据的应用\n",
    "* 预测\n",
    "* 推荐\n",
    "* 商业情报分析"
   ]
  }
 ],
 "metadata": {
  "interpreter": {
   "hash": "6847c98a8f86b01c6a19c518cd2f366693b80566b266804d5ca763cbb223f52b"
  },
  "kernelspec": {
   "display_name": "Python 3.10.4 64-bit",
   "language": "python",
   "name": "python3"
  },
  "language_info": {
   "name": "python",
   "version": "3.10.4"
  },
  "orig_nbformat": 4
 },
 "nbformat": 4,
 "nbformat_minor": 2
}
