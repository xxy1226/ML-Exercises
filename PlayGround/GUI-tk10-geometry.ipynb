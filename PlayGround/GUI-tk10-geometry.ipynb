{
 "cells": [
  {
   "attachments": {},
   "cell_type": "markdown",
   "metadata": {},
   "source": [
    "# Pack"
   ]
  },
  {
   "cell_type": "code",
   "execution_count": 1,
   "metadata": {},
   "outputs": [],
   "source": [
    "from tkinter import *\n",
    "from tkinter import ttk\n",
    "\n",
    "root = Tk()\n",
    "# 可扩展，两个方向\n",
    "ttk.Label(root, text='Hello, Tkinter!', background='yellow').pack(fill=BOTH, expand=True)\n",
    "ttk.Label(root, text='Hello, Tkinter!', background='blue').pack(fill=BOTH) # 蓝色不能扩展\n",
    "ttk.Label(root, text='Hello, Tkinter!', background='green').pack(fill=BOTH, expand=True)\n",
    "\n",
    "root.mainloop()"
   ]
  },
  {
   "cell_type": "code",
   "execution_count": 2,
   "metadata": {},
   "outputs": [
    {
     "name": "stdout",
     "output_type": "stream",
     "text": [
      "{'in': <tkinter.Tk object .>, 'anchor': 'nw', 'expand': 1, 'fill': 'both', 'ipadx': 0, 'ipady': 0, 'padx': 0, 'pady': 0, 'side': 'left'}\n",
      "{'in': <tkinter.Tk object .>, 'anchor': 'center', 'expand': 1, 'fill': 'both', 'ipadx': 0, 'ipady': 0, 'padx': 10, 'pady': 10, 'side': 'left'}\n",
      "{'in': <tkinter.Tk object .>, 'anchor': 'center', 'expand': 1, 'fill': 'both', 'ipadx': 10, 'ipady': 10, 'padx': 0, 'pady': 0, 'side': 'left'}\n"
     ]
    }
   ],
   "source": [
    "from tkinter import *\n",
    "from tkinter import ttk\n",
    "\n",
    "root = Tk()\n",
    "# 不可扩展\n",
    "label = ttk.Label(root, text='Hello, Tkinter!', background='yellow')\n",
    "label.pack(side=LEFT, anchor = 'nw') # 定在西北角，左上角\n",
    "ttk.Label(root, text='Hello, Tkinter!', background='blue').pack(side=LEFT, padx=10, pady=10) # 与上下左右间隔 10\n",
    "ttk.Label(root, text='Hello, Tkinter!', background='green').pack(side=LEFT, ipadx=10, ipady=10) # 内部间隔 10\n",
    "\n",
    "# 一次性修改所有小工具的属性\n",
    "for widget in root.pack_slaves():\n",
    "    widget.pack_configure(fill=BOTH, expand=True)\n",
    "    print(widget.pack_info())\n",
    "\n",
    "# 将 label 从 root 中移除\n",
    "label.pack_forget()\n",
    "\n",
    "root.mainloop()"
   ]
  },
  {
   "attachments": {},
   "cell_type": "markdown",
   "metadata": {},
   "source": [
    "# Grid"
   ]
  },
  {
   "cell_type": "code",
   "execution_count": 8,
   "metadata": {},
   "outputs": [],
   "source": [
    "from tkinter import *\n",
    "from tkinter import ttk\n",
    "\n",
    "root = Tk()\n",
    "\n",
    "# 最初比例为 1:1，拉扯时幅度为 1:3\n",
    "root.rowconfigure(0, weight=1)\n",
    "root.rowconfigure(1, weight=3)\n",
    "\n",
    "# 最初比例为 1:1， 拉扯时只有第3列会变\n",
    "root.columnconfigure(2, weight=1)\n",
    "\n",
    "ttk.Label(root, text='Yellow', background='yellow').grid(row=0, column=2, rowspan=2, sticky='news') # 全部填满\n",
    "ttk.Label(root, text='Blue', background='blue').grid(row=1, column=0, columnspan=2, sticky='e') # 填充在右边\n",
    "ttk.Label(root, text='Green', background='green').grid(row=0, column=0)\n",
    "ttk.Label(root, text='Orange', background='orange').grid(row=0, column=1)\n",
    "\n",
    "\n",
    "\n",
    "root.mainloop()"
   ]
  },
  {
   "attachments": {},
   "cell_type": "markdown",
   "metadata": {},
   "source": [
    "# Place"
   ]
  },
  {
   "cell_type": "code",
   "execution_count": 17,
   "metadata": {},
   "outputs": [],
   "source": [
    "from tkinter import *\n",
    "from tkinter import ttk\n",
    "\n",
    "root = Tk()\n",
    "\n",
    "root.geometry('640x480+200+200')\n",
    "\n",
    "ttk.Label(root, text='Yellow', background='yellow').place(x=100, y=50) # 固定于 root 的坐标 100,50 处\n",
    "ttk.Label(root, text='Blue', background='blue').place(relx=0.5, rely=0.5, anchor=CENTER,\n",
    "relwidth=0.5, relheight=0.5) # 中心点位于 root 的正中间, 长宽是 root 的一半\n",
    "ttk.Label(root, text='Green', background='green').place(relx=0.5, x=100, rely=0.5, y=50)\n",
    "ttk.Label(root, text='Orange', background='orange').place(relx=1.0, x=-5, y=5, anchor='ne') # 固定于 root 右上角 -5,5 处\n",
    "\n",
    "\n",
    "root.mainloop()"
   ]
  }
 ],
 "metadata": {
  "kernelspec": {
   "display_name": "Python 3",
   "language": "python",
   "name": "python3"
  },
  "language_info": {
   "codemirror_mode": {
    "name": "ipython",
    "version": 3
   },
   "file_extension": ".py",
   "mimetype": "text/x-python",
   "name": "python",
   "nbconvert_exporter": "python",
   "pygments_lexer": "ipython3",
   "version": "3.10.4"
  },
  "orig_nbformat": 4,
  "vscode": {
   "interpreter": {
    "hash": "6847c98a8f86b01c6a19c518cd2f366693b80566b266804d5ca763cbb223f52b"
   }
  }
 },
 "nbformat": 4,
 "nbformat_minor": 2
}
