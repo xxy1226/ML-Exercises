{
 "cells": [
  {
   "cell_type": "markdown",
   "metadata": {},
   "source": [
    "# Course Introduction"
   ]
  },
  {
   "cell_type": "markdown",
   "metadata": {},
   "source": [
    "# Introduction to Artificial Intelligence and Machine Learning"
   ]
  },
  {
   "cell_type": "markdown",
   "metadata": {},
   "source": [
    "# Modern AI: Applications and the Machine Learning Workflow\n",
    "\n",
    "## Background and Tools\n",
    "* Python libraries (e.g. NumPy or Pandas), Jupyter Notebooks\n",
    "* Basic statistics including probability, calculating moments, Bayes' Rule\n",
    "\n",
    "Python libraries:\n",
    "- Numpy\n",
    "- Pandas (usually read data into a Pandas DataFrame)\n",
    "- Matplotlib\n",
    "- Seaborn\n",
    "- Scikit-Learn\n",
    "- TensorFlow\n",
    "- Keras\n",
    "\n",
    "## Machine Learning Workflow\n",
    "- **Problem Statement**: What problem are you trying to solve?\n",
    "- **Data Collection**: What data do you need to solve it?\n",
    "- **Data Exploration & preprocessing**: How should you clean your data so your model can use it?\n",
    "- **Modeling**: Build a model to solve your problem?\n",
    "- **Validation**: Did I solve the problem?\n",
    "- **Decision Making & Deployment**: Communicate to stake holders or put into production?\n",
    "\n",
    "## Machine Learning Vocabulary\n",
    "**Target**: category or value that we are trying to predict\n",
    "**features**: explanatory variables used for prediction\n",
    "**Example**: a single data point within the data (one row)\n",
    "**Label**: the target value for a single data point"
   ]
  },
  {
   "cell_type": "markdown",
   "metadata": {},
   "source": [
    "# End of the module review & evaluation"
   ]
  }
 ],
 "metadata": {
  "language_info": {
   "name": "python"
  },
  "orig_nbformat": 4
 },
 "nbformat": 4,
 "nbformat_minor": 2
}
