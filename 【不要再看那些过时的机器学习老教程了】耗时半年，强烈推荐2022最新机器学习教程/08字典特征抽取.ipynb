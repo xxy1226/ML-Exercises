{
 "cells": [
  {
   "cell_type": "markdown",
   "metadata": {},
   "source": [
    "### 什么是特征工程\n",
    "使用**专业背景知识和技巧处理数据，以使特征在机器学习上发挥更好的作用**\n",
    "\n",
    "### 特征工程的位置与数据处理的比较\n",
    "* pandas: 一个数据读取非常方便以及基本的处理格式的工具\n",
    "* sklearn: 对于特征的处理提供了强大的接口\n",
    "\n",
    "#### 特征工程包含内容：\n",
    "* 特征抽取\n",
    "* 特征预处理\n",
    "* 特征降维\n",
    "\n",
    "## 特征抽取/特征提取\n",
    "机器学习算法 - 统计方法 - 数学公式  \n",
    "文本类型 -> 数值\n",
    "\n",
    "1. 将任意数据转换为机器学期可用的数字特征\n",
    "  * 字典特征提取\n",
    "  * 文本特征提取\n",
    "  * 图像特征提取\n",
    "2. 特征提取API  \n",
    "`sklearn.feature_extraction`  \n",
    "   1. 字典特征提取 -> 类别 -> ont-hot编码\n",
    "      * sklearn.feature_extraction.DictVectorizer(space=True, ...)\n",
    "         * DictVectorizer.fit_transform(X) X:字典或包含字典的迭代器 返回值：返回sparse 稀疏矩阵\n",
    "         * DictVectorizer.inverse_transform(X) X:array数组或sparse矩阵 返回值：转换之前的数据格式\n",
    "         * DictVectorizer.get_feature_names() 返回类别名称  \n",
    "         * 父类：transformer 转换器\n",
    "\n",
    "   矩阵 matrix 二维数组  \n",
    "   向量 vector 一维数组\n",
    "  "
   ]
  },
  {
   "cell_type": "code",
   "execution_count": 9,
   "metadata": {},
   "outputs": [
    {
     "name": "stdout",
     "output_type": "stream",
     "text": [
      "  (0, 0)\t1.0\n",
      "  (0, 3)\t100.0\n",
      "  (1, 1)\t1.0\n",
      "  (1, 3)\t60.0\n",
      "  (2, 2)\t1.0\n",
      "  (2, 3)\t30.0\n",
      "\n",
      "\n",
      "[[  1.   0.   0. 100.]\n",
      " [  0.   1.   0.  60.]\n",
      " [  0.   0.   1.  30.]]\n",
      "特征属性： ['city=上海', 'city=北京', 'city=深圳', 'temperature']\n"
     ]
    }
   ],
   "source": [
    "from sklearn.datasets import load_iris\n",
    "from sklearn.model_selection import train_test_split\n",
    "from sklearn.feature_extraction import DictVectorizer\n",
    "\n",
    "def dict_demo():\n",
    "    \"\"\"\n",
    "    字典特征抽取\n",
    "    :return:\n",
    "    \"\"\"\n",
    "    data = [{'city':'上海', 'temperature':100}, {'city':'北京', 'temperature':60}, {'city':'深圳', 'temperature':30}]\n",
    "    # 1. 实例化一个转化器类\n",
    "    transferT = DictVectorizer()\n",
    "    # 2. 调用fit_transform()\n",
    "    data_new = transferT.fit_transform(data)\n",
    "    print(data_new)\n",
    "\n",
    "    print(\"\\n\")\n",
    "    transferF = DictVectorizer(sparse=False)\n",
    "    data_new = transferF.fit_transform(data)\n",
    "    print(data_new)\n",
    "    print('特征属性：', transferF.get_feature_names())\n",
    "\n",
    "    return None\n",
    "\n",
    "if __name__ == \"__main__\":\n",
    "    dict_demo()"
   ]
  },
  {
   "cell_type": "markdown",
   "metadata": {},
   "source": [
    "sparse 稀疏矩阵：\n",
    "* 将非零值按左边元祖所示位置表示出来\n",
    "* 节省内存：提高加载效率"
   ]
  },
  {
   "cell_type": "markdown",
   "metadata": {},
   "source": [
    "## 应用场景\n",
    "1. 数据集当中类别特征比较多\n",
    "   1. 将数据集的特征 -》 字典类型\n",
    "   2. DictVectorizer转换\n",
    "2. 本身拿到的数据就是字典类型"
   ]
  }
 ],
 "metadata": {
  "interpreter": {
   "hash": "2be5faf79681da6f2a61fdfdd5405d65d042280f7fba6178067603e3a2925119"
  },
  "kernelspec": {
   "display_name": "Python 3.10.4 64-bit",
   "language": "python",
   "name": "python3"
  },
  "language_info": {
   "codemirror_mode": {
    "name": "ipython",
    "version": 3
   },
   "file_extension": ".py",
   "mimetype": "text/x-python",
   "name": "python",
   "nbconvert_exporter": "python",
   "pygments_lexer": "ipython3",
   "version": "3.10.4"
  },
  "orig_nbformat": 4
 },
 "nbformat": 4,
 "nbformat_minor": 2
}
