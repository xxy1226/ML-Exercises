{
 "cells": [
  {
   "cell_type": "markdown",
   "metadata": {},
   "source": [
    "* **输入**：一组数据，其大小未知\n",
    "* **输出**：这组数据的k个均匀抽样\n",
    "* **要求**：\n",
    "    * 仅扫描数据一次\n",
    "    * 空间复杂性为O(k)\n",
    "    * 扫描到数据的前n个数字时(n>k)，保存当前已扫描数据的k个均匀抽样"
   ]
  },
  {
   "cell_type": "markdown",
   "metadata": {},
   "source": [
    "1. 申请一个长度为 k 的数组 A 保存抽样\n",
    "2. 保存首先接收到的 k 个元素\n",
    "3. 当接收到第 i 个新元素 t 时，以 k/i 的概率随机替换 A 中的元素（即生成 [1,i] 间随机数 j，若 j ≤ k，则以 t 替换 A[j]）"
   ]
  },
  {
   "cell_type": "markdown",
   "metadata": {},
   "source": [
    "**性质1：该采样是均匀的**  \n",
    "    $\\frac{k}{i}\\times(1-\\frac{1}{i+1})\\times(1-\\frac{1}{i+2})\\times\\dots\\times(1-\\frac{1}{n})=\\frac{k}{n}$  \n",
    "**性质2：空间复杂性是O(k)**\n"
   ]
  }
 ],
 "metadata": {
  "interpreter": {
   "hash": "6847c98a8f86b01c6a19c518cd2f366693b80566b266804d5ca763cbb223f52b"
  },
  "kernelspec": {
   "display_name": "Python 3.10.4 64-bit",
   "language": "python",
   "name": "python3"
  },
  "language_info": {
   "name": "python",
   "version": "3.10.4"
  },
  "orig_nbformat": 4
 },
 "nbformat": 4,
 "nbformat_minor": 2
}
