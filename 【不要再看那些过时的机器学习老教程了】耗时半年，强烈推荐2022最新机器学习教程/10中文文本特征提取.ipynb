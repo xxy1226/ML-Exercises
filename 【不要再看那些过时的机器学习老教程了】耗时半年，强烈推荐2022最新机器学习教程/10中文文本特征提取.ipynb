{
 "cells": [
  {
   "cell_type": "markdown",
   "metadata": {},
   "source": [
    "`pip install jieba`\n",
    "\n",
    "stop_words (列表) 停用词 (可以去搜索常用的“停用词表”)\n",
    "\n",
    "* sklearn.feature_extraction.text.CountVectorizer(stop_words=[])\n"
   ]
  },
  {
   "cell_type": "code",
   "execution_count": 5,
   "metadata": {},
   "outputs": [
    {
     "name": "stdout",
     "output_type": "stream",
     "text": [
      "data_new:\n",
      " [[0 1 1 2 0 1 1 0]\n",
      " [1 1 1 0 1 1 0 1]]\n",
      "特征名字:\n",
      " ['dislike' 'is' 'life' 'like' 'long' 'python' 'short' 'too']\n",
      "data_new:\n",
      " [[0 1 2 0 1 1]\n",
      " [1 1 0 1 1 0]]\n",
      "特征名字:\n",
      " ['dislike' 'life' 'like' 'long' 'python' 'short']\n"
     ]
    }
   ],
   "source": [
    "from sklearn.feature_extraction.text import CountVectorizer\n",
    "\n",
    "def count_demo():\n",
    "    \"\"\"\n",
    "    文本特征抽取： CountVectorizer\n",
    "    :return:\n",
    "    \"\"\"\n",
    "    data = [\"life is short, i like like python\", \"life is too long, i dislike python\"]\n",
    "\n",
    "    transfer = CountVectorizer(stop_words=[])\n",
    "\n",
    "    data_new = transfer.fit_transform(data)\n",
    "    print(\"data_new:\\n\", data_new.toarray())\n",
    "    print(\"特征名字:\\n\", transfer.get_feature_names_out())\n",
    "    \n",
    "    transfer = CountVectorizer(stop_words=[\"is\", \"too\"])\n",
    "\n",
    "    data_new = transfer.fit_transform(data)\n",
    "    print(\"data_new:\\n\", data_new.toarray())\n",
    "    print(\"特征名字:\\n\", transfer.get_feature_names_out())\n",
    "\n",
    "if __name__ == \"__main__\":\n",
    "    count_demo()"
   ]
  },
  {
   "cell_type": "code",
   "execution_count": 19,
   "metadata": {},
   "outputs": [
    {
     "name": "stdout",
     "output_type": "stream",
     "text": [
      "['一种 还是 一种 今天 很 残酷 ， 明天 更 残酷 ， 后天 很 美好 ， 但 绝对 大部分 是 死 在 明天 晚上 ， 所以 每个 人 不要 放弃 今天 。', '我们 看到 的 从 很 远 星系 来 的 光是在 几百万年 之前 发出 的 ， 这样 当 我们 看到 宇宙 时 ， 我们 是 在 看 它 的 过去 。', '如果 只用 一种 方式 了解 某样 事物 ， 你 就 不会 真正 了解 它 。 了解 事物 真正 含义 的 秘密 取决于 如何 将 其 与 我们 所 了解 的 事物 相 联系 。']\n",
      "[[0 1 0 0 0 2 0 0 0 0 0 1 0 1 0 0 0 0 1 1 0 2 0 1 0 2 1 0 0 0 1 1 0 0 1 0]\n",
      " [0 0 1 0 0 0 1 1 1 0 0 0 0 0 0 0 1 3 0 0 0 0 1 0 0 0 0 2 0 0 0 0 0 1 0 1]\n",
      " [1 0 0 4 3 0 0 0 0 1 1 0 1 0 1 1 0 1 0 0 1 0 0 0 1 0 0 0 2 1 0 0 1 0 0 0]]\n",
      "特征名字： ['不会' '不要' '之前' '了解' '事物' '今天' '光是在' '几百万年' '发出' '取决于' '只用' '后天' '含义'\n",
      " '大部分' '如何' '如果' '宇宙' '我们' '所以' '放弃' '方式' '明天' '星系' '晚上' '某样' '残酷' '每个'\n",
      " '看到' '真正' '秘密' '绝对' '美好' '联系' '过去' '还是' '这样']\n"
     ]
    }
   ],
   "source": [
    "import jieba\n",
    "from sklearn.feature_extraction.text import CountVectorizer\n",
    "\n",
    "def cut_word(text):\n",
    "    \"\"\"\n",
    "    进行中文分词：\"我爱北京天安门\" --> \"我 爱 北京 天安门\"\n",
    "    :param text:\n",
    "    :return:\n",
    "    \"\"\"\n",
    "    text = \" \".join(jieba.cut(text))\n",
    "    return text\n",
    "\n",
    "def count_chinese_demo2():\n",
    "    \"\"\"\n",
    "    中文文本特征抽取，自动分词\n",
    "    :return:\n",
    "    \"\"\"\n",
    "    data = [\"一种还是一种今天很残酷，明天更残酷，后天很美好，但绝对大部分是死在明天晚上，所以每个人不要放弃今天。\", \"我们看到的从很远星系来的光是在几百万年之前发出的，这样当我们看到宇宙时，我们是在看它的过去。\", \"如果只用一种方式了解某样事物，你就不会真正了解它。了解事物真正含义的秘密取决于如何将其与我们所了解的事物相联系。\"]\n",
    "\n",
    "    data_new = []\n",
    "    for sent in data:\n",
    "        data_new.append(cut_word(sent))\n",
    "    print(data_new)\n",
    "\n",
    "    transfer = CountVectorizer(stop_words=[\"一种\"])\n",
    "    data_final = transfer.fit_transform(data_new)\n",
    "\n",
    "    print(data_final.toarray())\n",
    "    print(\"特征名字：\", transfer.get_feature_names_out())\n",
    "\n",
    "    return None\n",
    "\n",
    "if __name__ == \"__main__\":\n",
    "    count_chinese_demo2()\n"
   ]
  },
  {
   "cell_type": "code",
   "execution_count": null,
   "metadata": {},
   "outputs": [],
   "source": []
  }
 ],
 "metadata": {
  "interpreter": {
   "hash": "35c4bcfff6bb594ff47b51ce5b21bcb1093d06fa0c5debe7002e3be5d50f4cc1"
  },
  "kernelspec": {
   "display_name": "Python 3.10.4 64-bit",
   "language": "python",
   "name": "python3"
  },
  "language_info": {
   "codemirror_mode": {
    "name": "ipython",
    "version": 3
   },
   "file_extension": ".py",
   "mimetype": "text/x-python",
   "name": "python",
   "nbconvert_exporter": "python",
   "pygments_lexer": "ipython3",
   "version": "3.10.4"
  },
  "orig_nbformat": 4
 },
 "nbformat": 4,
 "nbformat_minor": 2
}
