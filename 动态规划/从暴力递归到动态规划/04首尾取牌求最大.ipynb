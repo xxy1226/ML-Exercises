{
 "cells": [
  {
   "cell_type": "markdown",
   "metadata": {},
   "source": [
    "# 题目：首尾取牌求最大\n",
    "\n",
    "有一个整型数组arr，两玩家分别从头或从尾取一张牌，最后将牌分相加。两玩家都会选择最优解，求先手最高分数"
   ]
  },
  {
   "cell_type": "markdown",
   "metadata": {},
   "source": [
    "## 解题步骤：\n",
    "### 1. 写出条件函数\n",
    "\n",
    "分析，假设我在 arr[L .. R] 范围内取牌"
   ]
  },
  {
   "cell_type": "code",
   "execution_count": null,
   "metadata": {},
   "outputs": [],
   "source": [
    "def firstPlayerWin(arr: list, L: int, R: int) -> int:\n",
    "    \"\"\"作为先手，在 L 和 R 范围内取牌，返回最好分数\n",
    "\n",
    "    Args:\n",
    "        arr (list): 牌组\n",
    "        L (int): 取牌起始位置\n",
    "        R (int): 取牌终点位置\n",
    "\n",
    "    Returns:\n",
    "        int: 最好分数\n",
    "    \"\"\"\n",
    "    pass"
   ]
  },
  {
   "cell_type": "markdown",
   "metadata": {},
   "source": [
    "### 2. Base Case\n",
    "\n",
    "如果 L = R，只剩一张牌了，作为现在的先手，直接取走这一张牌"
   ]
  },
  {
   "cell_type": "code",
   "execution_count": null,
   "metadata": {},
   "outputs": [],
   "source": [
    "def firstPlayerWin(arr: list, L: int, R: int) -> int:\n",
    "    \"\"\"作为先手，在 L 和 R 范围内取牌，返回最好分数\n",
    "\n",
    "    Args:\n",
    "        arr (list): 牌组\n",
    "        L (int): 取牌起始位置\n",
    "        R (int): 取牌终点位置\n",
    "\n",
    "    Returns:\n",
    "        int: 最好分数\n",
    "    \"\"\"\n",
    "    if L == R: return arr[L]"
   ]
  },
  {
   "cell_type": "markdown",
   "metadata": {},
   "source": [
    "再考虑存在后手，如果还剩两张牌，先手直接去大牌。\n",
    "\n",
    "### 通用情况\n",
    "\n",
    "先手分数为正，后手分数为负。后手最优计算方法为 g。通常情况下有两种取法\n",
    "\n",
    "1. 取左边的牌，后手取剩下的牌。  \n",
    "arr[L] - g[arr, L+1, R]\n",
    "\n",
    "2. 取右边的牌，后手取剩下的牌。 \n",
    "arr[R] - g[arr, L, R-1]\n",
    "\n",
    "然后比较两者大小  \n",
    "max(arr[L] - g[arr, L+1, R], arr[R] - g[arr, L, R-1])"
   ]
  },
  {
   "cell_type": "code",
   "execution_count": 3,
   "metadata": {},
   "outputs": [
    {
     "name": "stdout",
     "output_type": "stream",
     "text": [
      "110\n"
     ]
    }
   ],
   "source": [
    "# 根据规则，返回获胜者的分数\n",
    "def win1(arr: list):\n",
    "    first = f(arr, 0, len(arr) - 1)\n",
    "    second = g(arr, 0, len(arr) - 1)\n",
    "    return max(first, second)\n",
    "    \n",
    "# 在 arr[L..R], 先手获得的最好分数返回\n",
    "def f(arr: list, L: int, R: int):\n",
    "    if (L == R): return arr[L]\n",
    "    \n",
    "    p1 = arr[L] + g(arr, L + 1, R)\n",
    "    p2 = arr[R] + g(arr, L, R - 1)\n",
    "    \n",
    "    return max(p1, p2)\n",
    "\n",
    "# 在 arr[L..R], 后手获得的最好分数返回\n",
    "def g(arr: list, L: int, R: int):\n",
    "    if (L == R): return 0\n",
    "    \n",
    "    p1 = f(arr, L + 1, R) # 对手拿走了L位置的牌\n",
    "    p2 = f(arr, L, R - 1) # 对手拿走了R位置的牌\n",
    "    \n",
    "    # 对手拿走的牌为对手决定，即后手只能取得上两个情况中最差的情况\n",
    "    return min(p1, p2)\n",
    "\n",
    "arr = [50, 100, 20, 10]\n",
    "print(win1(arr))"
   ]
  },
  {
   "cell_type": "markdown",
   "metadata": {},
   "source": [
    "# 优化\n",
    "\n",
    "||||f(0, 7)||||\n",
    "|:-:|:-:|:-:|:-:|:-:|:-:|:-:|\n",
    "|||g(1, 7))||g(0, 6)|||\n",
    "||***f(1, 6)***|f(2, 7)||f(0, 5)|***f(1, 6)***||\n",
    "|...|...|...|...|...|...|...|\n",
    "\n",
    "可见递归中有重复项，可以优化"
   ]
  },
  {
   "cell_type": "code",
   "execution_count": null,
   "metadata": {},
   "outputs": [],
   "source": [
    "def win2(arr: list) -> int:\n",
    "    first = f(arr, 0, len(arr) - 1)\n",
    "    second = g(arr, 0, len(arr) - 1)\n",
    "    return max(first, second)\n",
    "    \n",
    "# 在 arr[L..R], 先手获得的最好分数返回\n",
    "def f(arr: list, L: int, R: int):\n",
    "    if (L == R): return arr[L]\n",
    "    \n",
    "    p1 = arr[L] + g(arr, L + 1, R)\n",
    "    p2 = arr[R] + g(arr, L, R - 1)\n",
    "    \n",
    "    return max(p1, p2)\n",
    "\n",
    "# 在 arr[L..R], 后手获得的最好分数返回\n",
    "def g(arr: list, L: int, R: int):\n",
    "    if (L == R): return 0\n",
    "    \n",
    "    p1 = f(arr, L + 1, R) # 对手拿走了L位置的牌\n",
    "    p2 = f(arr, L, R - 1) # 对手拿走了R位置的牌\n",
    "    \n",
    "    # 对手拿走的牌为对手决定，即后手只能取得上两个情况中最差的情况\n",
    "    return min(p1, p2)\n",
    "\n",
    "arr = [50, 100, 20, 10]\n",
    "print(win1(arr))"
   ]
  }
 ],
 "metadata": {
  "kernelspec": {
   "display_name": "Python 3.8.10 ('base')",
   "language": "python",
   "name": "python3"
  },
  "language_info": {
   "codemirror_mode": {
    "name": "ipython",
    "version": 3
   },
   "file_extension": ".py",
   "mimetype": "text/x-python",
   "name": "python",
   "nbconvert_exporter": "python",
   "pygments_lexer": "ipython3",
   "version": "3.8.10"
  },
  "orig_nbformat": 4,
  "vscode": {
   "interpreter": {
    "hash": "ed9dd54d93773a54077976d71c29f744fe60816153cc35ad40f2c53070f2668f"
   }
  }
 },
 "nbformat": 4,
 "nbformat_minor": 2
}
