{
 "cells": [
  {
   "cell_type": "markdown",
   "metadata": {},
   "source": [
    "### Company\n",
    "* Rockstand\n",
    "* SAP Labs\n",
    "\n",
    "# Question\n",
    "Given an array **Arr** of size **N**, print second largest element from an array.\n",
    "\n",
    "## Example 1:\n",
    "\n",
    "> **Input: **  \n",
    "> N = 6  \n",
    "> Arr[] = {12, 35, 1, 10, 34, 1}  \n",
    "> **Output:** 34  \n",
    "> **Explanation:** The largest element of the array is 35 and the second largest element is 34.\n",
    "\n",
    "## Example 2:\n",
    "\n",
    "> **Input: **  \n",
    "> N = 3  \n",
    "> Arr[] = {10, 5, 10}  \n",
    "> **Output:** 5  \n",
    "> **Explanation:** The largest element of the array is 10 and the second largest element is 5.\n",
    "\n",
    "**Your Task:**  \n",
    "You don't need to read input or print anything. Your task is to complete the function `print2largest()` which takes the array of integers `arr` and `n` as parameters and returns an integer denoting the answer. If 2nd largest element doesn't exist then return -1.\n",
    "\n",
    "Expected Time Complexity: O(N)  \n",
    "Expected Auxiliary Space: O(1)\n",
    "\n",
    "Constraints:  \n",
    "$1 ≤ N ≤ 10^5$  \n",
    "$1 ≤ Arri ≤ 10^5$\n"
   ]
  },
  {
   "cell_type": "code",
   "execution_count": 3,
   "metadata": {},
   "outputs": [
    {
     "name": "stdout",
     "output_type": "stream",
     "text": [
      "34\n",
      "5\n",
      "-1\n"
     ]
    }
   ],
   "source": [
    "#User function Template for python3\n",
    "def print2largest(arr: list, n: int) -> int:\n",
    "\t# code here\n",
    "\tpd=[-1, -1]\n",
    "\tfor i in range(n):\n",
    "\t\tif arr[i] > pd[1]:\n",
    "\t\t\tpd[0] = pd[1]\n",
    "\t\t\tpd[1] = arr[i]\n",
    "\t\telif arr[i] < pd[1] and arr[i] > pd[0]:\n",
    "\t\t\tpd[0] = arr[i]\n",
    "\treturn pd[0]\n",
    "\n",
    "#{ \n",
    " # Driver Code Starts\n",
    "#Initial Template for Python 3\n",
    "\n",
    "n = 6\n",
    "arr = [12, 35, 1, 10, 34, 1]\n",
    "print(print2largest(arr, n)) # 34\n",
    "n = 3\n",
    "arr = [10, 5, 10]\n",
    "print(print2largest(arr, n)) # 5\n",
    "n = 3\n",
    "arr = [10, 10, 10]\n",
    "print(print2largest(arr, n)) # -1\n",
    "\n",
    "# } Driver Code Ends"
   ]
  },
  {
   "cell_type": "code",
   "execution_count": null,
   "metadata": {},
   "outputs": [],
   "source": [
    "#User function Template for python3\n",
    "class Solution:\n",
    "\n",
    "\tdef print2largest(self,arr, n):\n",
    "\t\t# code here\n",
    "\n",
    "\n",
    "#{ \n",
    " # Driver Code Starts\n",
    "#Initial Template for Python 3\n",
    "\n",
    "\n",
    "\n",
    "if __name__ == '__main__':\n",
    "    tc = int(input())\n",
    "    while tc > 0:\n",
    "        n = int(input())\n",
    "        arr = list(map(int, input().strip().split()))\n",
    "        ob = Solution()\n",
    "        ans = ob.print2largest(arr, n)\n",
    "        print(ans)\n",
    "        tc -= 1\n",
    "\n",
    "# } Driver Code Ends"
   ]
  }
 ],
 "metadata": {
  "kernelspec": {
   "display_name": "Python 3.8.10 ('base')",
   "language": "python",
   "name": "python3"
  },
  "language_info": {
   "codemirror_mode": {
    "name": "ipython",
    "version": 3
   },
   "file_extension": ".py",
   "mimetype": "text/x-python",
   "name": "python",
   "nbconvert_exporter": "python",
   "pygments_lexer": "ipython3",
   "version": "3.8.10"
  },
  "orig_nbformat": 4,
  "vscode": {
   "interpreter": {
    "hash": "ed9dd54d93773a54077976d71c29f744fe60816153cc35ad40f2c53070f2668f"
   }
  }
 },
 "nbformat": 4,
 "nbformat_minor": 2
}
