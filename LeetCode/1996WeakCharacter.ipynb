{
 "cells": [
  {
   "cell_type": "markdown",
   "metadata": {},
   "source": [
    "You are playing a game that contains multiple characters, and each of the characters has two main properties: attack and defense. You are given a 2D integer array properties where properties[i] = [attacki, defensei] represents the properties of the ith character in the game.\n",
    "\n",
    "A character is said to be weak if any other character has both attack and defense levels strictly greater than this character's attack and defense levels. More formally, a character i is said to be weak if there exists another character j where attackj > attacki and defensej > defensei.\n",
    "\n",
    "Return the number of weak characters.\n",
    "\n",
    " \n",
    "\n",
    "Example 1:\n",
    "\n",
    "> Input: properties = [[5,5],[6,3],[3,6]]  \n",
    "> Output: 0  \n",
    "> Explanation: No character has strictly greater attack and defense than the other.\n",
    "\n",
    "Example 2:\n",
    "\n",
    "> Input: properties = [[2,2],[3,3]]  \n",
    "> Output: 1  \n",
    "> Explanation: The first character is weak because the second character has a strictly greater attack and defense.\n",
    "\n",
    "Example 3:\n",
    "\n",
    "> Input: properties = [[1,5],[10,4],[4,3]]  \n",
    "> Output: 1  \n",
    "> Explanation: The third character is weak because the second character has a strictly greater attack and defense.\n",
    "\n",
    " \n",
    "\n",
    "Constraints:\n",
    "\n",
    "    2 <= properties.length <= 105\n",
    "    properties[i].length == 2\n",
    "    1 <= attacki, defensei <= 105\n"
   ]
  },
  {
   "cell_type": "code",
   "execution_count": 39,
   "metadata": {},
   "outputs": [
    {
     "name": "stdout",
     "output_type": "stream",
     "text": [
      "[[100, 87], [99, 48], [99, 9], [97, 71], [97, 58], [96, 63], [96, 24], [95, 51], [94, 87], [94, 81], [94, 73], [94, 11], [93, 10], [92, 24], [91, 87], [90, 99], [87, 86], [86, 64], [84, 77], [84, 72], [84, 34], [83, 93], [83, 92], [83, 83], [83, 75], [77, 27], [73, 69], [70, 74], [70, 41], [68, 90], [68, 15], [66, 46], [66, 46], [62, 65], [62, 40], [60, 75], [59, 16], [58, 75], [58, 70], [57, 68], [56, 15], [55, 12], [54, 72], [52, 94], [51, 17], [50, 7], [49, 63], [48, 87], [48, 84], [46, 64], [46, 13], [44, 87], [44, 1], [43, 56], [43, 52], [41, 24], [39, 83], [38, 87], [38, 85], [35, 76], [35, 35], [35, 32], [34, 38], [34, 18], [33, 31], [33, 13], [30, 31], [25, 100], [24, 80], [24, 59], [23, 91], [22, 6], [20, 23], [19, 43], [18, 6], [16, 36], [16, 12], [15, 20], [14, 97], [14, 72], [13, 88], [10, 86], [10, 27], [9, 28], [9, 14], [8, 92], [6, 60], [5, 46], [5, 33], [4, 62], [4, 43]]\n",
      "{100: 87, 94: 87, 91: 87, 90: 99, 25: 100}\n",
      "83\n"
     ]
    }
   ],
   "source": [
    "from typing import List\n",
    "\n",
    "\n",
    "def numberOfWeakCharacters(properties: List[List[int]]) -> int:\n",
    "    ans = 0\n",
    "    chas = sorted(properties, key=lambda x:(x[0], x[1]), reverse=True)\n",
    "    strong = {}\n",
    "    pre = chas[0][0] + 1\n",
    "    for cha in chas:\n",
    "        if cha[0] < pre:\n",
    "            found = False\n",
    "            pre = cha[0]\n",
    "            for att in strong:\n",
    "                if cha[1] < strong[att]:\n",
    "                    ans += 1\n",
    "                    found = not found\n",
    "                    break\n",
    "            if not found:\n",
    "                strong[cha[0]] = cha[1]\n",
    "        elif cha[0] not in strong or found:\n",
    "            ans += 1\n",
    "        elif cha[0] < strong[cha[0]]:\n",
    "            for att in strong:\n",
    "                if cha[0] < att and cha[1] < strong[att]:\n",
    "                    ans += 1\n",
    "                    found = True\n",
    "                    break\n",
    "                \n",
    "    print(chas)\n",
    "    print(strong)\n",
    "    return ans\n",
    "    "
   ]
  },
  {
   "cell_type": "code",
   "execution_count": 53,
   "metadata": {},
   "outputs": [],
   "source": [
    "from typing import List\n",
    "\n",
    "\n",
    "def numberOfWeakCharacters(properties: List[List[int]]) -> int:\n",
    "    ans = 0\n",
    "    chas = sorted(properties, key=lambda x:(x[0], x[1]), reverse=True)\n",
    "    attm = attm2 = chas[0][0]\n",
    "    defm = defm2 = chas[0][1]\n",
    "    for cha in chas:\n",
    "        print(cha)\n",
    "        # att 降低\n",
    "        if cha[0] < attm2:\n",
    "            if defm2 > defm: defm = defm2\n",
    "            attm2 = cha[0]\n",
    "            defm2 = cha[1]\n",
    "            if defm2 < defm: ans += 1\n",
    "        # att 不降低 \n",
    "        elif cha[0] < attm and cha[1] < defm:\n",
    "            ans += 1\n",
    "        print(attm, attm2, defm, defm2)\n",
    "        print(ans)\n",
    "            \n",
    "    return ans\n",
    "    "
   ]
  },
  {
   "cell_type": "code",
   "execution_count": 54,
   "metadata": {},
   "outputs": [
    {
     "name": "stdout",
     "output_type": "stream",
     "text": [
      "[10, 7]\n",
      "10 10 7 7\n",
      "0\n",
      "[10, 4]\n",
      "10 10 7 7\n",
      "0\n",
      "[7, 10]\n",
      "10 7 7 10\n",
      "0\n",
      "[7, 9]\n",
      "10 7 7 10\n",
      "1\n",
      "[7, 5]\n",
      "10 7 7 10\n",
      "2\n",
      "[6, 9]\n",
      "10 6 10 9\n",
      "3\n",
      "3\n"
     ]
    }
   ],
   "source": [
    "\n",
    "# properties = [[5,5],[6,3],[3,6],[3,2]] # 1\n",
    "# properties = [[5,5],[6,3],[3,6]] # 0\n",
    "# properties = [[2,2],[3,3]] # 1\n",
    "# properties = [[1,5],[10,4],[4,3],[11,3], [1,1]] # 1\n",
    "# properties = [[1,5],[10,4],[2,2],[3,3],[4,3],[11,3],[1,1],[5,5],[6,3],[3,6],[3,2]] # 7\n",
    "properties = [[7,9],[10,7],[6,9],[10,4],[7,5],[7,10]] # 2\n",
    "# properties = [[86,64],[83,93],[62,65],[48,87],[70,41],[9,14],[38,85],[4,43],[22,6],[9,28],[97,71],[10,86],[52,94],[94,11],[83,92],[91,87],[46,64],[90,99],[30,31],[46,13],[38,87],[50,7],[43,52],[14,72],[94,73],[44,1],[93,10],[70,74],[100,87],[18,6],[35,32],[43,56],[23,91],[84,72],[34,18],[33,13],[48,84],[44,87],[49,63],[54,72],[33,31],[59,16],[15,20],[84,77],[6,60],[77,27],[94,81],[84,34],[25,100],[57,68],[60,75],[10,27],[99,48],[20,23],[87,86],[97,58],[51,17],[83,75],[19,43],[55,12],[24,59],[83,83],[16,36],[68,90],[73,69],[66,46],[96,24],[4,62],[56,15],[14,97],[96,63],[94,87],[34,38],[58,70],[16,12],[39,83],[62,40],[99,9],[66,46],[41,24],[35,35],[95,51],[5,33],[68,15],[8,92],[35,76],[58,75],[5,46],[13,88],[92,24],[24,80]] # 86\n",
    "print(numberOfWeakCharacters(properties))"
   ]
  }
 ],
 "metadata": {
  "kernelspec": {
   "display_name": "Python 3.9.12 ('base')",
   "language": "python",
   "name": "python3"
  },
  "language_info": {
   "codemirror_mode": {
    "name": "ipython",
    "version": 3
   },
   "file_extension": ".py",
   "mimetype": "text/x-python",
   "name": "python",
   "nbconvert_exporter": "python",
   "pygments_lexer": "ipython3",
   "version": "3.9.12"
  },
  "orig_nbformat": 4,
  "vscode": {
   "interpreter": {
    "hash": "ad2bdc8ecc057115af97d19610ffacc2b4e99fae6737bb82f5d7fb13d2f2c186"
   }
  }
 },
 "nbformat": 4,
 "nbformat_minor": 2
}
