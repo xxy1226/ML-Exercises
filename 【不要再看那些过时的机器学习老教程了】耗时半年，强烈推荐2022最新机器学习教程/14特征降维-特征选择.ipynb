{
 "cells": [
  {
   "cell_type": "markdown",
   "metadata": {},
   "source": [
    "降维 - 降低纬度\n",
    "ndarray\n",
    "  维度：嵌套的层数\n",
    "  0维：标量\n",
    "  1维：向量\n",
    "  2维：矩阵\n",
    "  3维\n",
    "  n维\n",
    "降低特征的个数\n",
    "效果：特征与特征之间不想管\n",
    "\n",
    "* 降低随机变量的个数\n",
    "* 相关特征 (correlated feature)\n",
    "   * 相对湿度与降雨量之间的相关\n",
    "\n",
    "## 降维的两种方式\n",
    "\n",
    "* 特征选择\n",
    "* 主成分分析\n",
    "\n",
    "# 特征选择\n",
    "用数学的方法找出冗余的数据\n",
    "\n",
    "冗余数据例子：\n",
    "鸟都有爪子，如果有一个特征描述鸟是否有爪子，则这个特征就是冗余的，没必要的。\n",
    "\n",
    "## 方法\n",
    "* Filter （过滤式）：\n",
    "   * 方差选择法：低方差特征过滤\n",
    "   * 相关系数法：特征与特征之间的相关程度\n",
    "* Embedded （嵌入式）：\n",
    "   * 决策树\n",
    "   * 正则化\n",
    "   * 深度学习\n",
    "\n",
    "# 模块\n",
    "`sklearn.feature_selection`\n",
    "\n",
    "## 过滤式\n",
    "### 低方差特征过滤\n",
    "* 特征方差小：某个特征大多样本的值比较相近\n",
    "* 特征方差大：某个特征很多样本的值都有差别\n",
    "\n",
    "### API\n",
    "`sklearn.feature_selection.VarianceThreshold(threshold = 0.0)`\n",
    "* 删除所有低方差特征\n",
    "* `Variance.fit_transform(X)`\n",
    "   * X: numpy array 格式的数据\n",
    "   * 返回值：训练集差异低于threshold的特征将被删除。默认值是保留所有非零方差特征，即删除所有样本中具有相同值的特征\n"
   ]
  },
  {
   "cell_type": "code",
   "execution_count": null,
   "metadata": {},
   "outputs": [],
   "source": []
  }
 ],
 "metadata": {
  "language_info": {
   "name": "python"
  },
  "orig_nbformat": 4
 },
 "nbformat": 4,
 "nbformat_minor": 2
}
