{
 "cells": [
  {
   "cell_type": "markdown",
   "metadata": {},
   "source": [
    "# 合并排序 Merge Sort\n",
    "将数组分成两半，分别合并排序，再将排序后的两个子数组合并"
   ]
  },
  {
   "cell_type": "code",
   "execution_count": 1,
   "metadata": {},
   "outputs": [],
   "source": [
    "from typing import List\n",
    "from time import time"
   ]
  },
  {
   "cell_type": "code",
   "execution_count": 102,
   "metadata": {},
   "outputs": [],
   "source": [
    "def mergeSort(arr: List[int]) -> None:\n",
    "    if arr is None or len(arr) < 2:\n",
    "        return\n",
    "    sortProcess(arr, 0, len(arr)-1)\n",
    "    \n",
    "def sortProcess(arr: List[int], l: int, r: int):\n",
    "    if l == r:\n",
    "        return\n",
    "    mid = (l + r) >> 1\n",
    "    sortProcess(arr, l, mid)\n",
    "    sortProcess(arr, mid+1, r)\n",
    "    merge(arr, l, r, mid)\n",
    "    \n",
    "def merge(arr: List[int], l: int, r: int, mid: int):\n",
    "    i, j = l, mid+1\n",
    "    temp = []\n",
    "    while i <= mid and j <= r:\n",
    "        if arr[i] < arr[j]:\n",
    "            temp.append(arr[i])\n",
    "            i += 1\n",
    "        else:\n",
    "            temp.append(arr[j])\n",
    "            j += 1\n",
    "    if i > mid:\n",
    "        temp.extend(arr[j:r+1])\n",
    "    else:\n",
    "        temp.extend(arr[i:mid+1])\n",
    "    arr[l:r+1] = temp"
   ]
  },
  {
   "cell_type": "code",
   "execution_count": 106,
   "metadata": {},
   "outputs": [
    {
     "name": "stdout",
     "output_type": "stream",
     "text": [
      "[1, 2, 3, 4, 5, 6, 7, 8, 9]\n"
     ]
    }
   ],
   "source": [
    "arr = [3,1,9,5,7,2,8,4,6]\n",
    "mergeSort(arr)\n",
    "print(arr)"
   ]
  },
  {
   "cell_type": "markdown",
   "metadata": {},
   "source": [
    "# 进阶 - 小和问题\n",
    "\n",
    "给定一个数组，每个数与其左边的所有数对比，将比该数小的数累加，再将所有和累加，求得的总和为小和。\n",
    "\n",
    "例： [1,3,4,2,5]\n",
    "1 的左边没有数\n",
    "3 的左边比3小的数之和： 1\n",
    "4 的左边比 4 小的数之和： 1 + 3 = 4\n",
    "2 的左边比 2 小的数之和： 1\n",
    "5 的左边比 5 小的数之和： 1 + 3 + 4 + 2 = 10\n",
    "小和： 1 + 4 + 1 + 10 = 16\n",
    "\n",
    "**思路**\n",
    "将数组分半比较：  \n",
    "|||||13425||||\n",
    "|:-:|:-:|:-:|:-:|:-:|:-:|:-:|:-:|\n",
    "|||134||||25||\n",
    "||13||4||2||5|\n",
    "|1||3||||||"
   ]
  },
  {
   "cell_type": "markdown",
   "metadata": {},
   "source": [
    "## 第一步：\n",
    "|||||13425||||\n",
    "|:-:|:-:|:-:|:-:|:-:|:-:|:-:|:-:|\n",
    "|||134||||25||\n",
    "||13||4||2||5|\n",
    "|**1**||**3**||||||\n",
    "\n",
    "先比较 1 和 3，左边的 1 比 3 小，小和 += 1"
   ]
  },
  {
   "cell_type": "markdown",
   "metadata": {},
   "source": [
    "## 第二步：\n",
    "将 1 和 3 合并\n",
    "|||||13425||||\n",
    "|:-:|:-:|:-:|:-:|:-:|:-:|:-:|:-:|\n",
    "|||134||||25||\n",
    "||**13**||**4**||2||5|\n",
    "\n",
    "比较 1, 3 和 4，左边的 1 比 4 小，3 比 4 小， 小和 += 1 + 3"
   ]
  },
  {
   "cell_type": "markdown",
   "metadata": {},
   "source": [
    "## 第三步：\n",
    "|||||13425||||\n",
    "|:-:|:-:|:-:|:-:|:-:|:-:|:-:|:-:|\n",
    "|||134||||25||\n",
    "||13||4||**2**||**5**|\n",
    "\n",
    "比较 2 和 5， 小和 += 2"
   ]
  },
  {
   "cell_type": "markdown",
   "metadata": {},
   "source": [
    "## 第四步：\n",
    "将 1,3 和 4 合并，将 2 和 5 合并\n",
    "|||||13425||||\n",
    "|:-:|:-:|:-:|:-:|:-:|:-:|:-:|:-:|\n",
    "|||**134**||||**25**||\n",
    "\n",
    "比较 1, 3, 4 和 2, 5:\n",
    "* 指针指向 **1** 和 2：1 比 2 小，从 2 开始有 **2** 个元素（2 和 5），小和 += 1 * 2\n",
    "* 指针指向 3 和 2：3 比 2 大\n",
    "* 指针指向 **3** 和 5：3 比 5 小，从 5 开始有 **1** 个元素（5），小和 += 3\n",
    "* 指针指向 **4** 和 5：4 比 5 小，从 5 开始有 **1** 个元素（5），小和 += 4"
   ]
  },
  {
   "cell_type": "code",
   "execution_count": 135,
   "metadata": {},
   "outputs": [],
   "source": [
    "from typing import List\n",
    "\n",
    "def getLSum(arr: List[int]) -> int:\n",
    "    if arr is None or len(arr) < 2:\n",
    "        return\n",
    "    global total\n",
    "    total = 0\n",
    "    lSumProcess(arr, 0, len(arr)-1)\n",
    "    return total\n",
    "    \n",
    "def lSumProcess(arr: List[int], l: int, r: int):\n",
    "    if l == r:\n",
    "        return\n",
    "    mid = (l + r) >> 1\n",
    "    lSumProcess(arr, l, mid)\n",
    "    lSumProcess(arr, mid+1, r)\n",
    "    lSum(arr, l, r, mid)\n",
    "    \n",
    "    \n",
    "def lSum(arr: List[int], l: int, r: int, mid: int):\n",
    "    i, j = l, mid+1\n",
    "    global total\n",
    "    while i <= mid and j <= r:\n",
    "        if arr[i] < arr[j]:\n",
    "            total += arr[i] * (r - j + 1)\n",
    "            i += 1\n",
    "        else:\n",
    "            j += 1\n",
    "    "
   ]
  },
  {
   "cell_type": "code",
   "execution_count": 136,
   "metadata": {},
   "outputs": [
    {
     "name": "stdout",
     "output_type": "stream",
     "text": [
      "7\n"
     ]
    }
   ],
   "source": [
    "arr1 = [1,2,9,5] # 1 + 1 + 2 + 1 + 2 = 7\n",
    "print(getLSum(arr1))"
   ]
  },
  {
   "cell_type": "code",
   "execution_count": 137,
   "metadata": {},
   "outputs": [
    {
     "name": "stdout",
     "output_type": "stream",
     "text": [
      "16\n"
     ]
    }
   ],
   "source": [
    "arr1 = [1,3,4,2,5] # 1 + 1 + 3 + 1 + 1 + 3 + 4 + 2 = 16\n",
    "print(getLSum(arr1))"
   ]
  },
  {
   "cell_type": "markdown",
   "metadata": {},
   "source": [
    "# 练习"
   ]
  },
  {
   "cell_type": "code",
   "execution_count": 11,
   "metadata": {},
   "outputs": [
    {
     "name": "stdout",
     "output_type": "stream",
     "text": [
      "[1, 2, 3, 4, 5, 6, 7, 8, 9, 10]\n"
     ]
    }
   ],
   "source": [
    "# Merge Sort\n",
    "def myMergeSort(arr: List[int]):\n",
    "    mergeSortProcess(arr, 0, len(arr)-1)\n",
    "    \n",
    "def mergeSortProcess(arr: List[int], l: int, r: int):\n",
    "    if l == r:\n",
    "        return\n",
    "    mid = (l+r)>>1\n",
    "    mergeSortProcess(arr, l, mid)\n",
    "    mergeSortProcess(arr, mid+1, r)\n",
    "    mergeProcess(arr, l, mid, r)\n",
    "    \n",
    "def mergeProcess(arr: List[int], l: int, mid: int, r: int):\n",
    "    i, j, helper = l, mid+1, []\n",
    "    while i < mid+1 and j < r+1:\n",
    "        if arr[i] < arr[j]:\n",
    "            helper.append(arr[i])\n",
    "            i += 1\n",
    "        else:\n",
    "            helper.append(arr[j])\n",
    "            j += 1\n",
    "    if i == mid+1:\n",
    "        helper.extend(arr[j:r+1])\n",
    "    else:\n",
    "        helper.extend(arr[i:mid+1])\n",
    "    arr[l:r+1] = helper\n",
    "    \n",
    "    \n",
    "arr = [3,1,9,5,7,2,8,4,6,10]\n",
    "# arr = [4, 3, 2, 1]\n",
    "myMergeSort(arr)\n",
    "print(arr)"
   ]
  },
  {
   "cell_type": "code",
   "execution_count": 12,
   "metadata": {},
   "outputs": [
    {
     "name": "stdout",
     "output_type": "stream",
     "text": [
      "[1, 2, 3, 4, 5, 6, 7, 8, 9, 10]\n"
     ]
    }
   ],
   "source": [
    "# Bubble Sort\n",
    "def bubbleSort(arr: List[int]):\n",
    "    for i in range(1, len(arr))[::-1]:\n",
    "        for j in range(i):\n",
    "            if arr[j] > arr[j+1]:\n",
    "                temp = arr[j]\n",
    "                arr[j] = arr[j+1]\n",
    "                arr[j+1] = temp\n",
    "               \n",
    "arr = [3,1,9,5,7,2,8,4,6,10]\n",
    "bubbleSort(arr)\n",
    "print(arr)"
   ]
  },
  {
   "cell_type": "code",
   "execution_count": 14,
   "metadata": {},
   "outputs": [
    {
     "name": "stdout",
     "output_type": "stream",
     "text": [
      "Merge Sort time: 0s\n",
      "Bubble Sort time: 21s\n",
      "Test1 = Test2\n",
      "Tifferent: 21s\n"
     ]
    }
   ],
   "source": [
    "from random import randint\n",
    "from time import time\n",
    "\n",
    "arrTest1, arrTest2 = [], []\n",
    "for _ in range(10000):\n",
    "    arrTest1.append(randint(0, 2000))\n",
    "arrTest2.extend(arrTest1)\n",
    "\n",
    "t1 = time()\n",
    "myMergeSort(arrTest1)\n",
    "t2 = time()\n",
    "t3 = t2 - t1\n",
    "print(\"Merge Sort time: %ds\"%t3)\n",
    "\n",
    "t1 = time()\n",
    "bubbleSort(arrTest2)\n",
    "t2 = time()\n",
    "t4 = t2 - t1\n",
    "print(\"Bubble Sort time: %ds\"%t4)\n",
    "\n",
    "if arrTest1 == arrTest2:\n",
    "    print(\"Test1 = Test2\")\n",
    "print(\"Tifferent: %ds\"%(t4-t3))\n",
    "\n"
   ]
  },
  {
   "cell_type": "code",
   "execution_count": null,
   "metadata": {},
   "outputs": [],
   "source": [
    "def smallSum(arr: List[int]) -> int:\n",
    "    if len(arr) < 2:\n",
    "        return 0\n",
    "    global total\n",
    "    total = 0\n",
    "    smallSumProcess(arr, 0, len(arr)-1)\n",
    "    return total\n",
    "    \n",
    "def smallSumProcess(arr: List[int], l: int, r: int) -> int:\n",
    "    if l == r:\n",
    "        return\n",
    "    mid = (l+r)>>1\n",
    "    smallSumProcess(arr, l, mid)\n",
    "    smallSumProcess(arr, mid+1, r)\n",
    "    sumProcess(arr, l, mid, r)\n",
    "    \n",
    "def sumProcess(arr: List[int], l: int, mid: int, r: int):\n",
    "    i, j = l, mid+1\n",
    "    global total\n",
    "    while i <=mid and j <= r:\n",
    "        if arr[i] < arr[j]:\n",
    "            total += arr[i]\n",
    "            i += 1\n",
    "    "
   ]
  }
 ],
 "metadata": {
  "kernelspec": {
   "display_name": "Python 3.8.10 ('base')",
   "language": "python",
   "name": "python3"
  },
  "language_info": {
   "codemirror_mode": {
    "name": "ipython",
    "version": 3
   },
   "file_extension": ".py",
   "mimetype": "text/x-python",
   "name": "python",
   "nbconvert_exporter": "python",
   "pygments_lexer": "ipython3",
   "version": "3.8.10"
  },
  "orig_nbformat": 4,
  "vscode": {
   "interpreter": {
    "hash": "ed9dd54d93773a54077976d71c29f744fe60816153cc35ad40f2c53070f2668f"
   }
  }
 },
 "nbformat": 4,
 "nbformat_minor": 2
}
