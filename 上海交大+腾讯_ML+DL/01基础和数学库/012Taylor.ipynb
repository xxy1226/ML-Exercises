{
 "cells": [
  {
   "cell_type": "code",
   "execution_count": 8,
   "metadata": {},
   "outputs": [
    {
     "name": "stderr",
     "output_type": "stream",
     "text": [
      "findfont: Font family ['sans-serif'] not found. Falling back to DejaVu Sans.\n",
      "findfont: Generic family 'sans-serif' not found because none of the following families were found: SimMei\n",
      "C:\\Users\\andre\\AppData\\Local\\Programs\\Python\\Python310\\lib\\site-packages\\IPython\\core\\pylabtools.py:151: UserWarning: Glyph 23637 (\\N{CJK UNIFIED IDEOGRAPH-5C55}) missing from current font.\n",
      "  fig.canvas.print_figure(bytes_io, **kw)\n",
      "C:\\Users\\andre\\AppData\\Local\\Programs\\Python\\Python310\\lib\\site-packages\\IPython\\core\\pylabtools.py:151: UserWarning: Glyph 24335 (\\N{CJK UNIFIED IDEOGRAPH-5F0F}) missing from current font.\n",
      "  fig.canvas.print_figure(bytes_io, **kw)\n",
      "C:\\Users\\andre\\AppData\\Local\\Programs\\Python\\Python310\\lib\\site-packages\\IPython\\core\\pylabtools.py:151: UserWarning: Glyph 30340 (\\N{CJK UNIFIED IDEOGRAPH-7684}) missing from current font.\n",
      "  fig.canvas.print_figure(bytes_io, **kw)\n",
      "C:\\Users\\andre\\AppData\\Local\\Programs\\Python\\Python310\\lib\\site-packages\\IPython\\core\\pylabtools.py:151: UserWarning: Glyph 24212 (\\N{CJK UNIFIED IDEOGRAPH-5E94}) missing from current font.\n",
      "  fig.canvas.print_figure(bytes_io, **kw)\n",
      "C:\\Users\\andre\\AppData\\Local\\Programs\\Python\\Python310\\lib\\site-packages\\IPython\\core\\pylabtools.py:151: UserWarning: Glyph 29992 (\\N{CJK UNIFIED IDEOGRAPH-7528}) missing from current font.\n",
      "  fig.canvas.print_figure(bytes_io, **kw)\n",
      "findfont: Font family ['sans-serif'] not found. Falling back to DejaVu Sans.\n",
      "findfont: Generic family 'sans-serif' not found because none of the following families were found: SimMei\n",
      "findfont: Font family ['sans-serif'] not found. Falling back to DejaVu Sans.\n",
      "findfont: Generic family 'sans-serif' not found because none of the following families were found: SimMei\n",
      "findfont: Font family ['sans-serif'] not found. Falling back to DejaVu Sans.\n",
      "findfont: Generic family 'sans-serif' not found because none of the following families were found: SimMei\n"
     ]
    },
    {
     "name": "stdout",
     "output_type": "stream",
     "text": [
      "[-2.         -1.8        -1.6        -1.4        -1.2        -1.\n",
      " -0.8        -0.6        -0.4        -0.2         0.          0.10526316\n",
      "  0.21052632  0.31578947  0.42105263  0.52631579  0.63157895  0.73684211\n",
      "  0.84210526  0.94736842  1.05263158  1.15789474  1.26315789  1.36842105\n",
      "  1.47368421  1.57894737  1.68421053  1.78947368  1.89473684  2.        ]\n",
      "e^ -2.0  =  0.13533528323661267 (近似值)\t 0.1353352832366127 (真实值)\n",
      "e^ -1.8  =  0.16529888822158215 (近似值)\t 0.16529888822158653 (真实值)\n",
      "e^ -1.6  =  0.20189651799465555 (近似值)\t 0.20189651799465538 (真实值)\n",
      "e^ -1.4  =  0.2465969639416065 (近似值)\t 0.2465969639416065 (真实值)\n",
      "e^ -1.2  =  0.301194211912202 (近似值)\t 0.30119421191220214 (真实值)\n",
      "e^ -1.0  =  0.36787944117145815 (近似值)\t 0.36787944117144233 (真实值)\n",
      "e^ -0.7999999999999998  =  0.4493289641172216 (近似值)\t 0.4493289641172217 (真实值)\n",
      "e^ -0.5999999999999999  =  0.5488116360940265 (近似值)\t 0.5488116360940265 (真实值)\n",
      "e^ -0.3999999999999999  =  0.6703200460356091 (近似值)\t 0.6703200460356393 (真实值)\n",
      "e^ -0.19999999999999996  =  0.8187307530779823 (近似值)\t 0.8187307530779819 (真实值)\n",
      "e^ 0.0  =  1.0 (近似值)\t 1.0 (真实值)\n",
      "e^ 0.10526315789473684  =  1.1110029410844708 (近似值)\t 1.1110029410844708 (真实值)\n",
      "e^ 0.21052631578947367  =  1.2343275350983434 (近似值)\t 1.2343275350983443 (真实值)\n",
      "e^ 0.3157894736842105  =  1.3713415217557257 (近似值)\t 1.3713415217558058 (真实值)\n",
      "e^ 0.42105263157894735  =  1.5235644639019839 (近似值)\t 1.523564463901954 (真实值)\n",
      "e^ 0.5263157894736842  =  1.6926846003268563 (近似值)\t 1.692684600326856 (真实值)\n",
      "e^ 0.631578947368421  =  1.8805775692915292 (近似值)\t 1.8805775692915292 (真实值)\n",
      "e^ 0.7368421052631579  =  2.0893272104203744 (近似值)\t 2.089327210420374 (真实值)\n",
      "e^ 0.8421052631578947  =  2.3212486756648487 (近似值)\t 2.3212486756648487 (真实值)\n",
      "e^ 0.9473684210526315  =  2.578914105652065 (近似值)\t 2.57891410565208 (真实值)\n",
      "e^ 1.0526315789473684  =  2.865181156184245 (近似值)\t 2.8651811561836884 (真实值)\n",
      "e^ 1.1578947368421053  =  3.1832246912598916 (近似值)\t 3.1832246912598827 (真实值)\n",
      "e^ 1.263157894736842  =  3.5365719941224363 (近似值)\t 3.5365719941224363 (真实值)\n",
      "e^ 1.3684210526315788  =  3.929141886826998 (近似值)\t 3.929141886826998 (真实值)\n",
      "e^ 1.4736842105263157  =  4.365288192202983 (近似值)\t 4.365288192202982 (真实值)\n",
      "e^ 1.5789473684210527  =  4.849848020218825 (近似值)\t 4.849848020218827 (真实值)\n",
      "e^ 1.6842105263157894  =  5.388195414275646 (近似值)\t 5.388195414275814 (真实值)\n",
      "e^ 1.789473684210526  =  5.986300952398527 (近似值)\t 5.986300952398287 (真实值)\n",
      "e^ 1.894736842105263  =  6.65079796433127 (近似值)\t 6.650797964331267 (真实值)\n",
      "e^ 2.0  =  7.389056098930651 (近似值)\t 7.38905609893065 (真实值)\n"
     ]
    },
    {
     "data": {
      "image/png": "[encoded data removed]",
      "text/plain": [
       "<Figure size 432x288 with 1 Axes>"
      ]
     },
     "metadata": {
      "needs_background": "light"
     },
     "output_type": "display_data"
    }
   ],
   "source": [
    "import numpy as np\n",
    "import math\n",
    "import matplotlib as mpl\n",
    "import matplotlib.pyplot as plt\n",
    "\n",
    "def calc_e_small(x):\n",
    "    n = 10\n",
    "    f = np.arange(1, n+1).cumprod()\n",
    "    b = np.array([x]*n).cumprod()\n",
    "    return np.sum(b / f) +1\n",
    "\n",
    "def calc_e(x):\n",
    "    reverse = False\n",
    "    if x < 0:\n",
    "        x = -x\n",
    "        reverse = True\n",
    "    ln2 = 0.69314718055994530941723212145818\n",
    "    c = x / ln2\n",
    "    a = int(c + 0.5)\n",
    "    b = x - a * ln2\n",
    "    y = (2 ** a) * calc_e_small(b)\n",
    "    if reverse:\n",
    "        return 1/y\n",
    "    return y\n",
    "\n",
    "if __name__ == '__main__':\n",
    "    t1 = np.linspace(-2, 0, 10, endpoint=False)\n",
    "    t2 = np.linspace(0, 2, 20)\n",
    "    t = np.concatenate((t1, t2))\n",
    "    print(t)\n",
    "    y = np.empty_like(t)\n",
    "    for i, x in enumerate(t):\n",
    "        y[i] = calc_e(x)\n",
    "        print('e^', x, ' = ', y[i], '(近似值)\\t', math.exp(x), '(真实值)')\n",
    "    mpl.rcParams['font.sans-serif'] = [u'SimMei']\n",
    "    mpl.rcParams['axes.unicode_minus'] = False\n",
    "    plt.plot(t, y, 'r-', t, y, 'go', linewidth=2)\n",
    "    plt.title(u'Taylor展式的应用', fontsize=18)\n",
    "    plt.xlabel('x', fontsize=15)\n",
    "    plt.ylabel('exp(x)', fontsize=25)\n",
    "    plt.grid(True)\n",
    "    plt.show()\n"
   ]
  }
 ],
 "metadata": {
  "interpreter": {
   "hash": "35c4bcfff6bb594ff47b51ce5b21bcb1093d06fa0c5debe7002e3be5d50f4cc1"
  },
  "kernelspec": {
   "display_name": "Python 3.10.4 64-bit",
   "language": "python",
   "name": "python3"
  },
  "language_info": {
   "codemirror_mode": {
    "name": "ipython",
    "version": 3
   },
   "file_extension": ".py",
   "mimetype": "text/x-python",
   "name": "python",
   "nbconvert_exporter": "python",
   "pygments_lexer": "ipython3",
   "version": "3.10.4"
  },
  "orig_nbformat": 4
 },
 "nbformat": 4,
 "nbformat_minor": 2
}
