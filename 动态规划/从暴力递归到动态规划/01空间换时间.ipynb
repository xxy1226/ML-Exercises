{
 "cells": [
  {
   "cell_type": "markdown",
   "metadata": {},
   "source": [
    "动态规划：在算过一次之后把答案记下来，遇到重复过程时直接调用"
   ]
  },
  {
   "cell_type": "code",
   "execution_count": 21,
   "metadata": {},
   "outputs": [
    {
     "name": "stdout",
     "output_type": "stream",
     "text": [
      "9227465\n",
      "耗时： 3.8088080883026123\n"
     ]
    }
   ],
   "source": [
    "import time\n",
    "\n",
    "def fbnq(n: int) -> int:\n",
    "    \"\"\"斐波那契数列\"\"\"\n",
    "    if n == 1 or n ==2: return 1\n",
    "    return fbnq(n-1) + fbnq(n-2)\n",
    "\n",
    "start = time.time()\n",
    "print(fbnq(35))\n",
    "end = time.time()\n",
    "print(\"耗时：\", end-start)"
   ]
  },
  {
   "cell_type": "code",
   "execution_count": 22,
   "metadata": {},
   "outputs": [
    {
     "name": "stdout",
     "output_type": "stream",
     "text": [
      "9227465\n",
      "耗时： 0.0009987354278564453\n"
     ]
    }
   ],
   "source": [
    "import time\n",
    "\n",
    "def fbnq(n: int) -> int:\n",
    "    if n < 3: return 1\n",
    "    f=[1, 1]\n",
    "    for i in range(n-2):\n",
    "        f.append(f[i] + f[i+1])\n",
    "    return f[n-1]\n",
    "  \n",
    "start = time.time()      \n",
    "print(fbnq(35))\n",
    "end = time.time()\n",
    "\n",
    "print(\"耗时：\", end-start)"
   ]
  },
  {
   "cell_type": "markdown",
   "metadata": {},
   "source": [
    "\n",
    "import time\n"
   ]
  }
 ],
 "metadata": {
  "kernelspec": {
   "display_name": "Python 3.8.10 ('base')",
   "language": "python",
   "name": "python3"
  },
  "language_info": {
   "codemirror_mode": {
    "name": "ipython",
    "version": 3
   },
   "file_extension": ".py",
   "mimetype": "text/x-python",
   "name": "python",
   "nbconvert_exporter": "python",
   "pygments_lexer": "ipython3",
   "version": "3.8.10"
  },
  "orig_nbformat": 4,
  "vscode": {
   "interpreter": {
    "hash": "ed9dd54d93773a54077976d71c29f744fe60816153cc35ad40f2c53070f2668f"
   }
  }
 },
 "nbformat": 4,
 "nbformat_minor": 2
}
