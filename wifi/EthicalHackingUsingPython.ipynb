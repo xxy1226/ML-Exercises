{
 "cells": [
  {
   "cell_type": "code",
   "execution_count": null,
   "metadata": {},
   "outputs": [],
   "source": [
    "import hashlib\n",
    "\n",
    "flag = 0\n",
    "pass_hash = input(\"Enter md5 hash: \")\n",
    "wordlist = \"names.txt\"\n",
    "\n",
    "try:\n",
    "    pass_file = open(wordlist, 'r')\n",
    "except:\n",
    "    print(\"No file found\")\n",
    "    quit()\n",
    "\n",
    "for word in pass_file:\n",
    "    enc_wrd = word.encode('utf-8')\n",
    "    digest = hashlib.md5(enc_wrd.strip()).hexdigest()\n",
    "\n",
    "    if digest == pass_hash:\n",
    "        print(\"password found\")\n",
    "        print(\"Password is: \" + word)\n",
    "        flag = 1\n",
    "        break\n",
    "\n",
    "if flag == 0:\n",
    "    print(\"Password/passphrase is not in the list\")"
   ]
  }
 ],
 "metadata": {
  "language_info": {
   "name": "python"
  },
  "orig_nbformat": 4
 },
 "nbformat": 4,
 "nbformat_minor": 2
}
