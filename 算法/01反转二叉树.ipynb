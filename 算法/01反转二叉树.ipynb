{
 "cells": [
  {
   "cell_type": "code",
   "execution_count": 2,
   "metadata": {},
   "outputs": [
    {
     "name": "stdout",
     "output_type": "stream",
     "text": [
      "{'id': '4', 'left': {'id': '7', 'left': {'id': '9', 'left': None, 'right': None}, 'right': {'id': '6', 'left': None, 'right': None}}, 'right': {'id': '2', 'left': {'id': '3', 'left': None, 'right': None}, 'right': {'id': '1', 'left': None, 'right': None}}}\n"
     ]
    }
   ],
   "source": [
    "# 源二叉树\n",
    "obj = {\n",
    "    'id': '4',\n",
    "    'left': {\n",
    "        'id': '2',\n",
    "        'left': {\n",
    "            'id': '1',\n",
    "            'left': None,\n",
    "            'right': None\n",
    "        },\n",
    "        'right': {\n",
    "            'id': '3',\n",
    "            'left': None,\n",
    "            'right': None\n",
    "        }\n",
    "    },\n",
    "    'right': {\n",
    "        'id': '7',\n",
    "        'left': {\n",
    "            'id': '6',\n",
    "            'left': None,\n",
    "            'right': None\n",
    "        },\n",
    "        'right': {\n",
    "            'id': '9',\n",
    "            'left': None,\n",
    "            'right': None\n",
    "        }\n",
    "    }\n",
    "}\n",
    "\n",
    "def invertTree(obj: dict):\n",
    "    if (obj != None):\n",
    "        temp = obj['left']\n",
    "        obj['left'] = obj['right']\n",
    "        obj['right'] = temp\n",
    "        invertTree(obj['left'])\n",
    "        invertTree(obj['right'])\n",
    "    return obj\n",
    "\n",
    "print(invertTree(obj))"
   ]
  }
 ],
 "metadata": {
  "kernelspec": {
   "display_name": "Python 3.9.12 ('base')",
   "language": "python",
   "name": "python3"
  },
  "language_info": {
   "codemirror_mode": {
    "name": "ipython",
    "version": 3
   },
   "file_extension": ".py",
   "mimetype": "text/x-python",
   "name": "python",
   "nbconvert_exporter": "python",
   "pygments_lexer": "ipython3",
   "version": "3.9.12"
  },
  "orig_nbformat": 4,
  "vscode": {
   "interpreter": {
    "hash": "ad2bdc8ecc057115af97d19610ffacc2b4e99fae6737bb82f5d7fb13d2f2c186"
   }
  }
 },
 "nbformat": 4,
 "nbformat_minor": 2
}
