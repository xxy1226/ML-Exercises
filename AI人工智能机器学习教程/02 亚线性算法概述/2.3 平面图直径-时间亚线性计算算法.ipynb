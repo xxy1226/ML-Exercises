{
 "cells": [
  {
   "cell_type": "markdown",
   "metadata": {},
   "source": [
    "* **输入**：m 个顶点的平面图，任意两点之间的距离存储在矩阵 D 中，即点 i 到点 j 的距离为 $D_ij$\n",
    "    * 输入大小是 $n=m^2$\n",
    "    * 最大的 $D_{ij}$ 是图的直径\n",
    "    * 点之间的距离对称且满足三角不等式\n",
    "* **输出**：该图的直径和距离最大的 $D_{ij}$\n",
    "* **要求**：\n",
    "    * 运行时间为o(n)"
   ]
  },
  {
   "cell_type": "markdown",
   "metadata": {},
   "source": [
    "* 无法在要求的时间内得到精确解，寻求近似算法\n",
    "* 近似算法\n",
    "    * 任意选择 k ≤ m\n",
    "    * 选择使得 $D_{kl}$ 最大的 l\n",
    "    * 输出 $D_{kl}$ 和 (k, l)\n",
    "* 近似比  \n",
    " $D_{ij} ≤ D_{ik} + D_{kj} ≤ D_{kl} + D_{kl} ≤ 2D_{kl}$  \n",
    " 因而近似比为2，即最坏情况下的 $D_{ij}$ 是 $D_{kl}$ 的一半"
   ]
  },
  {
   "cell_type": "markdown",
   "metadata": {},
   "source": [
    "* 运行时间  \n",
    "$O(m) = O(\\sqrt{n}) = o(n)$"
   ]
  },
  {
   "cell_type": "markdown",
   "metadata": {},
   "source": [
    "* 什么是近似算法\n",
    "    * 近似算法主要用来解决优化问题\n",
    "    * 能够给出一个优化问题的近似优化解的算法\n",
    "* 近似算法解的近似度\n",
    "    * 问题的每一个可能的解都具有一个代价\n",
    "    * 问题的优化解可能具有最大或最小代价\n",
    "    * 我们希望寻找问题的一个误差最小的近似优化解\n",
    "* 我们需要分析近似解代价与优化解代价的差距\n",
    "    * Ratio Bound\n",
    "    * 相对误差\n",
    "    * ($1+\\epsilon$)-近似"
   ]
  },
  {
   "cell_type": "markdown",
   "metadata": {},
   "source": [
    "* Ratio Bound  \n",
    "设 A 是一个优化问题的近似算法，A 具有 ratio bound p(n)，如果  \n",
    "$max\\{\\frac{C}{C^*},\\frac{C^*}{C}\\}≤p(n)$  \n",
    "其中 n 是输入大小， C 是 A 产生的解的代价， $C^*$是优化解的代价\n",
    "    * 如果问题是最大化问题，$max\\{\\frac{C}{C^*},\\frac{C^*}{C}\\}=\\frac{C^*}{C}$\n",
    "    * 如果问题是最小化问题，$max\\{\\frac{C}{C^*},\\frac{C^*}{C}\\}=\\frac{C}{C^*}$\n",
    "    * 由于 $\\frac{C}{C^*}<1$ 当且进当 $\\frac{C^*}{C}>1$，Ratio Bound 不会小于 1\n",
    "    * Ratio Bound 越大，近似解越坏\n",
    "* 相对误差  \n",
    "**相对误差**：对于任意输入，近似算法的相对误差定义为 $\\frac{|C-C^*|}{C^*}$，其中 C 是近似解的代价， $C^*$ 是优化解的代价\n",
    "**相对误差界**：一个近似算法的相对误差界为 $\\epsilon(n)$，如果 $\\frac{|C-C^*|}{C^*}≤\\epsilon(n)$"
   ]
  }
 ],
 "metadata": {
  "interpreter": {
   "hash": "6847c98a8f86b01c6a19c518cd2f366693b80566b266804d5ca763cbb223f52b"
  },
  "kernelspec": {
   "display_name": "Python 3.10.4 64-bit",
   "language": "python",
   "name": "python3"
  },
  "language_info": {
   "name": "python",
   "version": "3.10.4"
  },
  "orig_nbformat": 4
 },
 "nbformat": 4,
 "nbformat_minor": 2
}
