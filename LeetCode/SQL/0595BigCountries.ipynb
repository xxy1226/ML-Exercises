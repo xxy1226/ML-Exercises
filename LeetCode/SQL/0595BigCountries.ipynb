{
 "cells": [
  {
   "attachments": {},
   "cell_type": "markdown",
   "metadata": {},
   "source": [
    "# 595. Big Countries\n",
    "Easy"
   ]
  },
  {
   "attachments": {},
   "cell_type": "markdown",
   "metadata": {},
   "source": [
    "### SQL Schema"
   ]
  },
  {
   "attachments": {},
   "cell_type": "markdown",
   "metadata": {},
   "source": [
    "Create table If Not Exists World (name varchar(255), continent varchar(255), area int, population int, gdp int)  \n",
    "Truncate table World  \n",
    "insert into World (name, continent, area, population, gdp) values ('Afghanistan', 'Asia', '652230', '25500100', '20343000000')  \n",
    "insert into World (name, continent, area, population, gdp) values ('Albania', 'Europe', '28748', '2831741', '12960000000')  \n",
    "insert into World (name, continent, area, population, gdp) values ('Algeria', 'Africa', '2381741', '37100000', '188681000000')  \n",
    "insert into World (name, continent, area, population, gdp) values ('Andorra', 'Europe', '468', '78115', '3712000000')  \n",
    "insert into World (name, continent, area, population, gdp) values ('Angola', 'Africa', '1246700', '20609294', '100990000000')  "
   ]
  },
  {
   "attachments": {},
   "cell_type": "markdown",
   "metadata": {},
   "source": [
    "Table: World\n",
    "\n",
    "|Column Name|Type|\n",
    "|:-|:-|\n",
    "|name|varchar|\n",
    "|continent|varchar|\n",
    "|area|int|\n",
    "|population|int|\n",
    "|gdp|int|\n",
    "\n",
    "name is the primary key column for this table.  \n",
    "Each row of this table gives information about the name of a country, the continent to which it belongs, its area, the population, and its GDP value.\n",
    "\n",
    " \n",
    "\n",
    "A country is big if:\n",
    "\n",
    "    it has an area of at least three million (i.e., 3000000 km2), or\n",
    "    it has a population of at least twenty-five million (i.e., 25000000).\n",
    "\n",
    "Write an SQL query to report the name, population, and area of the big countries.\n",
    "\n",
    "Return the result table in any order.\n",
    "\n",
    "The query result format is in the following example."
   ]
  },
  {
   "attachments": {},
   "cell_type": "markdown",
   "metadata": {},
   "source": [
    "Example 1:\n",
    "\n",
    "Input: \n",
    "\n",
    "World table:\n",
    "\n",
    "| name        | continent | area    | population | gdp          |\n",
    "| :-          | :-        | :-      | :-         | :-           |\n",
    "| Afghanistan | Asia      | 652230  | 25500100   | 20343000000  |\n",
    "| Albania     | Europe    | 28748   | 2831741    | 12960000000  |\n",
    "| Algeria     | Africa    | 2381741 | 37100000   | 188681000000 |\n",
    "| Andorra     | Europe    | 468     | 78115      | 3712000000   |\n",
    "| Angola      | Africa    | 1246700 | 20609294   | 100990000000 |\n",
    "\n",
    "Output: \n",
    "\n",
    "\n",
    "| name        | population | area    |\n",
    "| :-          | :-         | :-      |\n",
    "| Afghanistan | 25500100   | 652230  |\n",
    "| Algeria     | 37100000   | 2381741 |\n",
    "\n"
   ]
  },
  {
   "attachments": {},
   "cell_type": "markdown",
   "metadata": {},
   "source": [
    "# Answer:"
   ]
  },
  {
   "attachments": {},
   "cell_type": "markdown",
   "metadata": {},
   "source": [
    "SELECT name,population,area FROM World WHERE area>=3000000 OR population>=25000000;"
   ]
  }
 ],
 "metadata": {
  "kernelspec": {
   "display_name": "Python 3",
   "language": "python",
   "name": "python3"
  },
  "language_info": {
   "name": "python",
   "version": "3.11.0 (main, Oct 24 2022, 18:26:48) [MSC v.1933 64 bit (AMD64)]"
  },
  "orig_nbformat": 4,
  "vscode": {
   "interpreter": {
    "hash": "7f72a02631ee34c77992b8fbf8eeeadc4682e5010f9171c60a2abaa1e6fc77db"
   }
  }
 },
 "nbformat": 4,
 "nbformat_minor": 2
}
