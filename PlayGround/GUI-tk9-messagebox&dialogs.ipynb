{
 "cells": [
  {
   "attachments": {},
   "cell_type": "markdown",
   "metadata": {},
   "source": [
    "有三种类型的 提示型 Messagebox：\n",
    "\n",
    "* `showinfo()`\n",
    "* `showwarning()`\n",
    "* `showerror()`\n",
    "\n",
    "有五种类型的 问题型 Messagebox：\n",
    "\n",
    "* `askyesno()`\n",
    "* `askokcancel()`\n",
    "* `askretrycancel()`\n",
    "* `askyesnocancel()`\n",
    "* `askquestion()`"
   ]
  },
  {
   "cell_type": "code",
   "execution_count": 1,
   "metadata": {},
   "outputs": [
    {
     "data": {
      "text/plain": [
       "False"
      ]
     },
     "execution_count": 1,
     "metadata": {},
     "output_type": "execute_result"
    }
   ],
   "source": [
    "# from tkinter import *\n",
    "from tkinter import messagebox\n",
    "messagebox.showinfo(title='A Friendly Message', message='Hello, Tkinter!')\n",
    "messagebox.askyesno(title='Hungry?', message='Do you want SPAM?') # 返回 True / False"
   ]
  },
  {
   "cell_type": "code",
   "execution_count": 2,
   "metadata": {},
   "outputs": [
    {
     "ename": "AttributeError",
     "evalue": "'NoneType' object has no attribute 'name'",
     "output_type": "error",
     "traceback": [
      "\u001b[1;31m---------------------------------------------------------------------------\u001b[0m",
      "\u001b[1;31mAttributeError\u001b[0m                            Traceback (most recent call last)",
      "\u001b[1;32md:\\Users\\Andrew\\文档\\Python\\ML-Exercises\\PlayGround\\GUI-tk9-messagebox&dialogs.ipynb Cell 3\u001b[0m in \u001b[0;36m<cell line: 3>\u001b[1;34m()\u001b[0m\n\u001b[0;32m      <a href='vscode-notebook-cell:/d%3A/Users/Andrew/%E6%96%87%E6%A1%A3/Python/ML-Exercises/PlayGround/GUI-tk9-messagebox%26dialogs.ipynb#W2sZmlsZQ%3D%3D?line=0'>1</a>\u001b[0m \u001b[39mfrom\u001b[39;00m \u001b[39mtkinter\u001b[39;00m \u001b[39mimport\u001b[39;00m filedialog\n\u001b[0;32m      <a href='vscode-notebook-cell:/d%3A/Users/Andrew/%E6%96%87%E6%A1%A3/Python/ML-Exercises/PlayGround/GUI-tk9-messagebox%26dialogs.ipynb#W2sZmlsZQ%3D%3D?line=1'>2</a>\u001b[0m filename \u001b[39m=\u001b[39m filedialog\u001b[39m.\u001b[39maskopenfile()\n\u001b[1;32m----> <a href='vscode-notebook-cell:/d%3A/Users/Andrew/%E6%96%87%E6%A1%A3/Python/ML-Exercises/PlayGround/GUI-tk9-messagebox%26dialogs.ipynb#W2sZmlsZQ%3D%3D?line=2'>3</a>\u001b[0m \u001b[39mprint\u001b[39m(filename\u001b[39m.\u001b[39;49mname)\n\u001b[0;32m      <a href='vscode-notebook-cell:/d%3A/Users/Andrew/%E6%96%87%E6%A1%A3/Python/ML-Exercises/PlayGround/GUI-tk9-messagebox%26dialogs.ipynb#W2sZmlsZQ%3D%3D?line=4'>5</a>\u001b[0m \u001b[39mfrom\u001b[39;00m \u001b[39mtkinter\u001b[39;00m \u001b[39mimport\u001b[39;00m colorchooser\n\u001b[0;32m      <a href='vscode-notebook-cell:/d%3A/Users/Andrew/%E6%96%87%E6%A1%A3/Python/ML-Exercises/PlayGround/GUI-tk9-messagebox%26dialogs.ipynb#W2sZmlsZQ%3D%3D?line=5'>6</a>\u001b[0m colorchooser\u001b[39m.\u001b[39maskcolor(initialcolor\u001b[39m=\u001b[39m\u001b[39m'\u001b[39m\u001b[39m#FFFFFF\u001b[39m\u001b[39m'\u001b[39m)\n",
      "\u001b[1;31mAttributeError\u001b[0m: 'NoneType' object has no attribute 'name'"
     ]
    }
   ],
   "source": [
    "from tkinter import filedialog\n",
    "filename = filedialog.askopenfile()\n",
    "print(filename.name)\n",
    "\n",
    "from tkinter import colorchooser\n",
    "colorchooser.askcolor(initialcolor='#FFFFFF')\n"
   ]
  }
 ],
 "metadata": {
  "kernelspec": {
   "display_name": "Python 3",
   "language": "python",
   "name": "python3"
  },
  "language_info": {
   "codemirror_mode": {
    "name": "ipython",
    "version": 3
   },
   "file_extension": ".py",
   "mimetype": "text/x-python",
   "name": "python",
   "nbconvert_exporter": "python",
   "pygments_lexer": "ipython3",
   "version": "3.10.4"
  },
  "orig_nbformat": 4,
  "vscode": {
   "interpreter": {
    "hash": "6847c98a8f86b01c6a19c518cd2f366693b80566b266804d5ca763cbb223f52b"
   }
  }
 },
 "nbformat": 4,
 "nbformat_minor": 2
}
