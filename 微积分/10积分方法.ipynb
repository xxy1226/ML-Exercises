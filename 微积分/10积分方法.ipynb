{
 "cells": [
  {
   "cell_type": "markdown",
   "metadata": {},
   "source": [
    "例\n",
    "\n",
    "$\\int x^2dx=\\frac{1}{3}x^3+C$"
   ]
  },
  {
   "cell_type": "markdown",
   "metadata": {},
   "source": [
    "# 常用积分/导数\n",
    "\n",
    "$$\\int x^\\alpha dx=\\frac{x^{\\alpha+1}}{\\alpha+1}+C, x>0; for  \\alpha\\neq-1$$\n",
    "$$\\int\\frac{1}{x}dx=\\ln|x|+C, x\\neq 0$$\n",
    "$$\\int e^xdx=e^x+C$$\n",
    "$$\\int\\sin(x)dx=-\\cos(x)+C$$\n",
    "$$\\int\\frac{1}{\\cos^2(x)}dx=\\tan(x)+C, x\\neq\\frac{\\pi}{2}+k\\pi$$\n",
    "$$\\int\\cos(x)dx=\\sin(x)+C$$\n",
    "$$\\int\\frac{1}{\\sin^2(x)}dx=-\\cot(x)+C, x\\neq k\\pi$$\n",
    "$$\\int\\sinh(x)dx=\\cosh(x)+C$$\n",
    "$$\\int\\frac{1}{\\cosh^2(x)}dx=\\tanh(x)+C$$\n",
    "$$\\int\\cosh(x)dx=\\sinh(x)+C$$\n",
    "$$\\int\\frac{1}{\\sinh^2(x)}dx=-\\coth(x)+C, x\\neq 0$$\n",
    "$$\\int\\frac{1}{1+x^2}dx=\\arctan(x)+C$$\n",
    "$$\\int\\frac{1}{\\sqrt{1-x^2}}dx=\\arcsin(x)+C, x\\in(-1, 1)$$\n"
   ]
  }
 ],
 "metadata": {
  "kernelspec": {
   "display_name": "Python 3.10.4 64-bit",
   "language": "python",
   "name": "python3"
  },
  "language_info": {
   "name": "python",
   "version": "3.10.4"
  },
  "orig_nbformat": 4,
  "vscode": {
   "interpreter": {
    "hash": "6847c98a8f86b01c6a19c518cd2f366693b80566b266804d5ca763cbb223f52b"
   }
  }
 },
 "nbformat": 4,
 "nbformat_minor": 2
}
