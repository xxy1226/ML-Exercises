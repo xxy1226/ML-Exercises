{
 "cells": [
  {
   "cell_type": "markdown",
   "metadata": {},
   "source": [
    "# 题目\n",
    "\n",
    "给定一个整数数组 `nums` 和一个整数目标值 `target`，请在该数组中找出 **和为目标值** `target` 的那 **两个** 整数，并返回它们的数组下标。\n",
    "\n",
    "可以假设每种输入只会对应一个答案。但是，数组中同一个元素在答案里不能重复出现。\n",
    "\n",
    "你可以按任意顺序返回答案。\n",
    "\n",
    "## 示例1：\n",
    "\n",
    "> 输入：  \n",
    "> nums = [2, 7, 11, 15]  \n",
    "> target = 9  \n",
    "> 输出：  \n",
    "> [0, 1]  \n",
    "> 解释：  \n",
    "> nums[0] + nums[1] == 9  \n",
    "\n",
    "## 示例2：\n",
    "\n",
    "> 输入：  \n",
    "> nums = [3, 2, 4]  \n",
    "> target = 6  \n",
    "> 输出：  \n",
    "> [1, 2]\n",
    "\n",
    "## 示例3：\n",
    "\n",
    "> 输入：  \n",
    "> nums = [3, 3]  \n",
    "> target = 5  \n",
    "> 输出：  \n",
    "> [0, 1]"
   ]
  },
  {
   "cell_type": "code",
   "execution_count": 2,
   "metadata": {},
   "outputs": [
    {
     "name": "stdout",
     "output_type": "stream",
     "text": [
      "[0, 1]\n",
      "[1, 2]\n",
      "[0, 1]\n",
      "time: 0.0010142326354980469\n"
     ]
    }
   ],
   "source": [
    "from time import time\n",
    "\n",
    "def sumup(nums: list, target: int) -> list:\n",
    "    for i in range(len(nums) - 1):\n",
    "        for j in range(len(nums))[i + 1:]:\n",
    "            if nums[i] + nums[j] == target: return [i, j]\n",
    "    return False\n",
    "\n",
    "st = time()\n",
    "print(sumup([2, 7, 11, 15], 9))\n",
    "print(sumup([3, 2, 4] , 6))\n",
    "print(sumup([3, 3], 6))\n",
    "en = time()\n",
    "print(\"time:\", en - st)"
   ]
  },
  {
   "cell_type": "code",
   "execution_count": 6,
   "metadata": {},
   "outputs": [
    {
     "name": "stdout",
     "output_type": "stream",
     "text": [
      "[2, 7, 11, 15]\n",
      "[0, 1, 2, 3]\n",
      "[3, 2, 4]\n",
      "[1, 0, 2]\n",
      "[3, 3]\n",
      "[0, 1]\n",
      "time: 0.0\n"
     ]
    }
   ],
   "source": [
    "from time import time\n",
    "\n",
    "def sumup(nums: list, target: int) -> list:\n",
    "    sort = sorted(range(len(nums)), key=lambda x:nums[x])\n",
    "    print(nums)\n",
    "    return sort\n",
    "\n",
    "st = time()\n",
    "print(sumup([2, 7, 11, 15], 9))\n",
    "print(sumup([3, 2, 4] , 6))\n",
    "print(sumup([3, 3], 6))\n",
    "en = time()\n",
    "print(\"time:\", en - st)"
   ]
  },
  {
   "cell_type": "markdown",
   "metadata": {},
   "source": [
    "给定一个整数数组 `nums` 和一个整数目标值 `target`，请在该数组中找出 **和为目标值** `target` 的那 **两个** 整数，并返回它们的数组下标。\n",
    "\n",
    "可以假设每种输入只会对应一个答案。但是，数组中同一个元素在答案里不能重复出现。\n",
    "\n",
    "你可以按任意顺序返回答案。\n",
    "\n",
    "## 示例1：\n",
    "\n",
    "> 输入：  \n",
    "> nums = [2, 7, 11, 15]  \n",
    "> target = 9  \n",
    "> 输出：  \n",
    "> [0, 1]  \n",
    "> 解释：  \n",
    "> nums[0] + nums[1] == 9  \n",
    "\n",
    "## 示例2：\n",
    "\n",
    "> 输入：  \n",
    "> nums = [3, 2, 4]  \n",
    "> target = 6  \n",
    "> 输出：  \n",
    "> [1, 2]\n",
    "\n",
    "## 示例3：\n",
    "\n",
    "> 输入：  \n",
    "> nums = [3, 3]  \n",
    "> target = 5  \n",
    "> 输出：  \n",
    "> [0, 1]"
   ]
  },
  {
   "cell_type": "code",
   "execution_count": 3,
   "metadata": {},
   "outputs": [
    {
     "name": "stdout",
     "output_type": "stream",
     "text": [
      "[0, 1]\n",
      "[1, 2]\n",
      "[0, 1]\n",
      "time: 0.0\n"
     ]
    }
   ],
   "source": [
    "from time import time\n",
    "\n",
    "def sumup(nums: list, target: int) -> list:  \n",
    "    rec = {}\n",
    "    for i in range(len(nums)):\n",
    "        another = target - nums[i]\n",
    "        if another in rec:\n",
    "            return [rec[another], i]\n",
    "        rec[nums[i]] = i\n",
    "    return -1\n",
    "\n",
    "st = time()  \n",
    "print(sumup([2, 7, 11, 15], 9)) # [0, 1]  \n",
    "print(sumup([3, 2, 4] , 6)) # [1, 2]    \n",
    "print(sumup([3, 3], 6)) # [0, 1]  \n",
    "en = time()  \n",
    "print(\"time:\", en - st)  "
   ]
  },
  {
   "cell_type": "markdown",
   "metadata": {},
   "source": [
    "from time import time\n",
    "\n",
    "def sumup(nums: list, target: int) -> list:  \n",
    "    pass  \n",
    "\n",
    "st = time()  \n",
    "print(sumup([2, 7, 11, 15], 9)) # [0, 1]  \n",
    "print(sumup([3, 2, 4] , 6)) # [1, 2]    \n",
    "print(sumup([3, 3], 6)) # [0, 1]  \n",
    "en = time()  \n",
    "print(\"time:\", en - st)  "
   ]
  }
 ],
 "metadata": {
  "kernelspec": {
   "display_name": "Python 3.9.12 ('base')",
   "language": "python",
   "name": "python3"
  },
  "language_info": {
   "codemirror_mode": {
    "name": "ipython",
    "version": 3
   },
   "file_extension": ".py",
   "mimetype": "text/x-python",
   "name": "python",
   "nbconvert_exporter": "python",
   "pygments_lexer": "ipython3",
   "version": "3.9.12"
  },
  "orig_nbformat": 4,
  "vscode": {
   "interpreter": {
    "hash": "ad2bdc8ecc057115af97d19610ffacc2b4e99fae6737bb82f5d7fb13d2f2c186"
   }
  }
 },
 "nbformat": 4,
 "nbformat_minor": 2
}
