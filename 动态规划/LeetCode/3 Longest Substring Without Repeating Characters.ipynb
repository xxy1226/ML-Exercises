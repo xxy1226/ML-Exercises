{
 "cells": [
  {
   "cell_type": "markdown",
   "metadata": {},
   "source": [
    "# 3. Longest Substring Without Repeating Characters\n",
    "Medium"
   ]
  },
  {
   "cell_type": "markdown",
   "metadata": {},
   "source": [
    "Given a string s, find the length of the longest substring without repeating characters."
   ]
  },
  {
   "cell_type": "markdown",
   "metadata": {},
   "source": [
    "**Example 1:**\n",
    "\n",
    "> Input: `s = \"abcabcbb\"`  \n",
    "> Output: `3`  \n",
    "> Explanation: The answer is \"abc\", with the length of 3.\n"
   ]
  },
  {
   "cell_type": "markdown",
   "metadata": {},
   "source": [
    "**Example 2:**\n",
    "\n",
    "> Input: `s = \"bbbbb\"`  \n",
    "> Output: `1`  \n",
    "> Explanation: The answer is \"b\", with the length of 1.\n"
   ]
  },
  {
   "cell_type": "markdown",
   "metadata": {},
   "source": [
    "**Example 3:**\n",
    "\n",
    "> Input: `s = \"pwwkew\"`  \n",
    "> Output: `3`  \n",
    "> Explanation: The answer is \"wke\", with the length of 3.  \n",
    "> Notice that the answer must be a substring, \"pwke\" is a subsequence and not a substring.\n"
   ]
  },
  {
   "cell_type": "markdown",
   "metadata": {},
   "source": [
    "**Constraints:**\n",
    "\n",
    "> 0 <= s.length <= 5 * 104  \n",
    "> s consists of English letters, digits, symbols and spaces.\n"
   ]
  },
  {
   "cell_type": "code",
   "execution_count": 13,
   "metadata": {},
   "outputs": [],
   "source": [
    "class Solution:\n",
    "    def lengthOfLongestSubstring(self, s: str) -> int:\n",
    "        min = 0\n",
    "        ans = \"\"\n",
    "        for i in range(1, len(s)):\n",
    "            if s[i] in s[min:i]:\n",
    "                if len(ans) < i-s.find(s[i]):\n",
    "                    ans = s[s.find(s[i])+1:i+1]\n",
    "                min = s.find(s[i])+1\n",
    "        return ans"
   ]
  },
  {
   "cell_type": "code",
   "execution_count": 14,
   "metadata": {},
   "outputs": [
    {
     "name": "stdout",
     "output_type": "stream",
     "text": [
      "wkew\n"
     ]
    }
   ],
   "source": [
    "s = \"pwwkew\"\n",
    "\n",
    "sol = Solution()\n",
    "print(sol.lengthOfLongestSubstring(s))"
   ]
  },
  {
   "cell_type": "code",
   "execution_count": null,
   "metadata": {},
   "outputs": [],
   "source": []
  }
 ],
 "metadata": {
  "kernelspec": {
   "display_name": "Python 3.9.12 ('base')",
   "language": "python",
   "name": "python3"
  },
  "language_info": {
   "codemirror_mode": {
    "name": "ipython",
    "version": 3
   },
   "file_extension": ".py",
   "mimetype": "text/x-python",
   "name": "python",
   "nbconvert_exporter": "python",
   "pygments_lexer": "ipython3",
   "version": "3.9.12"
  },
  "orig_nbformat": 4,
  "vscode": {
   "interpreter": {
    "hash": "ad2bdc8ecc057115af97d19610ffacc2b4e99fae6737bb82f5d7fb13d2f2c186"
   }
  }
 },
 "nbformat": 4,
 "nbformat_minor": 2
}
