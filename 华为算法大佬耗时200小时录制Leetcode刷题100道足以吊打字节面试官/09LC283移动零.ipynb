{
 "cells": [
  {
   "cell_type": "markdown",
   "metadata": {},
   "source": [
    "# 题目\n",
    "\n",
    "给定一个数组 `nums`，编写一个函数将所有 0 移动到数组的末尾，同时保持非零元素的相对顺序"
   ]
  },
  {
   "cell_type": "code",
   "execution_count": 2,
   "metadata": {},
   "outputs": [
    {
     "name": "stdout",
     "output_type": "stream",
     "text": [
      "[1, 3, 12, 0, 0]\n",
      "[1, 0, 0]\n"
     ]
    }
   ],
   "source": [
    "from time import time\n",
    "\n",
    "def moveZeroes(nums: list) -> None:\n",
    "    n = 0\n",
    "    for i in range(len(nums)):\n",
    "        if nums[i-n] == 0:\n",
    "            nums.pop(i-n)\n",
    "            nums.append(0)\n",
    "            n += 1\n",
    "\n",
    "st = time()\n",
    "nums = [0, 1, 0, 3, 12]\n",
    "moveZeroes(nums)\n",
    "print(nums)\n",
    "\n",
    "nums = [0,0,1]\n",
    "moveZeroes(nums)\n",
    "print(nums)\n",
    "en = time()"
   ]
  },
  {
   "cell_type": "markdown",
   "metadata": {},
   "source": [
    "# 练习\n",
    "\n",
    "给定一个数组 `nums`，编写一个函数将所有 0 移动到数组的末尾，同时保持非零元素的相对顺序"
   ]
  },
  {
   "cell_type": "code",
   "execution_count": 2,
   "metadata": {},
   "outputs": [
    {
     "name": "stdout",
     "output_type": "stream",
     "text": [
      "[1, 3, 12, 0, 0]\n",
      "[1, 0, 0]\n"
     ]
    }
   ],
   "source": [
    "from time import time\n",
    "\n",
    "def moveZeroes(nums: list) -> None:\n",
    "    n = 0\n",
    "    for i in range(len(nums)):\n",
    "        if nums[i - n] == 0:\n",
    "            nums.pop(i - n)\n",
    "            nums.append(0)\n",
    "            n += 1\n",
    "    pass\n",
    "\n",
    "st = time()\n",
    "nums = [0, 1, 0, 3, 12]\n",
    "moveZeroes(nums)\n",
    "print(nums)\n",
    "\n",
    "nums = [0,0,1]\n",
    "moveZeroes(nums)\n",
    "print(nums)\n",
    "en = time()"
   ]
  },
  {
   "cell_type": "code",
   "execution_count": null,
   "metadata": {},
   "outputs": [],
   "source": [
    "from time import time\n",
    "\n",
    "def moveZeroes(nums: list) -> None:\n",
    "    pass\n",
    "\n",
    "st = time()\n",
    "nums = [0, 1, 0, 3, 12]\n",
    "moveZeroes(nums)\n",
    "print(nums)\n",
    "\n",
    "nums = [0,0,1]\n",
    "moveZeroes(nums)\n",
    "print(nums)\n",
    "en = time()"
   ]
  }
 ],
 "metadata": {
  "kernelspec": {
   "display_name": "Python 3.9.12 ('base')",
   "language": "python",
   "name": "python3"
  },
  "language_info": {
   "codemirror_mode": {
    "name": "ipython",
    "version": 3
   },
   "file_extension": ".py",
   "mimetype": "text/x-python",
   "name": "python",
   "nbconvert_exporter": "python",
   "pygments_lexer": "ipython3",
   "version": "3.9.12"
  },
  "orig_nbformat": 4,
  "vscode": {
   "interpreter": {
    "hash": "ad2bdc8ecc057115af97d19610ffacc2b4e99fae6737bb82f5d7fb13d2f2c186"
   }
  }
 },
 "nbformat": 4,
 "nbformat_minor": 2
}
