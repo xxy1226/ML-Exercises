{
 "cells": [
  {
   "cell_type": "markdown",
   "metadata": {},
   "source": [
    "# 两个基本概念\n",
    "* 线性可分 Linear Separable\n",
    "* 线性不可分 Nonlinear Separable\n",
    "\n",
    "超过3维时的平面叫做**超平面 Hyperplane**\n",
    "\n"
   ]
  },
  {
   "cell_type": "markdown",
   "metadata": {},
   "source": [
    "# 用数学严格定义训练样本以及标签\n",
    "**假设**：  \n",
    "有 N 个训练样本和他们的标签  \n",
    "$\\{(X_1, y_1), (X_2, y_2),\\dots,(X_N, y_N)\\}$  \n",
    "其中, $X_i$ 是一个向量，包括各个维度方向上的值，$y_i$ 是一个标量，值为 +1 时表示一个类别，值为 -1 时表示另一个类别，这些都是人为规定的  \n",
    "$X_i = [x_{i1}, x_{i2}]^T$  \n",
    "$y_i = \\{+1, -1\\}$"
   ]
  },
  {
   "cell_type": "markdown",
   "metadata": {},
   "source": [
    "# 用数学严格的定义线性可分\n",
    "线性可分的严格定义：一个训练样本集 $\\{(X_i, y_i),\\dots,(x_N, y_N)\\}$，在 $i = 1 ~ N$ 线性可分，是指存在 $(\\omega_1, \\omega_2, b)$，使得对 $i = 1 ~ N$，有：\n",
    "1. 若 $y_i = +1$，则 $\\omega_1x_{i1} + \\omega_2x_{i2} + b > 0$\n",
    "2. 若 $y_i = -1$，则 $\\omega_1x_{i1} + \\omega_2x_{i2} + b < 0$"
   ]
  },
  {
   "cell_type": "markdown",
   "metadata": {},
   "source": [
    "# 用向量形式来定义线性可分\n",
    "假设：  \n",
    "${\\begin{aligned}X_i = \\begin{bmatrix} x_{i1}\\\\x_{i2} \\end{bmatrix}\\end{aligned}}^T     {\\begin{aligned}\\omega = \\begin{bmatrix} \\omega_1 \\\\ \\omega_2 \\end{bmatrix} \\end{aligned}}^T$ \n",
    "1. 若 $y_i = +1$，则 $\\omega^Tx_{i} + b > 0$\n",
    "2. 若 $y_i = -1$，则 $\\omega^Tx_{i} + b < 0$  \n",
    "统一这两个情况：  \n",
    "$y_i（\\omega^Tx_{i} + b） > 0$"
   ]
  },
  {
   "cell_type": "markdown",
   "metadata": {},
   "source": [
    "# 支持向量机 （线性可分）\n",
    "如果一个样本集是线性可分的，则存在无数个分割线/平面/超平面 "
   ]
  },
  {
   "cell_type": "markdown",
   "metadata": {},
   "source": [
    "## 优化\n",
    "将分割线/平面/超平面向两个方向平行移动直到碰到一个或数个样本，再观察两个与样本相交的分隔之间的距离，Margin 越大则越优化，同时该分隔线/平面/超平面离两边的距离应相等\n",
    "\n",
    "支持向量机寻找的最优分类直线应满足：\n",
    "1. 该直线分开了两类\n",
    "2. 该直线最大化**间隔 (Margin)**\n",
    "3. 该直线处于间隔的中间，到所有支持向量距离相等\n",
    "\n",
    "支持向量机需要寻找的是最大化**间隔 (Margin)**的超平面  \n",
    "\n",
    "最小化 (Minimize)，欧米伽膜的平方的一半: $\\frac{1}{2}\\begin{Vmatrix}\\omega\\end{Vmatrix}^2$  \n",
    "限制条件： $y_i(\\omega^Tx_i + b) ≥ 1, (i = 1 ~ N)$"
   ]
  },
  {
   "cell_type": "markdown",
   "metadata": {},
   "source": [
    "### 最小化 (Minimize): $\\frac{1}{2}\\begin{Vmatrix}\\omega\\end{Vmatrix}^2$\n",
    "$\\begin{aligned} \\omega = \\begin{bmatrix} \\omega_1 \\\\ \\omega_2 \\\\ \\vdots \\\\ \\omega_m \\end{bmatrix} \\end{aligned}$  \n",
    "\n",
    "$\\omega$ 是一个向量，包含 m 个分量，即 $\\omega_1$ 到 $\\omega_m$  \n",
    "\n",
    "$\\begin{Vmatrix}\\omega\\end{Vmatrix}^2 = \\omega_1^2 + \\omega_2^2 + \\dots + \\omega_m^2 = \\sum_{i = 1}^{m}{\\omega_i^2}$  \n",
    "\n",
    "定义欧米伽膜的平方按上述方式计算\n",
    "\n",
    "### 事实1\n",
    "$\\omega^Tx + b = 0$ 与 $(a\\omega^T)x + (ab) = 0$ 是同一个超平面。 (a ≠ 0)\n",
    "### 事实2\n",
    "一个点 $X_0$ 到超平面 $\\omega^Tx + b = 0$ 的距离  \n",
    "\n",
    "$d = \\frac{\\begin{vmatrix} \\omega^Tx_0 + b \\end{vmatrix}}{\\begin{Vmatrix} \\omega \\end{Vmatrix}}$  \n",
    "\n",
    "在二维平面中，一个点 $(x_0, y_0)$ 到超平面 $\\omega_1x_0 + \\omega_2y_0 + b = 0$ 的距离：  \n",
    "\n",
    "$d = \\frac{\\begin{vmatrix}\\omega_1x_0 + \\omega_2y_0 + b\\end{vmatrix}}{\\sqrt{\\omega_1^2+\\omega_2^2}}$"
   ]
  },
  {
   "cell_type": "markdown",
   "metadata": {},
   "source": [
    "## 重点理解：\n",
    "用 $a$ 去缩放 $\\omega b$  \n",
    "$(\\omega, b) \\rightarrow (a\\omega, ab)$\n",
    "最终使在支持向量 $x_0$ 上有 $\\begin{vmatrix} \\omega^Tx_0 + b \\end{vmatrix} = 1$，  \n",
    "而在非支持向量上 $\\begin{vmatrix} \\omega^Tx_0 + b \\end{vmatrix} > 1$\n",
    "\n",
    "$(\\omega, b)$ 表示的超平面和 $a(\\omega, ab)$ 表示的超平面是同一个平面\n",
    "根据**事实2**  \n",
    "$d = \\frac{\\begin{vmatrix} \\omega^Tx_0 + b \\end{vmatrix}}{\\begin{Vmatrix} \\omega \\end{Vmatrix}} = \\frac{1}{\\begin{Vmatrix} \\omega \\end{Vmatrix}}$ \n",
    "\n",
    "要最大化支持向量到超平面的距离，就是要最小化 $\\begin{Vmatrix} \\omega \\end{Vmatrix}$\n",
    "\n",
    "之所以写成最小化 (Minimize): $\\frac{1}{2}\\begin{Vmatrix}\\omega\\end{Vmatrix}^2$ 是因为之后求导会更方便\n",
    "\n",
    "线性可分情况下，支持向量机寻找最佳超平面的优化问题可以表示为：\n",
    "\n",
    "**凸优化 (Convex Optimization)**  \n",
    "\n",
    "最小化 (Minimize)，欧米伽膜的平方的一半: $\\frac{1}{2}\\begin{Vmatrix}\\omega\\end{Vmatrix}^2$  \n",
    "限制条件： $y_i(\\omega^Tx_i + b) ≥ 1, (i = 1 ~ N)$  \n",
    "$(X_i, y_i), i = 1 ~ N$ 是已知的， $(\\omega, b)$ 是待求的\n",
    "\n",
    "这是凸优化问题中的二次规划问题"
   ]
  },
  {
   "cell_type": "markdown",
   "metadata": {},
   "source": [
    "### 二次规划的定义\n",
    "1. **目标函数 (Objedtive Function)** 是二次项\n",
    "2. **限制条件**是一次项\n",
    "\n",
    "凸优化问题有唯一一个全局极值"
   ]
  },
  {
   "cell_type": "markdown",
   "metadata": {},
   "source": [
    "# 支持向量机 （线性不可分）\n",
    "如果一个样本集是线性不可分的，则不存在无数个分割线/平面/超平面。我们需要适当放松限制条件使之有解"
   ]
  },
  {
   "cell_type": "markdown",
   "metadata": {},
   "source": [
    "## 优化\n",
    "\n",
    "对每个训练样本及标签 $(X_i, y_i)$，设置 松弛变量 Slack Variable **$\\delta_i$** \n",
    "\n",
    "最小化 (Minimize): $\\frac{1}{2}\\begin{Vmatrix}\\omega\\end{Vmatrix}^2 + C\\sum_{i=1}^N\\delta_i$ 或 $\\frac{1}{2}\\begin{Vmatrix}\\omega\\end{Vmatrix}^2 + C\\sum_{i=1}^N\\delta_i^2$  \n",
    "限制条件：\n",
    "1. $\\delta_i ≥ 0, (i = 1 \\sim N)$\n",
    "2. $y_i(\\omega^TX_i + b) ≥ 1-\\delta_i, (i = 1 \\sim N)$\n",
    "\n",
    "所以：\n",
    "1. 和线性可分一样，最小化 $\\frac{1}{2}\\begin{Vmatrix}\\omega\\end{Vmatrix}^2$\n",
    "2. 最小化 $\\sum_{i=1}^N\\delta_i$\n",
    "\n",
    "比较：  \n",
    "线性可分时，目标函数只需要最小化 $\\frac{1}{2}\\begin{Vmatrix}\\omega\\end{Vmatrix}^2$  \n",
    "线性不可分时，增加了意向：所有$\\delta_i$的和\n",
    "\n",
    "比例因子C用来平衡两项，是人为设定的\n",
    "\n",
    "在一个算法中人为设定的参数叫做**算法的超参数(Hyper Parameter)**\n",
    "\n",
    "所以在实际操作时，我们会不断变化C的值，同时测试算法的识别率，最后选取使识别率达到最大的超参数C"
   ]
  },
  {
   "cell_type": "markdown",
   "metadata": {},
   "source": [
    "# 支持向量机（低维到高维的映射）\n",
    "\n",
    "看下图，在二维平面上不能用一条直线归类\n",
    "\n",
    "即线性不可分\n",
    "\n",
    "$\\begin{aligned} x_1 = \\begin{bmatrix} 0 \\\\ 0  \\end{bmatrix} \\end{aligned} \\in C_1$  \n",
    "$\\begin{aligned} x_2 = \\begin{bmatrix} 1 \\\\ 1  \\end{bmatrix} \\end{aligned} \\in C_1$  \n",
    "$\\begin{aligned} x_3 = \\begin{bmatrix} 1 \\\\ 0  \\end{bmatrix} \\end{aligned} \\in C_2$  \n",
    "$\\begin{aligned} x_4 = \\begin{bmatrix} 0 \\\\ 1  \\end{bmatrix} \\end{aligned} \\in C_2$"
   ]
  },
  {
   "cell_type": "code",
   "execution_count": 10,
   "metadata": {},
   "outputs": [
    {
     "data": {
      "image/png": "[encoded data removed]",
      "text/plain": [
       "<Figure size 432x288 with 1 Axes>"
      ]
     },
     "metadata": {
      "needs_background": "light"
     },
     "output_type": "display_data"
    }
   ],
   "source": [
    "import matplotlib.pyplot as plt\n",
    "import numpy as np\n",
    "\n",
    "xx = np.array([0.5, 1.5])\n",
    "xy = np.array([0.5, 1.5])\n",
    "\n",
    "ox = np.array([0.5, 1.5])\n",
    "oy = np.array([1.5, 0.5])\n",
    "\n",
    "plt.scatter(xx, xy, marker='x')\n",
    "plt.scatter(ox, oy, marker='o')\n",
    "plt.xlim([0, 2])\n",
    "plt.ylim([0, 2])\n",
    "plt.show()"
   ]
  },
  {
   "cell_type": "markdown",
   "metadata": {},
   "source": [
    "构造一个二维到五维的映射 $\\Phi(x)$\n",
    "\n",
    "$\\Phi(x): \\begin{aligned} x = \\begin{bmatrix} a \\\\ b \\end{bmatrix} \\end{aligned} \\Rightarrow \\begin{aligned} \\Phi(x) = \\begin{bmatrix} a^2 \\\\ b^2 \\\\ a \\\\ b \\\\ ab \\end{bmatrix} \\end{aligned}$\n",
    "\n",
    "由此映射算出：\n",
    "\n",
    "$\\begin{aligned} \\Phi(x_1) = \\begin{bmatrix} 0 \\\\ 0 \\\\ 0 \\\\ 0 \\\\ 0 \\end{bmatrix} \\end{aligned}  \\begin{aligned} \\Phi(x_2) = \\begin{bmatrix} 1 \\\\ 1 \\\\ 1 \\\\ 1 \\\\ 1 \\end{bmatrix} \\end{aligned} \\begin{aligned} \\Phi(x_3) = \\begin{bmatrix} 1 \\\\ 0 \\\\ 1 \\\\ 0 \\\\ 0 \\end{bmatrix} \\end{aligned} \\begin{aligned} \\Phi(x_4) = \\begin{bmatrix} 0 \\\\ 1 \\\\ 0 \\\\ 1 \\\\ 0 \\end{bmatrix} \\end{aligned}$\n",
    "\n",
    "设：  $\\begin{aligned} \\omega = \\begin{bmatrix} -1 \\\\ -1 \\\\ -1 \\\\ -1 \\\\ 6 \\end{bmatrix} \\end{aligned},  b = 1$  \n",
    "算出：  \n",
    "$\\omega^T\\Phi(x_1)+b = 1 ≥ 0$  \n",
    "$\\omega^T\\Phi(x_2)+b = 3 ≥ 0$  \n",
    "$\\omega^T\\Phi(x_3)+b = -1 < 0$  \n",
    "$\\omega^T\\Phi(x_1)+b = -1 < 0$  \n",
    "\n",
    "假设：在一个**M维空间**上随机取N个训练样本，随机的对每个训练样本赋予标签**+1**或**-1**  \n",
    "假设：这些训练样本线性可分的概率为P(M)  \n",
    "则有：当M趋于无穷大时，P(M)=1"
   ]
  },
  {
   "cell_type": "markdown",
   "metadata": {},
   "source": [
    "## 当$\\Phi(x)$已经确定后\n",
    "\n",
    "最小化 (Minimize): $\\frac{1}{2}\\begin{Vmatrix}\\omega\\end{Vmatrix}^2 + C\\sum_{i=1}^N\\delta_i$ 或 $\\frac{1}{2}\\begin{Vmatrix}\\omega\\end{Vmatrix}^2 + C\\sum_{i=1}^N\\delta_i^2$  \n",
    "限制条件：\n",
    "1. $\\delta_i ≥ 0, (i = 1 \\sim N)$\n",
    "2. $y_i(\\omega^T\\Phi(X_i) + b) ≥ 1-\\delta_i, (i = 1 \\sim N)$\n",
    "\n"
   ]
  },
  {
   "cell_type": "markdown",
   "metadata": {},
   "source": [
    "# 支持向量机（核函数的定义）\n",
    "\n",
    "核函数$\\Phi(X)$: Kernel Function\n",
    "\n",
    "支持向量机的创始人（Vladimir Naumovich Vapnik）指出，我们不用知道 $\\Phi(X)$的具体形式\n",
    "\n",
    "对两个向量，$K(X_1, X_2) = \\Phi(X_1)^T\\Phi(X_2)$\n",
    "\n",
    "就可以完成对测试样本的预测。这里$K(X_1, X_2)$是核函数"
   ]
  },
  {
   "cell_type": "markdown",
   "metadata": {},
   "source": [
    "## 核函数以及低维到高维的映射$\\Phi(X)$之间的相互关系。\n",
    "\n",
    "### 例1：\n",
    "\n",
    "假设：$\\Phi(X)$是一个将**二维向量**映射为**三维向量**的有映射\n",
    "\n",
    "$X = [x_1, x_2]^T$  \n",
    "$\\phi(X) = \\phi([x_1, x_2]^T) = [x_1^2, x_1x_2, x_2^2]$\n",
    "\n",
    "假设有两个二维向量：  \n",
    "$X_1 = [x_{11}, x_{12}]^T$ 和 $X_2 = [x_{21}, x_{22}]^T$,\n",
    "\n",
    "那么  \n",
    "$K(X_1, X_2) = \\phi(X_1)^T\\phi(X_2)$  \n",
    "$            = [x_{11}^2, x_{11}x_{12}, x_{12}^2][x_{21}^2, x_{21}x_{22}, x_{22}^2]^T$  \n",
    "$            = x_{11}^2x_{21}^2 + x_{11}x_{12}x_{21}x_{22} + x_{12}^2x_{22}^2$\n",
    "\n",
    "### 例2：\n",
    "\n",
    "假设有两个二维向量：  \n",
    "$X_1 = [x_{11}, x_{12}]^T$ 和 $X_2 = [x_{21}, x_{22}]^T$,\n",
    "\n",
    "假设：  \n",
    "$K(X_1, X_2) = (x_{11}x_{21} + x_{12}x_{22} + 1)^2$  \n",
    "$ = x_{11}^2x_{21}^2 + x_{12}^2x_{22}^2 + 1 + 2x_{11}x_{21}x_{12}x_{22} + 2x_{11}x_{21} + 2x_{12}x_{22}$  \n",
    "$ = \\phi(X_1)^T\\phi(X_2)$"
   ]
  }
 ],
 "metadata": {
  "interpreter": {
   "hash": "6847c98a8f86b01c6a19c518cd2f366693b80566b266804d5ca763cbb223f52b"
  },
  "kernelspec": {
   "display_name": "Python 3.10.4 64-bit",
   "language": "python",
   "name": "python3"
  },
  "language_info": {
   "codemirror_mode": {
    "name": "ipython",
    "version": 3
   },
   "file_extension": ".py",
   "mimetype": "text/x-python",
   "name": "python",
   "nbconvert_exporter": "python",
   "pygments_lexer": "ipython3",
   "version": "3.10.4"
  },
  "orig_nbformat": 4
 },
 "nbformat": 4,
 "nbformat_minor": 2
}
