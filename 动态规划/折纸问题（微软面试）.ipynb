{
 "cells": [
  {
   "cell_type": "markdown",
   "metadata": {},
   "source": []
  },
  {
   "cell_type": "code",
   "execution_count": 5,
   "metadata": {},
   "outputs": [
    {
     "name": "stdout",
     "output_type": "stream",
     "text": [
      "down\n",
      "down\n",
      "up\n",
      "down\n",
      "down\n",
      "up\n",
      "up\n",
      "down\n",
      "down\n",
      "down\n",
      "up\n",
      "up\n",
      "down\n",
      "up\n",
      "up\n"
     ]
    }
   ],
   "source": [
    "# 暴力递归\n",
    "def printFolders(N):\n",
    "    printProcess(1, N, True)\n",
    "\n",
    "def printProcess(i, N, down):\n",
    "    if i > N:\n",
    "        return\n",
    "    printProcess(i + 1, N, True)\n",
    "    print(\"down\" if down else \"up\")\n",
    "    printProcess(i + 1, N, False)\n",
    "\n",
    "N = 4\n",
    "printFolders(N)"
   ]
  },
  {
   "cell_type": "code",
   "execution_count": null,
   "metadata": {},
   "outputs": [],
   "source": [
    "\n"
   ]
  }
 ],
 "metadata": {
  "kernelspec": {
   "display_name": "Python 3.10.4 64-bit",
   "language": "python",
   "name": "python3"
  },
  "language_info": {
   "codemirror_mode": {
    "name": "ipython",
    "version": 3
   },
   "file_extension": ".py",
   "mimetype": "text/x-python",
   "name": "python",
   "nbconvert_exporter": "python",
   "pygments_lexer": "ipython3",
   "version": "3.10.4"
  },
  "orig_nbformat": 4,
  "vscode": {
   "interpreter": {
    "hash": "6847c98a8f86b01c6a19c518cd2f366693b80566b266804d5ca763cbb223f52b"
   }
  }
 },
 "nbformat": 4,
 "nbformat_minor": 2
}
